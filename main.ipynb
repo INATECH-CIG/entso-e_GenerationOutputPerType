{
 "cells": [
  {
   "cell_type": "markdown",
   "metadata": {},
   "source": [
    "# entso e Actual Generation per Type data"
   ]
  },
  {
   "cell_type": "markdown",
   "metadata": {},
   "source": [
    "In this Jupyter Notebook we importing the entso e Actual Generation per Type data from OPSD data processing"
   ]
  },
  {
   "cell_type": "markdown",
   "metadata": {},
   "source": [
    "## Data sources"
   ]
  },
  {
   "cell_type": "markdown",
   "metadata": {},
   "source": [
    "1. ENTSO-E Transparency Platform, Actual Generation per Type Available online: https://transparency.entsoe.eu/generation/r2/actualGenerationPerProductionType/show (accessed on Oct 02, 2020).\n",
    "\n",
    "Proccesed with OPSD time series scrips\n"
   ]
  },
  {
   "cell_type": "markdown",
   "metadata": {},
   "source": [
    "## Import python libraries"
   ]
  },
  {
   "cell_type": "code",
   "execution_count": 60,
   "metadata": {},
   "outputs": [],
   "source": [
    "import numpy as np\n",
    "import pandas as pd\n",
    "\n",
    "#Helpers\n",
    "import os\n",
    "import pycountry\n",
    "import glob\n",
    "from datetime import datetime, date, timedelta, time\n",
    "\n",
    "\n",
    "#Ploting\n",
    "import matplotlib.pyplot as plt\n",
    "import seaborn as sns\n",
    "\n",
    "\n",
    "%matplotlib inline\n",
    "plt.style.use('seaborn')\n",
    "plt.rcParams['figure.figsize'] = [15, 6]"
   ]
  },
  {
   "cell_type": "markdown",
   "metadata": {},
   "source": [
    "## Set data directories"
   ]
  },
  {
   "cell_type": "markdown",
   "metadata": {},
   "source": [
    "Create input, processed and output folders if they don't exist. If the paths are relative, the correspoding folders will be created inside the current working directory."
   ]
  },
  {
   "cell_type": "code",
   "execution_count": 4,
   "metadata": {},
   "outputs": [],
   "source": [
    "input_directory_path = os.path.join('input')\n",
    "processed_directory_path = 'processed'\n",
    "output_directory_path = os.path.join('output')\n",
    "\n",
    "os.makedirs(input_directory_path, exist_ok=True)\n",
    "os.makedirs(processed_directory_path, exist_ok=True)\n",
    "os.makedirs(output_directory_path, exist_ok=True)"
   ]
  },
  {
   "cell_type": "markdown",
   "metadata": {},
   "source": [
    "## Define functions¶"
   ]
  },
  {
   "cell_type": "code",
   "execution_count": 48,
   "metadata": {},
   "outputs": [],
   "source": [
    "# Import function\n",
    "\n",
    "def load_timeseries_opsd(years=None, fn=None, countries=None, source=\"ENTSOE_transparency\"):\n",
    "    \"\"\"\n",
    "    Read data from OPSD time-series package own modification.\n",
    "\n",
    "    Parameters\n",
    "    ----------\n",
    "    years : None or slice()\n",
    "        Years for which to read load data (defaults to\n",
    "        slice(\"2018\",\"2019\"))\n",
    "        \n",
    "    fn : file name or url location (file format .csv)\n",
    "    \n",
    "    countries : Countries for which to read load data.\n",
    "        \n",
    "    source : \"ENTSOE_transparency\" or \"ENTSOE_power_statistics\"\n",
    "\n",
    "    Returns\n",
    "    -------\n",
    "    load : pd.DataFrame\n",
    "        Load time-series with UTC timestamps x ISO-2 countries\n",
    "    \"\"\"\n",
    "\n",
    "     \n",
    "    if source == 'ENTSOE_transparency':\n",
    "        generation = (pd.read_csv(fn, index_col=[0], header=[0, 1, 2, 3, 4, 5], parse_dates=True)\n",
    "                    .dropna(how=\"all\", axis=0))\n",
    "        \n",
    "    else:\n",
    "        raise NotImplementedError(f\"Data for source `{source}` not available.\")\n",
    "    \n",
    "    \n",
    "    #generation = generation.rename(columns={'GB_UKM' : 'GB'}).filter(items=countries)\n",
    "       \n",
    "    \n",
    "    return generation"
   ]
  },
  {
   "cell_type": "code",
   "execution_count": 40,
   "metadata": {},
   "outputs": [],
   "source": [
    "def change_ProductionTypeName (entsoe_timeseries):\n",
    "    return entsoe_timeseries.ProductionTypeName.replace(\n",
    "                                {'Fossil Hard coal': 'Hard Coal',\n",
    "                                 'Fossil Brown coal/Lignite':'Lignite',\n",
    "                                 'Fossil Gas': 'Gas',\n",
    "                                 'Fossil Oil' : 'Other fossil',\n",
    "                                 'Fossil Coal-derived gas': 'Other fossil',\n",
    "                                 'Fossil Peat': 'Other fossil',\n",
    "                                 'Fossil Oil Shale' : 'Other fossil',\n",
    "                                 'Other' : 'Other fossil',\n",
    "                                 '.*Hydro.*': 'Hydro',\n",
    "                                 '.*Oil.*': 'Oil'\n",
    "                                 }, regex = True, inplace = True)"
   ]
  },
  {
   "cell_type": "markdown",
   "metadata": {},
   "source": [
    "## Set filter parameter"
   ]
  },
  {
   "cell_type": "code",
   "execution_count": 42,
   "metadata": {},
   "outputs": [
    {
     "ename": "IndentationError",
     "evalue": "unindent does not match any outer indentation level (<tokenize>, line 11)",
     "output_type": "error",
     "traceback": [
      "\u001b[1;36m  File \u001b[1;32m\"<tokenize>\"\u001b[1;36m, line \u001b[1;32m11\u001b[0m\n\u001b[1;33m    conventional:\u001b[0m\n\u001b[1;37m    ^\u001b[0m\n\u001b[1;31mIndentationError\u001b[0m\u001b[1;31m:\u001b[0m unindent does not match any outer indentation level\n"
     ]
    }
   ],
   "source": [
    "# Change the production type names\n",
    "new_ProductionTypeName = False\n",
    "\n",
    "\n",
    "renewables:\n",
    "            Solar: solar\n",
    "            Wind Onshore: wind_onshore\n",
    "            Wind Offshore: wind_offshore\n",
    "            Biomass: biomass\n",
    "            Other renewable: other_renewable\n",
    "        conventional:\n",
    "            Fossil Hard coal: hard_coal \n",
    "            Fossil Brown coal/Lignite: lignite \n",
    "            Fossil Gas: gas \n",
    "            Fossil Oil: other_fossil\n",
    "            Fossil Coal-derived gas: other_fossil\n",
    "            Fossil Peat: other_fossil\n",
    "            Fossil Oil Shale: other_fossil\n",
    "            Other: other_fossil\n",
    "            Hydro Pumped Storage: hydro\n",
    "            Hydro Run-of-river and poundage: hydro\n",
    "            Hydro Water Reservoir: hydro\n",
    "            Fossil Oil: oil\n",
    "            Fossil Oil shale: oil \n",
    "\n",
    "\n",
    "#old                        : new\n",
    "#------------------------------------------------\n",
    "#'Fossil Hard coal'         : 'Hard Coal',\n",
    "#'Fossil Brown coal/Lignite': 'Lignite',\n",
    "#'Fossil Gas'               : 'Gas',\n",
    "#'Fossil Oil'               : 'Other fossil',\n",
    "#'Fossil Coal-derived gas'  : 'Other fossil',\n",
    "#'Fossil Peat'              : 'Other fossil',\n",
    "#'Fossil Oil Shale'         : 'Other fossil',\n",
    "#'Other'                    : 'Other fossil',\n",
    "#'.*Hydro.*'                : 'Hydro',\n",
    "#'.*Oil.*'                  : 'Oil'\n",
    "\n",
    "# dataset period\n",
    "start = '2019-01-01'\n",
    "end = '2020-01-01'\n",
    "closed='left' # end is not included \n",
    "\n",
    "# test dataet about gaps, timedate and duplicates\n",
    "test_dataset = False\n",
    "\n",
    "# countries to analyze\n",
    "#countries = ['AT', 'BE', 'BG', 'CH', 'CZ', 'DE', 'DK', 'EE', 'ES', 'FI', 'FR', 'GB', 'GR', 'HR', 'HU', 'IE', 'IT', 'LT', 'LU', 'LV', 'ME', 'NL', 'NO', 'PL', 'PT', 'RO', 'RS', 'SE', 'SI', 'SK']\n",
    "\n",
    "#'AL', \n",
    "#missing in the data 'BA', 'MK'\n",
    "\n",
    "#Dic to convert between alpha 3 and alpha 2\n",
    "countries_dic = {}\n",
    "for country in pycountry.countries:\n",
    "    countries_dic[country.alpha_3] = country.alpha_2"
   ]
  },
  {
   "cell_type": "code",
   "execution_count": 43,
   "metadata": {},
   "outputs": [
    {
     "data": {
      "text/plain": [
       "'input'"
      ]
     },
     "execution_count": 43,
     "metadata": {},
     "output_type": "execute_result"
    }
   ],
   "source": [
    "input_directory_path"
   ]
  },
  {
   "cell_type": "markdown",
   "metadata": {},
   "source": [
    "## Load and filter data¶"
   ]
  },
  {
   "cell_type": "code",
   "execution_count": 44,
   "metadata": {},
   "outputs": [],
   "source": [
    "# load and standardize data\n",
    "\n",
    "entsoe_gen_type = load_timeseries_opsd(years=None, fn=input_directory_path + '/time_series_60min_multiindex.csv', countries=None, source=\"ENTSOE_transparency\")"
   ]
  },
  {
   "cell_type": "code",
   "execution_count": 73,
   "metadata": {},
   "outputs": [
    {
     "data": {
      "text/html": [
       "<div>\n",
       "<style scoped>\n",
       "    .dataframe tbody tr th:only-of-type {\n",
       "        vertical-align: middle;\n",
       "    }\n",
       "\n",
       "    .dataframe tbody tr th {\n",
       "        vertical-align: top;\n",
       "    }\n",
       "\n",
       "    .dataframe thead tr th {\n",
       "        text-align: left;\n",
       "    }\n",
       "\n",
       "    .dataframe thead tr:last-of-type th {\n",
       "        text-align: right;\n",
       "    }\n",
       "</style>\n",
       "<table border=\"1\" class=\"dataframe\">\n",
       "  <thead>\n",
       "    <tr>\n",
       "      <th>variable</th>\n",
       "      <th>biomass</th>\n",
       "      <th>gas</th>\n",
       "      <th>geothermal</th>\n",
       "      <th>hard_coal</th>\n",
       "      <th>hydro</th>\n",
       "      <th>lignite</th>\n",
       "      <th>nuclear</th>\n",
       "      <th>oil</th>\n",
       "      <th>other_fossil</th>\n",
       "      <th>other_renewable</th>\n",
       "      <th>solar</th>\n",
       "      <th>waste</th>\n",
       "      <th>wind_offshore</th>\n",
       "      <th>wind_onshore</th>\n",
       "    </tr>\n",
       "    <tr>\n",
       "      <th>attribute</th>\n",
       "      <th>generation_actual</th>\n",
       "      <th>generation_actual</th>\n",
       "      <th>generation_actual</th>\n",
       "      <th>generation_actual</th>\n",
       "      <th>generation_actual</th>\n",
       "      <th>generation_actual</th>\n",
       "      <th>generation_actual</th>\n",
       "      <th>generation_actual</th>\n",
       "      <th>generation_actual</th>\n",
       "      <th>generation_actual</th>\n",
       "      <th>generation_actual</th>\n",
       "      <th>generation_actual</th>\n",
       "      <th>generation_actual</th>\n",
       "      <th>generation_actual</th>\n",
       "    </tr>\n",
       "    <tr>\n",
       "      <th>source</th>\n",
       "      <th>own calculation based on ENTSO-E Transparency</th>\n",
       "      <th>own calculation based on ENTSO-E Transparency</th>\n",
       "      <th>own calculation based on ENTSO-E Transparency</th>\n",
       "      <th>own calculation based on ENTSO-E Transparency</th>\n",
       "      <th>own calculation based on ENTSO-E Transparency</th>\n",
       "      <th>own calculation based on ENTSO-E Transparency</th>\n",
       "      <th>own calculation based on ENTSO-E Transparency</th>\n",
       "      <th>own calculation based on ENTSO-E Transparency</th>\n",
       "      <th>own calculation based on ENTSO-E Transparency</th>\n",
       "      <th>own calculation based on ENTSO-E Transparency</th>\n",
       "      <th>own calculation based on ENTSO-E Transparency</th>\n",
       "      <th>own calculation based on ENTSO-E Transparency</th>\n",
       "      <th>own calculation based on ENTSO-E Transparency</th>\n",
       "      <th>own calculation based on ENTSO-E Transparency</th>\n",
       "    </tr>\n",
       "    <tr>\n",
       "      <th>web</th>\n",
       "      <th>https://transparency.entsoe.eu/generation/r2/actualGenerationPerProductionType/show</th>\n",
       "      <th>https://transparency.entsoe.eu/generation/r2/actualGenerationPerProductionType/show</th>\n",
       "      <th>https://transparency.entsoe.eu/generation/r2/actualGenerationPerProductionType/show</th>\n",
       "      <th>https://transparency.entsoe.eu/generation/r2/actualGenerationPerProductionType/show</th>\n",
       "      <th>https://transparency.entsoe.eu/generation/r2/actualGenerationPerProductionType/show</th>\n",
       "      <th>https://transparency.entsoe.eu/generation/r2/actualGenerationPerProductionType/show</th>\n",
       "      <th>https://transparency.entsoe.eu/generation/r2/actualGenerationPerProductionType/show</th>\n",
       "      <th>https://transparency.entsoe.eu/generation/r2/actualGenerationPerProductionType/show</th>\n",
       "      <th>https://transparency.entsoe.eu/generation/r2/actualGenerationPerProductionType/show</th>\n",
       "      <th>https://transparency.entsoe.eu/generation/r2/actualGenerationPerProductionType/show</th>\n",
       "      <th>https://transparency.entsoe.eu/generation/r2/actualGenerationPerProductionType/show</th>\n",
       "      <th>https://transparency.entsoe.eu/generation/r2/actualGenerationPerProductionType/show</th>\n",
       "      <th>https://transparency.entsoe.eu/generation/r2/actualGenerationPerProductionType/show</th>\n",
       "      <th>https://transparency.entsoe.eu/generation/r2/actualGenerationPerProductionType/show</th>\n",
       "    </tr>\n",
       "    <tr>\n",
       "      <th>unit</th>\n",
       "      <th>MW</th>\n",
       "      <th>MW</th>\n",
       "      <th>MW</th>\n",
       "      <th>MW</th>\n",
       "      <th>MW</th>\n",
       "      <th>MW</th>\n",
       "      <th>MW</th>\n",
       "      <th>MW</th>\n",
       "      <th>MW</th>\n",
       "      <th>MW</th>\n",
       "      <th>MW</th>\n",
       "      <th>MW</th>\n",
       "      <th>MW</th>\n",
       "      <th>MW</th>\n",
       "    </tr>\n",
       "    <tr>\n",
       "      <th>utc_timestamp</th>\n",
       "      <th></th>\n",
       "      <th></th>\n",
       "      <th></th>\n",
       "      <th></th>\n",
       "      <th></th>\n",
       "      <th></th>\n",
       "      <th></th>\n",
       "      <th></th>\n",
       "      <th></th>\n",
       "      <th></th>\n",
       "      <th></th>\n",
       "      <th></th>\n",
       "      <th></th>\n",
       "      <th></th>\n",
       "    </tr>\n",
       "  </thead>\n",
       "  <tbody>\n",
       "    <tr>\n",
       "      <th>2017-12-30 23:00:00+00:00</th>\n",
       "      <td>4808.0</td>\n",
       "      <td>571.0</td>\n",
       "      <td>4.0</td>\n",
       "      <td>715.0</td>\n",
       "      <td>1651.0</td>\n",
       "      <td>6420.0</td>\n",
       "      <td>8225.0</td>\n",
       "      <td>NaN</td>\n",
       "      <td>1130.0</td>\n",
       "      <td>157.0</td>\n",
       "      <td>NaN</td>\n",
       "      <td>596.0</td>\n",
       "      <td>3785.0</td>\n",
       "      <td>28201.0</td>\n",
       "    </tr>\n",
       "    <tr>\n",
       "      <th>2017-12-31 00:00:00+00:00</th>\n",
       "      <td>4790.0</td>\n",
       "      <td>580.0</td>\n",
       "      <td>4.0</td>\n",
       "      <td>705.0</td>\n",
       "      <td>1652.0</td>\n",
       "      <td>6343.0</td>\n",
       "      <td>8324.0</td>\n",
       "      <td>NaN</td>\n",
       "      <td>1529.0</td>\n",
       "      <td>157.0</td>\n",
       "      <td>NaN</td>\n",
       "      <td>581.0</td>\n",
       "      <td>3829.0</td>\n",
       "      <td>26590.0</td>\n",
       "    </tr>\n",
       "    <tr>\n",
       "      <th>2017-12-31 01:00:00+00:00</th>\n",
       "      <td>4792.0</td>\n",
       "      <td>590.0</td>\n",
       "      <td>4.0</td>\n",
       "      <td>691.0</td>\n",
       "      <td>1667.0</td>\n",
       "      <td>6349.0</td>\n",
       "      <td>8582.0</td>\n",
       "      <td>NaN</td>\n",
       "      <td>1546.0</td>\n",
       "      <td>157.0</td>\n",
       "      <td>NaN</td>\n",
       "      <td>570.0</td>\n",
       "      <td>3393.0</td>\n",
       "      <td>24141.0</td>\n",
       "    </tr>\n",
       "    <tr>\n",
       "      <th>2017-12-31 02:00:00+00:00</th>\n",
       "      <td>4786.0</td>\n",
       "      <td>609.0</td>\n",
       "      <td>4.0</td>\n",
       "      <td>690.0</td>\n",
       "      <td>1670.0</td>\n",
       "      <td>6386.0</td>\n",
       "      <td>8690.0</td>\n",
       "      <td>NaN</td>\n",
       "      <td>2089.0</td>\n",
       "      <td>157.0</td>\n",
       "      <td>NaN</td>\n",
       "      <td>570.0</td>\n",
       "      <td>2609.0</td>\n",
       "      <td>21310.0</td>\n",
       "    </tr>\n",
       "    <tr>\n",
       "      <th>2017-12-31 03:00:00+00:00</th>\n",
       "      <td>4776.0</td>\n",
       "      <td>631.0</td>\n",
       "      <td>4.0</td>\n",
       "      <td>694.0</td>\n",
       "      <td>1680.0</td>\n",
       "      <td>6409.0</td>\n",
       "      <td>9123.0</td>\n",
       "      <td>NaN</td>\n",
       "      <td>1848.0</td>\n",
       "      <td>157.0</td>\n",
       "      <td>NaN</td>\n",
       "      <td>572.0</td>\n",
       "      <td>1807.0</td>\n",
       "      <td>19724.0</td>\n",
       "    </tr>\n",
       "    <tr>\n",
       "      <th>...</th>\n",
       "      <td>...</td>\n",
       "      <td>...</td>\n",
       "      <td>...</td>\n",
       "      <td>...</td>\n",
       "      <td>...</td>\n",
       "      <td>...</td>\n",
       "      <td>...</td>\n",
       "      <td>...</td>\n",
       "      <td>...</td>\n",
       "      <td>...</td>\n",
       "      <td>...</td>\n",
       "      <td>...</td>\n",
       "      <td>...</td>\n",
       "      <td>...</td>\n",
       "    </tr>\n",
       "    <tr>\n",
       "      <th>2018-12-31 19:00:00+00:00</th>\n",
       "      <td>4969.0</td>\n",
       "      <td>3304.0</td>\n",
       "      <td>3.0</td>\n",
       "      <td>2983.0</td>\n",
       "      <td>1415.0</td>\n",
       "      <td>10627.0</td>\n",
       "      <td>9103.0</td>\n",
       "      <td>467.0</td>\n",
       "      <td>520.0</td>\n",
       "      <td>117.0</td>\n",
       "      <td>NaN</td>\n",
       "      <td>769.0</td>\n",
       "      <td>4052.0</td>\n",
       "      <td>13535.0</td>\n",
       "    </tr>\n",
       "    <tr>\n",
       "      <th>2018-12-31 20:00:00+00:00</th>\n",
       "      <td>4982.0</td>\n",
       "      <td>3047.0</td>\n",
       "      <td>3.0</td>\n",
       "      <td>2427.0</td>\n",
       "      <td>1398.0</td>\n",
       "      <td>10482.0</td>\n",
       "      <td>9028.0</td>\n",
       "      <td>469.0</td>\n",
       "      <td>473.0</td>\n",
       "      <td>117.0</td>\n",
       "      <td>NaN</td>\n",
       "      <td>766.0</td>\n",
       "      <td>4067.0</td>\n",
       "      <td>14805.0</td>\n",
       "    </tr>\n",
       "    <tr>\n",
       "      <th>2018-12-31 21:00:00+00:00</th>\n",
       "      <td>4962.0</td>\n",
       "      <td>3073.0</td>\n",
       "      <td>3.0</td>\n",
       "      <td>2751.0</td>\n",
       "      <td>1332.0</td>\n",
       "      <td>9881.0</td>\n",
       "      <td>8972.0</td>\n",
       "      <td>470.0</td>\n",
       "      <td>449.0</td>\n",
       "      <td>117.0</td>\n",
       "      <td>NaN</td>\n",
       "      <td>764.0</td>\n",
       "      <td>3746.0</td>\n",
       "      <td>16524.0</td>\n",
       "    </tr>\n",
       "    <tr>\n",
       "      <th>2018-12-31 22:00:00+00:00</th>\n",
       "      <td>4945.0</td>\n",
       "      <td>2859.0</td>\n",
       "      <td>3.0</td>\n",
       "      <td>3135.0</td>\n",
       "      <td>824.0</td>\n",
       "      <td>8604.0</td>\n",
       "      <td>9047.0</td>\n",
       "      <td>470.0</td>\n",
       "      <td>417.0</td>\n",
       "      <td>117.0</td>\n",
       "      <td>NaN</td>\n",
       "      <td>767.0</td>\n",
       "      <td>3103.0</td>\n",
       "      <td>18302.0</td>\n",
       "    </tr>\n",
       "    <tr>\n",
       "      <th>2018-12-31 23:00:00+00:00</th>\n",
       "      <td>4929.0</td>\n",
       "      <td>2423.0</td>\n",
       "      <td>3.0</td>\n",
       "      <td>2506.0</td>\n",
       "      <td>98.0</td>\n",
       "      <td>6485.0</td>\n",
       "      <td>9013.0</td>\n",
       "      <td>483.0</td>\n",
       "      <td>383.0</td>\n",
       "      <td>107.0</td>\n",
       "      <td>NaN</td>\n",
       "      <td>763.0</td>\n",
       "      <td>3175.0</td>\n",
       "      <td>19742.0</td>\n",
       "    </tr>\n",
       "  </tbody>\n",
       "</table>\n",
       "<p>8785 rows × 14 columns</p>\n",
       "</div>"
      ],
      "text/plain": [
       "variable                                                                                              biomass  \\\n",
       "attribute                                                                                   generation_actual   \n",
       "source                                                          own calculation based on ENTSO-E Transparency   \n",
       "web                       https://transparency.entsoe.eu/generation/r2/actualGenerationPerProductionType/show   \n",
       "unit                                                                                                       MW   \n",
       "utc_timestamp                                                                                                   \n",
       "2017-12-30 23:00:00+00:00                                             4808.0                                    \n",
       "2017-12-31 00:00:00+00:00                                             4790.0                                    \n",
       "2017-12-31 01:00:00+00:00                                             4792.0                                    \n",
       "2017-12-31 02:00:00+00:00                                             4786.0                                    \n",
       "2017-12-31 03:00:00+00:00                                             4776.0                                    \n",
       "...                                                                                                       ...   \n",
       "2018-12-31 19:00:00+00:00                                             4969.0                                    \n",
       "2018-12-31 20:00:00+00:00                                             4982.0                                    \n",
       "2018-12-31 21:00:00+00:00                                             4962.0                                    \n",
       "2018-12-31 22:00:00+00:00                                             4945.0                                    \n",
       "2018-12-31 23:00:00+00:00                                             4929.0                                    \n",
       "\n",
       "variable                                                                                                  gas  \\\n",
       "attribute                                                                                   generation_actual   \n",
       "source                                                          own calculation based on ENTSO-E Transparency   \n",
       "web                       https://transparency.entsoe.eu/generation/r2/actualGenerationPerProductionType/show   \n",
       "unit                                                                                                       MW   \n",
       "utc_timestamp                                                                                                   \n",
       "2017-12-30 23:00:00+00:00                                              571.0                                    \n",
       "2017-12-31 00:00:00+00:00                                              580.0                                    \n",
       "2017-12-31 01:00:00+00:00                                              590.0                                    \n",
       "2017-12-31 02:00:00+00:00                                              609.0                                    \n",
       "2017-12-31 03:00:00+00:00                                              631.0                                    \n",
       "...                                                                                                       ...   \n",
       "2018-12-31 19:00:00+00:00                                             3304.0                                    \n",
       "2018-12-31 20:00:00+00:00                                             3047.0                                    \n",
       "2018-12-31 21:00:00+00:00                                             3073.0                                    \n",
       "2018-12-31 22:00:00+00:00                                             2859.0                                    \n",
       "2018-12-31 23:00:00+00:00                                             2423.0                                    \n",
       "\n",
       "variable                                                                                           geothermal  \\\n",
       "attribute                                                                                   generation_actual   \n",
       "source                                                          own calculation based on ENTSO-E Transparency   \n",
       "web                       https://transparency.entsoe.eu/generation/r2/actualGenerationPerProductionType/show   \n",
       "unit                                                                                                       MW   \n",
       "utc_timestamp                                                                                                   \n",
       "2017-12-30 23:00:00+00:00                                                4.0                                    \n",
       "2017-12-31 00:00:00+00:00                                                4.0                                    \n",
       "2017-12-31 01:00:00+00:00                                                4.0                                    \n",
       "2017-12-31 02:00:00+00:00                                                4.0                                    \n",
       "2017-12-31 03:00:00+00:00                                                4.0                                    \n",
       "...                                                                                                       ...   \n",
       "2018-12-31 19:00:00+00:00                                                3.0                                    \n",
       "2018-12-31 20:00:00+00:00                                                3.0                                    \n",
       "2018-12-31 21:00:00+00:00                                                3.0                                    \n",
       "2018-12-31 22:00:00+00:00                                                3.0                                    \n",
       "2018-12-31 23:00:00+00:00                                                3.0                                    \n",
       "\n",
       "variable                                                                                            hard_coal  \\\n",
       "attribute                                                                                   generation_actual   \n",
       "source                                                          own calculation based on ENTSO-E Transparency   \n",
       "web                       https://transparency.entsoe.eu/generation/r2/actualGenerationPerProductionType/show   \n",
       "unit                                                                                                       MW   \n",
       "utc_timestamp                                                                                                   \n",
       "2017-12-30 23:00:00+00:00                                              715.0                                    \n",
       "2017-12-31 00:00:00+00:00                                              705.0                                    \n",
       "2017-12-31 01:00:00+00:00                                              691.0                                    \n",
       "2017-12-31 02:00:00+00:00                                              690.0                                    \n",
       "2017-12-31 03:00:00+00:00                                              694.0                                    \n",
       "...                                                                                                       ...   \n",
       "2018-12-31 19:00:00+00:00                                             2983.0                                    \n",
       "2018-12-31 20:00:00+00:00                                             2427.0                                    \n",
       "2018-12-31 21:00:00+00:00                                             2751.0                                    \n",
       "2018-12-31 22:00:00+00:00                                             3135.0                                    \n",
       "2018-12-31 23:00:00+00:00                                             2506.0                                    \n",
       "\n",
       "variable                                                                                                hydro  \\\n",
       "attribute                                                                                   generation_actual   \n",
       "source                                                          own calculation based on ENTSO-E Transparency   \n",
       "web                       https://transparency.entsoe.eu/generation/r2/actualGenerationPerProductionType/show   \n",
       "unit                                                                                                       MW   \n",
       "utc_timestamp                                                                                                   \n",
       "2017-12-30 23:00:00+00:00                                             1651.0                                    \n",
       "2017-12-31 00:00:00+00:00                                             1652.0                                    \n",
       "2017-12-31 01:00:00+00:00                                             1667.0                                    \n",
       "2017-12-31 02:00:00+00:00                                             1670.0                                    \n",
       "2017-12-31 03:00:00+00:00                                             1680.0                                    \n",
       "...                                                                                                       ...   \n",
       "2018-12-31 19:00:00+00:00                                             1415.0                                    \n",
       "2018-12-31 20:00:00+00:00                                             1398.0                                    \n",
       "2018-12-31 21:00:00+00:00                                             1332.0                                    \n",
       "2018-12-31 22:00:00+00:00                                              824.0                                    \n",
       "2018-12-31 23:00:00+00:00                                               98.0                                    \n",
       "\n",
       "variable                                                                                              lignite  \\\n",
       "attribute                                                                                   generation_actual   \n",
       "source                                                          own calculation based on ENTSO-E Transparency   \n",
       "web                       https://transparency.entsoe.eu/generation/r2/actualGenerationPerProductionType/show   \n",
       "unit                                                                                                       MW   \n",
       "utc_timestamp                                                                                                   \n",
       "2017-12-30 23:00:00+00:00                                             6420.0                                    \n",
       "2017-12-31 00:00:00+00:00                                             6343.0                                    \n",
       "2017-12-31 01:00:00+00:00                                             6349.0                                    \n",
       "2017-12-31 02:00:00+00:00                                             6386.0                                    \n",
       "2017-12-31 03:00:00+00:00                                             6409.0                                    \n",
       "...                                                                                                       ...   \n",
       "2018-12-31 19:00:00+00:00                                            10627.0                                    \n",
       "2018-12-31 20:00:00+00:00                                            10482.0                                    \n",
       "2018-12-31 21:00:00+00:00                                             9881.0                                    \n",
       "2018-12-31 22:00:00+00:00                                             8604.0                                    \n",
       "2018-12-31 23:00:00+00:00                                             6485.0                                    \n",
       "\n",
       "variable                                                                                              nuclear  \\\n",
       "attribute                                                                                   generation_actual   \n",
       "source                                                          own calculation based on ENTSO-E Transparency   \n",
       "web                       https://transparency.entsoe.eu/generation/r2/actualGenerationPerProductionType/show   \n",
       "unit                                                                                                       MW   \n",
       "utc_timestamp                                                                                                   \n",
       "2017-12-30 23:00:00+00:00                                             8225.0                                    \n",
       "2017-12-31 00:00:00+00:00                                             8324.0                                    \n",
       "2017-12-31 01:00:00+00:00                                             8582.0                                    \n",
       "2017-12-31 02:00:00+00:00                                             8690.0                                    \n",
       "2017-12-31 03:00:00+00:00                                             9123.0                                    \n",
       "...                                                                                                       ...   \n",
       "2018-12-31 19:00:00+00:00                                             9103.0                                    \n",
       "2018-12-31 20:00:00+00:00                                             9028.0                                    \n",
       "2018-12-31 21:00:00+00:00                                             8972.0                                    \n",
       "2018-12-31 22:00:00+00:00                                             9047.0                                    \n",
       "2018-12-31 23:00:00+00:00                                             9013.0                                    \n",
       "\n",
       "variable                                                                                                  oil  \\\n",
       "attribute                                                                                   generation_actual   \n",
       "source                                                          own calculation based on ENTSO-E Transparency   \n",
       "web                       https://transparency.entsoe.eu/generation/r2/actualGenerationPerProductionType/show   \n",
       "unit                                                                                                       MW   \n",
       "utc_timestamp                                                                                                   \n",
       "2017-12-30 23:00:00+00:00                                                NaN                                    \n",
       "2017-12-31 00:00:00+00:00                                                NaN                                    \n",
       "2017-12-31 01:00:00+00:00                                                NaN                                    \n",
       "2017-12-31 02:00:00+00:00                                                NaN                                    \n",
       "2017-12-31 03:00:00+00:00                                                NaN                                    \n",
       "...                                                                                                       ...   \n",
       "2018-12-31 19:00:00+00:00                                              467.0                                    \n",
       "2018-12-31 20:00:00+00:00                                              469.0                                    \n",
       "2018-12-31 21:00:00+00:00                                              470.0                                    \n",
       "2018-12-31 22:00:00+00:00                                              470.0                                    \n",
       "2018-12-31 23:00:00+00:00                                              483.0                                    \n",
       "\n",
       "variable                                                                                         other_fossil  \\\n",
       "attribute                                                                                   generation_actual   \n",
       "source                                                          own calculation based on ENTSO-E Transparency   \n",
       "web                       https://transparency.entsoe.eu/generation/r2/actualGenerationPerProductionType/show   \n",
       "unit                                                                                                       MW   \n",
       "utc_timestamp                                                                                                   \n",
       "2017-12-30 23:00:00+00:00                                             1130.0                                    \n",
       "2017-12-31 00:00:00+00:00                                             1529.0                                    \n",
       "2017-12-31 01:00:00+00:00                                             1546.0                                    \n",
       "2017-12-31 02:00:00+00:00                                             2089.0                                    \n",
       "2017-12-31 03:00:00+00:00                                             1848.0                                    \n",
       "...                                                                                                       ...   \n",
       "2018-12-31 19:00:00+00:00                                              520.0                                    \n",
       "2018-12-31 20:00:00+00:00                                              473.0                                    \n",
       "2018-12-31 21:00:00+00:00                                              449.0                                    \n",
       "2018-12-31 22:00:00+00:00                                              417.0                                    \n",
       "2018-12-31 23:00:00+00:00                                              383.0                                    \n",
       "\n",
       "variable                                                                                      other_renewable  \\\n",
       "attribute                                                                                   generation_actual   \n",
       "source                                                          own calculation based on ENTSO-E Transparency   \n",
       "web                       https://transparency.entsoe.eu/generation/r2/actualGenerationPerProductionType/show   \n",
       "unit                                                                                                       MW   \n",
       "utc_timestamp                                                                                                   \n",
       "2017-12-30 23:00:00+00:00                                              157.0                                    \n",
       "2017-12-31 00:00:00+00:00                                              157.0                                    \n",
       "2017-12-31 01:00:00+00:00                                              157.0                                    \n",
       "2017-12-31 02:00:00+00:00                                              157.0                                    \n",
       "2017-12-31 03:00:00+00:00                                              157.0                                    \n",
       "...                                                                                                       ...   \n",
       "2018-12-31 19:00:00+00:00                                              117.0                                    \n",
       "2018-12-31 20:00:00+00:00                                              117.0                                    \n",
       "2018-12-31 21:00:00+00:00                                              117.0                                    \n",
       "2018-12-31 22:00:00+00:00                                              117.0                                    \n",
       "2018-12-31 23:00:00+00:00                                              107.0                                    \n",
       "\n",
       "variable                                                                                                solar  \\\n",
       "attribute                                                                                   generation_actual   \n",
       "source                                                          own calculation based on ENTSO-E Transparency   \n",
       "web                       https://transparency.entsoe.eu/generation/r2/actualGenerationPerProductionType/show   \n",
       "unit                                                                                                       MW   \n",
       "utc_timestamp                                                                                                   \n",
       "2017-12-30 23:00:00+00:00                                                NaN                                    \n",
       "2017-12-31 00:00:00+00:00                                                NaN                                    \n",
       "2017-12-31 01:00:00+00:00                                                NaN                                    \n",
       "2017-12-31 02:00:00+00:00                                                NaN                                    \n",
       "2017-12-31 03:00:00+00:00                                                NaN                                    \n",
       "...                                                                                                       ...   \n",
       "2018-12-31 19:00:00+00:00                                                NaN                                    \n",
       "2018-12-31 20:00:00+00:00                                                NaN                                    \n",
       "2018-12-31 21:00:00+00:00                                                NaN                                    \n",
       "2018-12-31 22:00:00+00:00                                                NaN                                    \n",
       "2018-12-31 23:00:00+00:00                                                NaN                                    \n",
       "\n",
       "variable                                                                                                waste  \\\n",
       "attribute                                                                                   generation_actual   \n",
       "source                                                          own calculation based on ENTSO-E Transparency   \n",
       "web                       https://transparency.entsoe.eu/generation/r2/actualGenerationPerProductionType/show   \n",
       "unit                                                                                                       MW   \n",
       "utc_timestamp                                                                                                   \n",
       "2017-12-30 23:00:00+00:00                                              596.0                                    \n",
       "2017-12-31 00:00:00+00:00                                              581.0                                    \n",
       "2017-12-31 01:00:00+00:00                                              570.0                                    \n",
       "2017-12-31 02:00:00+00:00                                              570.0                                    \n",
       "2017-12-31 03:00:00+00:00                                              572.0                                    \n",
       "...                                                                                                       ...   \n",
       "2018-12-31 19:00:00+00:00                                              769.0                                    \n",
       "2018-12-31 20:00:00+00:00                                              766.0                                    \n",
       "2018-12-31 21:00:00+00:00                                              764.0                                    \n",
       "2018-12-31 22:00:00+00:00                                              767.0                                    \n",
       "2018-12-31 23:00:00+00:00                                              763.0                                    \n",
       "\n",
       "variable                                                                                        wind_offshore  \\\n",
       "attribute                                                                                   generation_actual   \n",
       "source                                                          own calculation based on ENTSO-E Transparency   \n",
       "web                       https://transparency.entsoe.eu/generation/r2/actualGenerationPerProductionType/show   \n",
       "unit                                                                                                       MW   \n",
       "utc_timestamp                                                                                                   \n",
       "2017-12-30 23:00:00+00:00                                             3785.0                                    \n",
       "2017-12-31 00:00:00+00:00                                             3829.0                                    \n",
       "2017-12-31 01:00:00+00:00                                             3393.0                                    \n",
       "2017-12-31 02:00:00+00:00                                             2609.0                                    \n",
       "2017-12-31 03:00:00+00:00                                             1807.0                                    \n",
       "...                                                                                                       ...   \n",
       "2018-12-31 19:00:00+00:00                                             4052.0                                    \n",
       "2018-12-31 20:00:00+00:00                                             4067.0                                    \n",
       "2018-12-31 21:00:00+00:00                                             3746.0                                    \n",
       "2018-12-31 22:00:00+00:00                                             3103.0                                    \n",
       "2018-12-31 23:00:00+00:00                                             3175.0                                    \n",
       "\n",
       "variable                                                                                         wind_onshore  \n",
       "attribute                                                                                   generation_actual  \n",
       "source                                                          own calculation based on ENTSO-E Transparency  \n",
       "web                       https://transparency.entsoe.eu/generation/r2/actualGenerationPerProductionType/show  \n",
       "unit                                                                                                       MW  \n",
       "utc_timestamp                                                                                                  \n",
       "2017-12-30 23:00:00+00:00                                            28201.0                                   \n",
       "2017-12-31 00:00:00+00:00                                            26590.0                                   \n",
       "2017-12-31 01:00:00+00:00                                            24141.0                                   \n",
       "2017-12-31 02:00:00+00:00                                            21310.0                                   \n",
       "2017-12-31 03:00:00+00:00                                            19724.0                                   \n",
       "...                                                                                                       ...  \n",
       "2018-12-31 19:00:00+00:00                                            13535.0                                   \n",
       "2018-12-31 20:00:00+00:00                                            14805.0                                   \n",
       "2018-12-31 21:00:00+00:00                                            16524.0                                   \n",
       "2018-12-31 22:00:00+00:00                                            18302.0                                   \n",
       "2018-12-31 23:00:00+00:00                                            19742.0                                   \n",
       "\n",
       "[8785 rows x 14 columns]"
      ]
     },
     "execution_count": 73,
     "metadata": {},
     "output_type": "execute_result"
    }
   ],
   "source": [
    "DE = entsoe_gen_type['DE']\n",
    "DE"
   ]
  },
  {
   "cell_type": "code",
   "execution_count": 75,
   "metadata": {},
   "outputs": [
    {
     "data": {
      "text/html": [
       "<div>\n",
       "<style scoped>\n",
       "    .dataframe tbody tr th:only-of-type {\n",
       "        vertical-align: middle;\n",
       "    }\n",
       "\n",
       "    .dataframe tbody tr th {\n",
       "        vertical-align: top;\n",
       "    }\n",
       "\n",
       "    .dataframe thead tr th {\n",
       "        text-align: left;\n",
       "    }\n",
       "\n",
       "    .dataframe thead tr:last-of-type th {\n",
       "        text-align: right;\n",
       "    }\n",
       "</style>\n",
       "<table border=\"1\" class=\"dataframe\">\n",
       "  <thead>\n",
       "    <tr>\n",
       "      <th>attribute</th>\n",
       "      <th>generation_actual</th>\n",
       "    </tr>\n",
       "    <tr>\n",
       "      <th>source</th>\n",
       "      <th>own calculation based on ENTSO-E Transparency</th>\n",
       "    </tr>\n",
       "    <tr>\n",
       "      <th>web</th>\n",
       "      <th>https://transparency.entsoe.eu/generation/r2/actualGenerationPerProductionType/show</th>\n",
       "    </tr>\n",
       "    <tr>\n",
       "      <th>unit</th>\n",
       "      <th>MW</th>\n",
       "    </tr>\n",
       "    <tr>\n",
       "      <th>utc_timestamp</th>\n",
       "      <th></th>\n",
       "    </tr>\n",
       "  </thead>\n",
       "  <tbody>\n",
       "    <tr>\n",
       "      <th>2017-12-30 23:00:00+00:00</th>\n",
       "      <td>571.0</td>\n",
       "    </tr>\n",
       "    <tr>\n",
       "      <th>2017-12-31 00:00:00+00:00</th>\n",
       "      <td>580.0</td>\n",
       "    </tr>\n",
       "    <tr>\n",
       "      <th>2017-12-31 01:00:00+00:00</th>\n",
       "      <td>590.0</td>\n",
       "    </tr>\n",
       "    <tr>\n",
       "      <th>2017-12-31 02:00:00+00:00</th>\n",
       "      <td>609.0</td>\n",
       "    </tr>\n",
       "    <tr>\n",
       "      <th>2017-12-31 03:00:00+00:00</th>\n",
       "      <td>631.0</td>\n",
       "    </tr>\n",
       "    <tr>\n",
       "      <th>...</th>\n",
       "      <td>...</td>\n",
       "    </tr>\n",
       "    <tr>\n",
       "      <th>2018-12-31 19:00:00+00:00</th>\n",
       "      <td>3304.0</td>\n",
       "    </tr>\n",
       "    <tr>\n",
       "      <th>2018-12-31 20:00:00+00:00</th>\n",
       "      <td>3047.0</td>\n",
       "    </tr>\n",
       "    <tr>\n",
       "      <th>2018-12-31 21:00:00+00:00</th>\n",
       "      <td>3073.0</td>\n",
       "    </tr>\n",
       "    <tr>\n",
       "      <th>2018-12-31 22:00:00+00:00</th>\n",
       "      <td>2859.0</td>\n",
       "    </tr>\n",
       "    <tr>\n",
       "      <th>2018-12-31 23:00:00+00:00</th>\n",
       "      <td>2423.0</td>\n",
       "    </tr>\n",
       "  </tbody>\n",
       "</table>\n",
       "<p>8785 rows × 1 columns</p>\n",
       "</div>"
      ],
      "text/plain": [
       "attribute                                                                                   generation_actual\n",
       "source                                                          own calculation based on ENTSO-E Transparency\n",
       "web                       https://transparency.entsoe.eu/generation/r2/actualGenerationPerProductionType/show\n",
       "unit                                                                                                       MW\n",
       "utc_timestamp                                                                                                \n",
       "2017-12-30 23:00:00+00:00                                              571.0                                 \n",
       "2017-12-31 00:00:00+00:00                                              580.0                                 \n",
       "2017-12-31 01:00:00+00:00                                              590.0                                 \n",
       "2017-12-31 02:00:00+00:00                                              609.0                                 \n",
       "2017-12-31 03:00:00+00:00                                              631.0                                 \n",
       "...                                                                      ...                                 \n",
       "2018-12-31 19:00:00+00:00                                             3304.0                                 \n",
       "2018-12-31 20:00:00+00:00                                             3047.0                                 \n",
       "2018-12-31 21:00:00+00:00                                             3073.0                                 \n",
       "2018-12-31 22:00:00+00:00                                             2859.0                                 \n",
       "2018-12-31 23:00:00+00:00                                             2423.0                                 \n",
       "\n",
       "[8785 rows x 1 columns]"
      ]
     },
     "execution_count": 75,
     "metadata": {},
     "output_type": "execute_result"
    }
   ],
   "source": [
    "entsoe_gen_type[('DE','gas')]\n"
   ]
  },
  {
   "cell_type": "code",
   "execution_count": 63,
   "metadata": {},
   "outputs": [],
   "source": [
    "start = date(2018, 1, 1)\n",
    "end = date(2018, 12, 31)"
   ]
  },
  {
   "cell_type": "code",
   "execution_count": 64,
   "metadata": {},
   "outputs": [
    {
     "data": {
      "text/plain": [
       "datetime.date(2018, 1, 1)"
      ]
     },
     "execution_count": 64,
     "metadata": {},
     "output_type": "execute_result"
    }
   ],
   "source": [
    "start"
   ]
  },
  {
   "cell_type": "code",
   "execution_count": 66,
   "metadata": {},
   "outputs": [],
   "source": [
    "DE = DE.loc[start:end, :]"
   ]
  },
  {
   "cell_type": "code",
   "execution_count": 78,
   "metadata": {},
   "outputs": [
    {
     "data": {
      "text/plain": [
       "variable         attribute          source                                         web                                                                                  unit\n",
       "biomass          generation_actual  own calculation based on ENTSO-E Transparency  https://transparency.entsoe.eu/generation/r2/actualGenerationPerProductionType/show  MW        0\n",
       "gas              generation_actual  own calculation based on ENTSO-E Transparency  https://transparency.entsoe.eu/generation/r2/actualGenerationPerProductionType/show  MW        0\n",
       "geothermal       generation_actual  own calculation based on ENTSO-E Transparency  https://transparency.entsoe.eu/generation/r2/actualGenerationPerProductionType/show  MW        0\n",
       "hard_coal        generation_actual  own calculation based on ENTSO-E Transparency  https://transparency.entsoe.eu/generation/r2/actualGenerationPerProductionType/show  MW        0\n",
       "hydro            generation_actual  own calculation based on ENTSO-E Transparency  https://transparency.entsoe.eu/generation/r2/actualGenerationPerProductionType/show  MW        0\n",
       "lignite          generation_actual  own calculation based on ENTSO-E Transparency  https://transparency.entsoe.eu/generation/r2/actualGenerationPerProductionType/show  MW        0\n",
       "nuclear          generation_actual  own calculation based on ENTSO-E Transparency  https://transparency.entsoe.eu/generation/r2/actualGenerationPerProductionType/show  MW        0\n",
       "oil              generation_actual  own calculation based on ENTSO-E Transparency  https://transparency.entsoe.eu/generation/r2/actualGenerationPerProductionType/show  MW      360\n",
       "other_fossil     generation_actual  own calculation based on ENTSO-E Transparency  https://transparency.entsoe.eu/generation/r2/actualGenerationPerProductionType/show  MW        0\n",
       "other_renewable  generation_actual  own calculation based on ENTSO-E Transparency  https://transparency.entsoe.eu/generation/r2/actualGenerationPerProductionType/show  MW        0\n",
       "solar            generation_actual  own calculation based on ENTSO-E Transparency  https://transparency.entsoe.eu/generation/r2/actualGenerationPerProductionType/show  MW       16\n",
       "waste            generation_actual  own calculation based on ENTSO-E Transparency  https://transparency.entsoe.eu/generation/r2/actualGenerationPerProductionType/show  MW        0\n",
       "wind_offshore    generation_actual  own calculation based on ENTSO-E Transparency  https://transparency.entsoe.eu/generation/r2/actualGenerationPerProductionType/show  MW        0\n",
       "wind_onshore     generation_actual  own calculation based on ENTSO-E Transparency  https://transparency.entsoe.eu/generation/r2/actualGenerationPerProductionType/show  MW        0\n",
       "dtype: int64"
      ]
     },
     "execution_count": 78,
     "metadata": {},
     "output_type": "execute_result"
    }
   ],
   "source": [
    "DE.isnull().sum()"
   ]
  },
  {
   "cell_type": "code",
   "execution_count": null,
   "metadata": {},
   "outputs": [],
   "source": [
    "cols = {'ResolutionCode': 'resolution',\n",
    "            'areacode': 'areacode',\n",
    "            'AreaTypeCode': 'AreaTypeCode',\n",
    "            'AreaName': 'region',\n",
    "            'MapCode': 'mapcode',\n",
    "            'ProductionType': 'variable',\n",
    "            'ActualGenerationOutput': 'generation_actual',\n",
    "            'ActualConsumption': 'consumption_actual',\n",
    "            'UpdateTime': 'updatetime'}\n",
    "\n",
    "entsoe_gen_type.rename(columns=cols, inplace=True)"
   ]
  },
  {
   "cell_type": "code",
   "execution_count": null,
   "metadata": {},
   "outputs": [],
   "source": [
    "entsoe_gen_type.drop(columns=['areacode','AreaTypeCode','mapcode','consumption_actual','updatetime'], inplace=True)"
   ]
  },
  {
   "cell_type": "code",
   "execution_count": null,
   "metadata": {},
   "outputs": [],
   "source": [
    "entsoe_gen_type.dropna(subset=['generation_actual'], inplace=True)"
   ]
  },
  {
   "cell_type": "code",
   "execution_count": null,
   "metadata": {},
   "outputs": [],
   "source": []
  },
  {
   "cell_type": "code",
   "execution_count": null,
   "metadata": {},
   "outputs": [],
   "source": [
    "dfs = {}\n",
    "res = '15'\n",
    "df = (entsoe_gen_type.loc[entsoe_gen_type['resolution'] == 'PT' + res + 'M', :]\n",
    "         .copy().sort_index(axis='columns'))\n",
    "df.drop(columns=['resolution'], inplace=True)\n",
    "\n",
    "stacked = ['region',  'variable']"
   ]
  },
  {
   "cell_type": "code",
   "execution_count": null,
   "metadata": {},
   "outputs": [],
   "source": [
    "df.set_index(stacked, append=True, inplace=True)"
   ]
  },
  {
   "cell_type": "code",
   "execution_count": null,
   "metadata": {},
   "outputs": [],
   "source": [
    "df.index.duplicated(keep=\"last\")"
   ]
  },
  {
   "cell_type": "code",
   "execution_count": null,
   "metadata": {},
   "outputs": [],
   "source": [
    "df = df[~df.index.duplicated(keep=\"last\")]"
   ]
  },
  {
   "cell_type": "code",
   "execution_count": null,
   "metadata": {},
   "outputs": [],
   "source": [
    "df = df.unstack(stacked)\n"
   ]
  },
  {
   "cell_type": "code",
   "execution_count": null,
   "metadata": {},
   "outputs": [],
   "source": [
    "df = df.loc[:, (df > 0).any(axis=0)]"
   ]
  },
  {
   "cell_type": "code",
   "execution_count": null,
   "metadata": {},
   "outputs": [],
   "source": [
    "headers = ['region', 'variable']"
   ]
  },
  {
   "cell_type": "code",
   "execution_count": null,
   "metadata": {},
   "outputs": [],
   "source": [
    "df"
   ]
  },
  {
   "cell_type": "code",
   "execution_count": null,
   "metadata": {},
   "outputs": [],
   "source": [
    "df = df.reorder_levels(headers, axis=1)"
   ]
  },
  {
   "cell_type": "code",
   "execution_count": null,
   "metadata": {},
   "outputs": [],
   "source": [
    "dfs = {}\n",
    "for res in ['15', '30', '60']:\n",
    "    df = (entsoe_gen_type.loc[entsoe_gen_type['resolution'] == 'PT' + res + 'M', :]\n",
    "         .copy().sort_index(axis='columns'))\n",
    "    df.drop(columns=['resolution'], inplace=True)\n",
    "\n",
    "    # juggle the index and columns\n",
    "    df.set_index(stacked, append=True, inplace=True)\n",
    "    # at this point, only the values we are intereseted in are are left as\n",
    "    # columns\n",
    "    df.columns.rename(unstacked, inplace=True)\n",
    "    df = df.unstack(stacked)\n",
    "    \n",
    "    # keep only columns that have at least some nonzero values\n",
    "    df = df.loc[:, (df > 0).any(axis=0)]\n",
    "    \n",
    "    # add source, url and unit to the column names.\n",
    "    # Note: pd.concat inserts new MultiIndex values infront of the old ones\n",
    "    df = pd.concat([df],\n",
    "                   keys=[tuple(append_headers.values())],\n",
    "                   names=append_headers.keys(),\n",
    "                   axis='columns')\n",
    "    \n",
    "    # reorder and sort columns\n",
    "    df = df.reorder_levels(headers, axis=1)\n",
    "    \n",
    "    dfs[res + 'min'] = df"
   ]
  },
  {
   "cell_type": "code",
   "execution_count": null,
   "metadata": {},
   "outputs": [],
   "source": [
    "entsoe_gen_type.rename(columns={Date})\n",
    "\n"
   ]
  },
  {
   "cell_type": "code",
   "execution_count": null,
   "metadata": {},
   "outputs": [],
   "source": [
    " # keep only entries for selected geographic entities as specified in\n",
    "    # areas.csv\n",
    "    area_filter = areas['primary AreaName ENTSO-E'].dropna()\n",
    "    df_raw = df_raw.loc[df_raw['region'].isin(area_filter)]\n",
    "    \n",
    "        #set generation and consumtion as absolut value (assuming that the negative entries are incorrect)\n",
    "    #entsoe_pp_timeseries['ActualGenerationOutput'] = entsoe_pp_timeseries.ActualGenerationOutput.abs()\n",
    "    \n",
    "    #entsoe_pp_timeseries['ActualConsumption'] = entsoe_pp_timeseries.ActualConsumption.abs()"
   ]
  },
  {
   "cell_type": "code",
   "execution_count": null,
   "metadata": {},
   "outputs": [],
   "source": [
    "# check the availbe columns\n",
    "\n",
    "entsoe_gen_type.columns"
   ]
  },
  {
   "cell_type": "code",
   "execution_count": null,
   "metadata": {},
   "outputs": [],
   "source": [
    "entsoe_gen_type[.AreaName.unique()"
   ]
  },
  {
   "cell_type": "code",
   "execution_count": null,
   "metadata": {},
   "outputs": [],
   "source": [
    "entsoe_gen_type[entsoe_gen_type.AreaName == 'NO2 BZ']"
   ]
  },
  {
   "cell_type": "code",
   "execution_count": null,
   "metadata": {},
   "outputs": [],
   "source": [
    "entsoe_gen_type.MapCode.unique()"
   ]
  },
  {
   "cell_type": "code",
   "execution_count": null,
   "metadata": {},
   "outputs": [],
   "source": [
    "# check the availbe 'ProductionTypeName'\n",
    "\n",
    "entsoe_gen_type.ProductionType.unique()"
   ]
  },
  {
   "cell_type": "code",
   "execution_count": null,
   "metadata": {},
   "outputs": [],
   "source": [
    "# check the availbe countries\n",
    "\n",
    "entsoe_gen_type.MapCode.unique()"
   ]
  },
  {
   "cell_type": "code",
   "execution_count": null,
   "metadata": {},
   "outputs": [],
   "source": [
    "# replace DE_* names with DE (DE is represend as four areas)\n",
    "\n",
    "entsoe_gen_unit.MapCode.replace({'.*DE.*' : 'DE'}, regex = True, inplace = True)"
   ]
  },
  {
   "cell_type": "code",
   "execution_count": null,
   "metadata": {},
   "outputs": [],
   "source": [
    "# new names for production types\n",
    "\n",
    "if new_ProductionTypeName:\n",
    "    entsoe_gen_unit = change_ProductionTypeName(entsoe_gen_unit)"
   ]
  },
  {
   "cell_type": "code",
   "execution_count": null,
   "metadata": {},
   "outputs": [],
   "source": [
    "# Which resolutions do exist in the data?\n",
    "\n",
    "entsoe_gen_unit.ResolutionCode.unique()"
   ]
  },
  {
   "cell_type": "code",
   "execution_count": null,
   "metadata": {},
   "outputs": [],
   "source": [
    "# How many generators in the data\n",
    "\n",
    "len(entsoe_gen_unit.GenerationUnitEIC.unique().tolist())"
   ]
  },
  {
   "cell_type": "code",
   "execution_count": null,
   "metadata": {},
   "outputs": [],
   "source": [
    "if test_dataset:\n",
    "    for i in entsoe_gen_unit.GenerationUnitEIC.unique():\n",
    "        unit_gen = entsoe_gen_unit.query(\"GenerationUnitEIC == @i\")\n",
    "\n",
    "        # test if different resolution codes exist for one power plant\n",
    "        if len(unit_gen.ResolutionCode.unique()) >= 2:\n",
    "            print('The data for generator ' + unit_gen.GenerationUnitEIC.iloc[0] + ' contains different time resolutions')\n",
    "            # for 2018 all data OK\n",
    "            # for 2019 all data OK\n",
    "        \n",
    "        if unit_gen.index.has_duplicates:\n",
    "            #print('The data for generator ' + unit_gen.GenerationUnitEIC.iloc[0] + ' contains duplicates in the index')\n",
    "            #many duplicates in 2019!\n",
    "            count = unit_gen.index.duplicated(keep='first').sum()\n",
    "            if count > 3:\n",
    "                print('The data for generator ' + unit_gen.GenerationUnitEIC.iloc[0] + ' contains more than 3 duplicates in the index')\n",
    "                #many duplicates with more than 3 duplicates in 2019!\n"
   ]
  },
  {
   "cell_type": "markdown",
   "metadata": {},
   "source": [
    "## Resampling the data"
   ]
  },
  {
   "cell_type": "markdown",
   "metadata": {},
   "source": [
    "Resampling all generation data to hourly generation data per unit and store the data in a new dataframe 'gen_data'. Specific genertor unit data stored in 'unit_data'."
   ]
  },
  {
   "cell_type": "code",
   "execution_count": null,
   "metadata": {},
   "outputs": [],
   "source": [
    "# set timeframe\n",
    "t_index = pd.date_range(start=start, end=end, freq='60Min', closed=closed)\n",
    "\n",
    "# dataframe for generation data\n",
    "gen_data = pd.DataFrame(index=t_index)\n",
    "\n",
    "# dataframe for powerplant information\n",
    "unit_data = pd.DataFrame()\n",
    "\n",
    "\n",
    "# slicing over all generator units\n",
    "# takes some time\n",
    "for i in entsoe_gen_unit.GenerationUnitEIC.unique():\n",
    "    unit_gen = entsoe_gen_unit.query(\"GenerationUnitEIC == @i\").copy()\n",
    "    duplicate_count = 0\n",
    "    unit_gen['duplicate_count'] = duplicate_count\n",
    "    # test if different resolution codes exist for one power plant\n",
    "    if len(unit_gen.ResolutionCode.unique()) >= 2:\n",
    "        print('The data for generator ' + unit_gen.GenerationUnitEIC.iloc[0] + ' contains different time resolutions')\n",
    "        # for 2018 all data OK\n",
    "        # for 2019 all data OK\n",
    "    \n",
    "    # check if duplicates exist in index (datetime) for the power plant and drop them\n",
    "    if unit_gen.index.has_duplicates:\n",
    "        #many duplicates in 2019!\n",
    "        \n",
    "        duplicate_count = unit_gen.index.duplicated(keep='first').sum()\n",
    "        \n",
    "        #drop all duplicates and only keep the first entry \n",
    "        unit_gen = unit_gen[~unit_gen.index.duplicated(keep='first')]\n",
    "        unit_gen['duplicate_count'] = duplicate_count\n",
    "    \n",
    "    #resampling the data to 1h and store it in \"gen_data\"\n",
    "    gen_data[i] = resampling(pp_gen=unit_gen, start=start, end=end, resolution='60Min')['ActualGenerationOutput']\n",
    "   \n",
    "    #store power plant info in unit_data\n",
    "    unit_data = unit_data.append((unit_gen.set_index('GenerationUnitEIC')[['AreaCode', 'AreaTypeCode', 'AreaName', 'MapCode', 'PowerSystemResourceName', 'ProductionTypeName','InstalledGenCapacity','duplicate_count']].iloc[0]))    "
   ]
  },
  {
   "cell_type": "markdown",
   "metadata": {},
   "source": [
    "## Group the data"
   ]
  },
  {
   "cell_type": "markdown",
   "metadata": {},
   "source": [
    "By using the \"unit_data\" dataframe in combination with the .groupby() function the data can be easily grouped and analyzed."
   ]
  },
  {
   "cell_type": "markdown",
   "metadata": {},
   "source": [
    "### Hourly data per county and technology"
   ]
  },
  {
   "cell_type": "code",
   "execution_count": null,
   "metadata": {},
   "outputs": [],
   "source": [
    "# will result in a multi index dataframe\n",
    "data_country_tech_hourly = gen_data.groupby([unit_data.MapCode, unit_data.ProductionTypeName], axis=1).sum()"
   ]
  },
  {
   "cell_type": "code",
   "execution_count": null,
   "metadata": {},
   "outputs": [],
   "source": [
    "data_country_tech_hourly.head()"
   ]
  },
  {
   "cell_type": "markdown",
   "metadata": {},
   "source": [
    "### Monthly data per county and technology"
   ]
  },
  {
   "cell_type": "code",
   "execution_count": null,
   "metadata": {},
   "outputs": [],
   "source": [
    "# generate month as a grouper\n",
    "data_country_tech_hourly['Month'] = pd.DatetimeIndex(data_country_tech_hourly.index).month\n",
    "\n",
    "#will result in a multi index dataframe\n",
    "data_country_tech_monthly = data_country_tech_hourly.groupby(data_country_tech_hourly.Month, axis=0).sum()\n",
    "\n",
    "#drop the grouper from resulting dataframe\n",
    "data_country_tech_monthly.drop(['Month'],axis=1, inplace=True)\n"
   ]
  },
  {
   "cell_type": "code",
   "execution_count": null,
   "metadata": {},
   "outputs": [],
   "source": [
    "data_country_tech_monthly.head()"
   ]
  },
  {
   "cell_type": "markdown",
   "metadata": {},
   "source": [
    "### Yearly data per county and technology"
   ]
  },
  {
   "cell_type": "code",
   "execution_count": null,
   "metadata": {},
   "outputs": [],
   "source": [
    "# sum the data from multiindex dataframe and convert multiindex into columns and rows\n",
    "data_country_tech_yearly = data_country_tech_hourly.sum().unstack(-1)"
   ]
  },
  {
   "cell_type": "code",
   "execution_count": null,
   "metadata": {},
   "outputs": [],
   "source": [
    "data_country_tech_yearly.head()"
   ]
  },
  {
   "cell_type": "markdown",
   "metadata": {},
   "source": [
    "### Germany as example"
   ]
  },
  {
   "cell_type": "code",
   "execution_count": null,
   "metadata": {},
   "outputs": [],
   "source": [
    "DE = data_country_tech_hourly['DE']"
   ]
  },
  {
   "cell_type": "code",
   "execution_count": null,
   "metadata": {},
   "outputs": [],
   "source": [
    "DE.head()"
   ]
  },
  {
   "cell_type": "code",
   "execution_count": null,
   "metadata": {},
   "outputs": [],
   "source": [
    "# production per technology in GWh\n",
    "DE.sum()/1000"
   ]
  },
  {
   "cell_type": "code",
   "execution_count": null,
   "metadata": {},
   "outputs": [],
   "source": [
    "ax = sns.barplot(data=DE) "
   ]
  },
  {
   "cell_type": "markdown",
   "metadata": {},
   "source": [
    "\n",
    "## Export data"
   ]
  },
  {
   "cell_type": "markdown",
   "metadata": {},
   "source": [
    "Save data as .csv files. All files are saved in the output directory of this notebook. Take some time (2 min)"
   ]
  },
  {
   "cell_type": "code",
   "execution_count": null,
   "metadata": {},
   "outputs": [],
   "source": [
    "# hourly data\n",
    "data_country_tech_hourly.to_csv(output_directory_path + '/data_country_tech_hourly.csv')\n",
    "\n",
    "# monthly data\n",
    "data_country_tech_monthly.to_csv(output_directory_path + '/data_country_tech_monthly.csv')\n",
    "\n",
    "# yearly data\n",
    "data_country_tech_yearly.to_csv(output_directory_path + '/data_country_tech_yearly.csv')\n",
    "\n",
    "# power plant information\n",
    "unit_data.to_csv(output_directory_path + '/unit_data.csv')\n",
    "\n",
    "# hourly unit generation data\n",
    "gen_data.to_csv(output_directory_path + '/gen_data.csv')"
   ]
  },
  {
   "cell_type": "code",
   "execution_count": null,
   "metadata": {},
   "outputs": [],
   "source": []
  }
 ],
 "metadata": {
  "kernelspec": {
   "display_name": "Python 3",
   "language": "python",
   "name": "python3"
  },
  "language_info": {
   "codemirror_mode": {
    "name": "ipython",
    "version": 3
   },
   "file_extension": ".py",
   "mimetype": "text/x-python",
   "name": "python",
   "nbconvert_exporter": "python",
   "pygments_lexer": "ipython3",
   "version": "3.7.9"
  }
 },
 "nbformat": 4,
 "nbformat_minor": 4
}
