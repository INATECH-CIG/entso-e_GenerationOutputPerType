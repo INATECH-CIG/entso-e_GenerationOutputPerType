{
 "cells": [
  {
   "cell_type": "markdown",
   "metadata": {},
   "source": [
    "# Introduction"
   ]
  },
  {
   "cell_type": "markdown",
   "metadata": {},
   "source": [
    "In this Jupyter Notebook we importing the ENTSO-E Actual Generation per Type data (processed with OPSD time series script) and correcting the hourly data with reported yearly values from ENTSO-E statistical factsheet.\n",
    "\n",
    "The OPSD time series script converts all data to one resolution (1 hour) and interpolate gaps in the datat set with a max length of 2 hours. "
   ]
  },
  {
   "cell_type": "markdown",
   "metadata": {},
   "source": [
    "# Script setup"
   ]
  },
  {
   "cell_type": "code",
   "execution_count": 1,
   "metadata": {},
   "outputs": [],
   "source": [
    "import numpy as np\n",
    "import pandas as pd\n",
    "\n",
    "#Helpers\n",
    "import os\n",
    "import glob\n",
    "from datetime import datetime, date, timedelta, time\n",
    "\n",
    "\n",
    "#Ploting\n",
    "import matplotlib.pyplot as plt\n",
    "\n",
    "%matplotlib inline\n",
    "plt.style.use('seaborn')\n",
    "plt.rcParams['figure.figsize'] = [15, 6]"
   ]
  },
  {
   "cell_type": "markdown",
   "metadata": {},
   "source": [
    "# Data directory preparention"
   ]
  },
  {
   "cell_type": "markdown",
   "metadata": {},
   "source": [
    "Create input, processed and output folders if they don't exist. If the paths are relative, the corresponding folders will be created inside the current working directory.\n",
    "- input -> all needed input data\n",
    "- processed -> save point and exchange with other scripts\n",
    "- output -> final data"
   ]
  },
  {
   "cell_type": "code",
   "execution_count": 2,
   "metadata": {},
   "outputs": [],
   "source": [
    "input_directory_path = os.path.join('input')\n",
    "processed_directory_path = 'processed'\n",
    "output_directory_path = os.path.join('output')\n",
    "\n",
    "sources_yaml_path = os.path.join('input', 'sources.yml')\n",
    "\n",
    "os.makedirs(input_directory_path, exist_ok=True)\n",
    "os.makedirs(processed_directory_path, exist_ok=True)\n",
    "os.makedirs(output_directory_path, exist_ok=True)"
   ]
  },
  {
   "cell_type": "markdown",
   "metadata": {},
   "source": [
    "# Data file preparation"
   ]
  },
  {
   "cell_type": "markdown",
   "metadata": {},
   "source": [
    "1. ENTSO-E Transparency Platform, Actual Generation per Type Available online: https://transparency.entsoe.eu/generation/r2/actualGenerationPerProductionType/show (accessed on Oct 02, 2020).\n",
    " - Proccesed with OPSD time series scrips (own version INETCH)\n",
    " time_series_60min_stacked.csv\n",
    " \n",
    "2. ENTSO-E Statistical Factsheet 2018 in Comma Separated Value (CSV) format\n",
    "https://zenodo.org/record/3461691\n",
    "\n",
    "\n",
    "Original data: ENTSO-E statistics Available online:\n",
    "https://www.entsoe.eu/publications/statistics-and-data/#statistical-factsheet\n",
    "\n",
    " File - > entsoe-statistical-factsheet-2018-stacked\n",
    "\n",
    "\n",
    "\n",
    "Previously we used the Energy Balances in the MS Excel file format (2020 edition) eurostat https://ec.europa.eu/eurostat/de/web/energy/data/energy-balances (accessed on Oct 02, 2020). The Energy Balance data only provides gross electricity data."
   ]
  },
  {
   "cell_type": "markdown",
   "metadata": {},
   "source": [
    "# Load data functions"
   ]
  },
  {
   "cell_type": "code",
   "execution_count": 3,
   "metadata": {},
   "outputs": [],
   "source": [
    "def load_timeseries_opsd(fn):\n",
    "    \"\"\"\n",
    "    Read data from OPSD time-series package own modification.\n",
    "\n",
    "    Parameters\n",
    "    ----------\n",
    "    years : None or slice()\n",
    "        Years for which to read load data\n",
    "        \n",
    "    fn : file name or url location (file format .csv)\n",
    "    \n",
    "    countries : Countries for which to read load data.\n",
    "        \n",
    "    Returns\n",
    "    -------\n",
    "    load : pd.DataFrame\n",
    "        Load time-series with UTC timestamps x ISO-2 countries\n",
    "    \"\"\"\n",
    "\n",
    "     \n",
    "    generation = pd.read_csv(fn, index_col='utc_timestamp', parse_dates=True) #, header=[0, 1, 2, 3, 4, 5], parse_dates=True)\n",
    "                    #.dropna(how=\"all\", axis=0)  \n",
    "        \n",
    "    #generation.columns = generation.columns.droplevel(level=[2,3,4,5])\n",
    "    #generation = generation[~generation['region'].str.contains(\"_\")]\n",
    "\n",
    "    generation = generation.drop(columns='attribute')\n",
    "    \n",
    "    return generation\n",
    "\n",
    "def load_stats_factsheet(path, fn):\n",
    "    \"\"\"\n",
    "    Load the ENTSO-E Statistical Factsheet 2018 in Comma Separated Value (CSV).\n",
    "        \n",
    "    Parameters\n",
    "    ----------\n",
    "    path: str\n",
    "        path to data\n",
    "    fn : str\n",
    "        filename\n",
    "        \n",
    "    \"\"\"\n",
    "    \n",
    "    generation = pd.read_csv(os.path.join(path, fn),index_col=[0], header=[0, 1], parse_dates=True)\n",
    "    \n",
    "    return generation"
   ]
  },
  {
   "cell_type": "code",
   "execution_count": 4,
   "metadata": {},
   "outputs": [],
   "source": [
    "def convert_ENTSOE_to_INATECH_type(ProductionTypeName):\n",
    "    \"\"\"\n",
    "    Converts ENTSO-E Generation per Type source names into INATECH technology type names.\n",
    "\n",
    "    Parameters\n",
    "    ----------\n",
    "    ProductionTypeName : string\n",
    "        ENTSO-E name of production type.\n",
    "\n",
    "    Returns\n",
    "    -------\n",
    "    string\n",
    "        INATECH names of production type.\n",
    "\n",
    "    \"\"\"\n",
    "\n",
    "    return ProductionTypeName.replace({\n",
    "            'Fossil Hard coal': 'hard_coal', \n",
    "            'Fossil Brown coal/Lignite': 'lignite', \n",
    "            'Fossil Gas': 'gas',\n",
    "            'Fossil Coal-derived gas': 'other_fossil',\n",
    "            'Fossil Peat': 'other_fossil',\n",
    "            'Nuclear': 'nuclear',\n",
    "            'Biomass': 'biomass',\n",
    "            'Waste': 'waste',\n",
    "            'Geothermal': 'other_renewable',\n",
    "            'Marine': 'other_renewable',\n",
    "            'Other': 'other_fossil',\n",
    "            'Hydro Pumped Storage': 'hydro',\n",
    "            'Hydro Run-of-river and poundage': 'hydro',\n",
    "            'Hydro Water Reservoir': 'hydro',\n",
    "            'Fossil Oil': 'other_fossil',\n",
    "            'Fossil Oil shale': 'other_fossil', \n",
    "            'Solar': 'solar',\n",
    "            'Wind Onshore': 'wind_onshore',\n",
    "            'Wind Offshore': 'wind_offshore',\n",
    "            'Other renewable': 'other_renewable'}, inplace=False)"
   ]
  },
  {
   "cell_type": "markdown",
   "metadata": {},
   "source": [
    "# Load and filter data¶"
   ]
  },
  {
   "cell_type": "code",
   "execution_count": 5,
   "metadata": {},
   "outputs": [],
   "source": [
    "# period filter\n",
    "start = '2018-01-01 00:00:00+00:00'\n",
    "end = '2018-12-31 23:00:00+00:00'"
   ]
  },
  {
   "cell_type": "markdown",
   "metadata": {},
   "source": [
    "## load data timeseries_opsd"
   ]
  },
  {
   "cell_type": "code",
   "execution_count": 6,
   "metadata": {},
   "outputs": [],
   "source": [
    "# load data\n",
    "entsoe_gen_type = load_timeseries_opsd(fn=input_directory_path + '/time_series_60min_stacked.csv')"
   ]
  },
  {
   "cell_type": "code",
   "execution_count": 7,
   "metadata": {},
   "outputs": [],
   "source": [
    "entsoe_gen_type = entsoe_gen_type.loc[start:end].copy()"
   ]
  },
  {
   "cell_type": "code",
   "execution_count": 8,
   "metadata": {},
   "outputs": [
    {
     "data": {
      "text/html": [
       "<div>\n",
       "<style scoped>\n",
       "    .dataframe tbody tr th:only-of-type {\n",
       "        vertical-align: middle;\n",
       "    }\n",
       "\n",
       "    .dataframe tbody tr th {\n",
       "        vertical-align: top;\n",
       "    }\n",
       "\n",
       "    .dataframe thead th {\n",
       "        text-align: right;\n",
       "    }\n",
       "</style>\n",
       "<table border=\"1\" class=\"dataframe\">\n",
       "  <thead>\n",
       "    <tr style=\"text-align: right;\">\n",
       "      <th></th>\n",
       "      <th>region</th>\n",
       "      <th>variable</th>\n",
       "      <th>data</th>\n",
       "    </tr>\n",
       "    <tr>\n",
       "      <th>utc_timestamp</th>\n",
       "      <th></th>\n",
       "      <th></th>\n",
       "      <th></th>\n",
       "    </tr>\n",
       "  </thead>\n",
       "  <tbody>\n",
       "    <tr>\n",
       "      <th>2018-01-01 00:00:00+00:00</th>\n",
       "      <td>AT</td>\n",
       "      <td>Biomass</td>\n",
       "      <td>316.0</td>\n",
       "    </tr>\n",
       "    <tr>\n",
       "      <th>2018-01-01 01:00:00+00:00</th>\n",
       "      <td>AT</td>\n",
       "      <td>Biomass</td>\n",
       "      <td>316.0</td>\n",
       "    </tr>\n",
       "    <tr>\n",
       "      <th>2018-01-01 02:00:00+00:00</th>\n",
       "      <td>AT</td>\n",
       "      <td>Biomass</td>\n",
       "      <td>316.0</td>\n",
       "    </tr>\n",
       "    <tr>\n",
       "      <th>2018-01-01 03:00:00+00:00</th>\n",
       "      <td>AT</td>\n",
       "      <td>Biomass</td>\n",
       "      <td>316.0</td>\n",
       "    </tr>\n",
       "    <tr>\n",
       "      <th>2018-01-01 04:00:00+00:00</th>\n",
       "      <td>AT</td>\n",
       "      <td>Biomass</td>\n",
       "      <td>316.0</td>\n",
       "    </tr>\n",
       "    <tr>\n",
       "      <th>...</th>\n",
       "      <td>...</td>\n",
       "      <td>...</td>\n",
       "      <td>...</td>\n",
       "    </tr>\n",
       "    <tr>\n",
       "      <th>2018-12-31 19:00:00+00:00</th>\n",
       "      <td>SK</td>\n",
       "      <td>Solar</td>\n",
       "      <td>0.4</td>\n",
       "    </tr>\n",
       "    <tr>\n",
       "      <th>2018-12-31 20:00:00+00:00</th>\n",
       "      <td>SK</td>\n",
       "      <td>Solar</td>\n",
       "      <td>0.2</td>\n",
       "    </tr>\n",
       "    <tr>\n",
       "      <th>2018-12-31 21:00:00+00:00</th>\n",
       "      <td>SK</td>\n",
       "      <td>Solar</td>\n",
       "      <td>0.2</td>\n",
       "    </tr>\n",
       "    <tr>\n",
       "      <th>2018-12-31 22:00:00+00:00</th>\n",
       "      <td>SK</td>\n",
       "      <td>Solar</td>\n",
       "      <td>0.2</td>\n",
       "    </tr>\n",
       "    <tr>\n",
       "      <th>2018-12-31 23:00:00+00:00</th>\n",
       "      <td>SK</td>\n",
       "      <td>Solar</td>\n",
       "      <td>0.2</td>\n",
       "    </tr>\n",
       "  </tbody>\n",
       "</table>\n",
       "<p>4013686 rows × 3 columns</p>\n",
       "</div>"
      ],
      "text/plain": [
       "                          region variable   data\n",
       "utc_timestamp                                   \n",
       "2018-01-01 00:00:00+00:00     AT  Biomass  316.0\n",
       "2018-01-01 01:00:00+00:00     AT  Biomass  316.0\n",
       "2018-01-01 02:00:00+00:00     AT  Biomass  316.0\n",
       "2018-01-01 03:00:00+00:00     AT  Biomass  316.0\n",
       "2018-01-01 04:00:00+00:00     AT  Biomass  316.0\n",
       "...                          ...      ...    ...\n",
       "2018-12-31 19:00:00+00:00     SK    Solar    0.4\n",
       "2018-12-31 20:00:00+00:00     SK    Solar    0.2\n",
       "2018-12-31 21:00:00+00:00     SK    Solar    0.2\n",
       "2018-12-31 22:00:00+00:00     SK    Solar    0.2\n",
       "2018-12-31 23:00:00+00:00     SK    Solar    0.2\n",
       "\n",
       "[4013686 rows x 3 columns]"
      ]
     },
     "execution_count": 8,
     "metadata": {},
     "output_type": "execute_result"
    }
   ],
   "source": [
    "# show the data set\n",
    "entsoe_gen_type"
   ]
  },
  {
   "cell_type": "markdown",
   "metadata": {},
   "source": [
    "## load and standardize data Stats FACT"
   ]
  },
  {
   "cell_type": "code",
   "execution_count": 9,
   "metadata": {},
   "outputs": [],
   "source": [
    "# load data\n",
    "entsoe_stats = load_stats_factsheet(input_directory_path, 'Stats_FACT_table.csv')"
   ]
  },
  {
   "cell_type": "code",
   "execution_count": 10,
   "metadata": {},
   "outputs": [
    {
     "data": {
      "text/html": [
       "<div>\n",
       "<style scoped>\n",
       "    .dataframe tbody tr th:only-of-type {\n",
       "        vertical-align: middle;\n",
       "    }\n",
       "\n",
       "    .dataframe tbody tr th {\n",
       "        vertical-align: top;\n",
       "    }\n",
       "\n",
       "    .dataframe thead tr th {\n",
       "        text-align: left;\n",
       "    }\n",
       "\n",
       "    .dataframe thead tr:last-of-type th {\n",
       "        text-align: right;\n",
       "    }\n",
       "</style>\n",
       "<table border=\"1\" class=\"dataframe\">\n",
       "  <thead>\n",
       "    <tr>\n",
       "      <th>country</th>\n",
       "      <th colspan=\"10\" halign=\"left\">AL</th>\n",
       "      <th>...</th>\n",
       "      <th colspan=\"10\" halign=\"left\">TR</th>\n",
       "    </tr>\n",
       "    <tr>\n",
       "      <th>source</th>\n",
       "      <th>biomass</th>\n",
       "      <th>gas</th>\n",
       "      <th>hard_coal</th>\n",
       "      <th>hydro</th>\n",
       "      <th>lignite</th>\n",
       "      <th>nuclear</th>\n",
       "      <th>other_fossil</th>\n",
       "      <th>other_renewable</th>\n",
       "      <th>solar</th>\n",
       "      <th>waste</th>\n",
       "      <th>...</th>\n",
       "      <th>hard_coal</th>\n",
       "      <th>hydro</th>\n",
       "      <th>lignite</th>\n",
       "      <th>nuclear</th>\n",
       "      <th>other_fossil</th>\n",
       "      <th>other_renewable</th>\n",
       "      <th>solar</th>\n",
       "      <th>waste</th>\n",
       "      <th>wind_offshore</th>\n",
       "      <th>wind_onshore</th>\n",
       "    </tr>\n",
       "    <tr>\n",
       "      <th>year</th>\n",
       "      <th></th>\n",
       "      <th></th>\n",
       "      <th></th>\n",
       "      <th></th>\n",
       "      <th></th>\n",
       "      <th></th>\n",
       "      <th></th>\n",
       "      <th></th>\n",
       "      <th></th>\n",
       "      <th></th>\n",
       "      <th></th>\n",
       "      <th></th>\n",
       "      <th></th>\n",
       "      <th></th>\n",
       "      <th></th>\n",
       "      <th></th>\n",
       "      <th></th>\n",
       "      <th></th>\n",
       "      <th></th>\n",
       "      <th></th>\n",
       "      <th></th>\n",
       "    </tr>\n",
       "  </thead>\n",
       "  <tbody>\n",
       "    <tr>\n",
       "      <th>2018-01-01</th>\n",
       "      <td>0.0</td>\n",
       "      <td>0.0</td>\n",
       "      <td>0.0</td>\n",
       "      <td>8100000.0</td>\n",
       "      <td>0.0</td>\n",
       "      <td>0.0</td>\n",
       "      <td>0.0</td>\n",
       "      <td>0.0</td>\n",
       "      <td>0.0</td>\n",
       "      <td>0.0</td>\n",
       "      <td>...</td>\n",
       "      <td>67800000.0</td>\n",
       "      <td>59800000.0</td>\n",
       "      <td>44800000.0</td>\n",
       "      <td>0.0</td>\n",
       "      <td>1400000.0</td>\n",
       "      <td>6900000.0</td>\n",
       "      <td>7200000.0</td>\n",
       "      <td>0.0</td>\n",
       "      <td>0.0</td>\n",
       "      <td>19900000.0</td>\n",
       "    </tr>\n",
       "  </tbody>\n",
       "</table>\n",
       "<p>1 rows × 432 columns</p>\n",
       "</div>"
      ],
      "text/plain": [
       "country         AL                                                         \\\n",
       "source     biomass  gas hard_coal      hydro lignite nuclear other_fossil   \n",
       "year                                                                        \n",
       "2018-01-01     0.0  0.0       0.0  8100000.0     0.0     0.0          0.0   \n",
       "\n",
       "country                                 ...          TR              \\\n",
       "source     other_renewable solar waste  ...   hard_coal       hydro   \n",
       "year                                    ...                           \n",
       "2018-01-01             0.0   0.0   0.0  ...  67800000.0  59800000.0   \n",
       "\n",
       "country                                                                       \\\n",
       "source         lignite nuclear other_fossil other_renewable      solar waste   \n",
       "year                                                                           \n",
       "2018-01-01  44800000.0     0.0    1400000.0       6900000.0  7200000.0   0.0   \n",
       "\n",
       "country                                \n",
       "source     wind_offshore wind_onshore  \n",
       "year                                   \n",
       "2018-01-01           0.0   19900000.0  \n",
       "\n",
       "[1 rows x 432 columns]"
      ]
     },
     "execution_count": 10,
     "metadata": {},
     "output_type": "execute_result"
    }
   ],
   "source": [
    "# show the data set\n",
    "entsoe_stats"
   ]
  },
  {
   "cell_type": "markdown",
   "metadata": {},
   "source": [
    "## standardize data"
   ]
  },
  {
   "cell_type": "code",
   "execution_count": 11,
   "metadata": {},
   "outputs": [],
   "source": [
    "# available countries in entsoe stats data set\n",
    "countries = entsoe_stats.columns.levels[0].to_list()"
   ]
  },
  {
   "cell_type": "code",
   "execution_count": 12,
   "metadata": {},
   "outputs": [
    {
     "data": {
      "text/plain": [
       "['AL',\n",
       " 'AT',\n",
       " 'BA',\n",
       " 'BE',\n",
       " 'BG',\n",
       " 'CH',\n",
       " 'CY',\n",
       " 'CZ',\n",
       " 'DE',\n",
       " 'DK',\n",
       " 'EE',\n",
       " 'ES',\n",
       " 'FI',\n",
       " 'FR',\n",
       " 'GB',\n",
       " 'GR',\n",
       " 'HR',\n",
       " 'HU',\n",
       " 'IE',\n",
       " 'IS',\n",
       " 'IT',\n",
       " 'LT',\n",
       " 'LU',\n",
       " 'LV',\n",
       " 'ME',\n",
       " 'MK',\n",
       " 'NL',\n",
       " 'NO',\n",
       " 'PL',\n",
       " 'PT',\n",
       " 'RO',\n",
       " 'RS',\n",
       " 'SE',\n",
       " 'SI',\n",
       " 'SK',\n",
       " 'TR']"
      ]
     },
     "execution_count": 12,
     "metadata": {},
     "output_type": "execute_result"
    }
   ],
   "source": [
    "countries"
   ]
  },
  {
   "cell_type": "code",
   "execution_count": 13,
   "metadata": {
    "scrolled": true
   },
   "outputs": [
    {
     "data": {
      "text/plain": [
       "array(['AT', 'BE', 'BG', 'CH', 'CY', 'CZ', 'DE', 'DE_50hertz', 'DE_LU',\n",
       "       'DE_amprion', 'DE_tennet', 'DE_transnetbw', 'DK', 'DK_1', 'DK_2',\n",
       "       'DK_energinet', 'EE', 'ES', 'FI', 'FR', 'GB_GBN', 'GB_NIR',\n",
       "       'GB_UKM', 'GR', 'HU', 'IE', 'IE_sem', 'IT', 'IT_BRNN', 'IT_CNOR',\n",
       "       'IT_CSUD', 'IT_FOGN', 'IT_NORD', 'IT_PRGP', 'IT_ROSN', 'IT_SARD',\n",
       "       'IT_SICI', 'IT_SUD', 'LT', 'LV', 'ME', 'NL', 'NO', 'NO_1', 'NO_2',\n",
       "       'NO_3', 'NO_4', 'NO_5', 'PL', 'PT', 'RO', 'RS', 'SE', 'SE_1',\n",
       "       'SE_2', 'SE_3', 'SE_4', 'SI', 'SK'], dtype=object)"
      ]
     },
     "execution_count": 13,
     "metadata": {},
     "output_type": "execute_result"
    }
   ],
   "source": [
    "entsoe_gen_type.region.unique()"
   ]
  },
  {
   "cell_type": "code",
   "execution_count": 14,
   "metadata": {},
   "outputs": [],
   "source": [
    "# replace region GB_UKM with GB\n",
    "entsoe_gen_type.region = entsoe_gen_type.region.replace({'GB_UKM' : 'GB'})"
   ]
  },
  {
   "cell_type": "code",
   "execution_count": 15,
   "metadata": {},
   "outputs": [],
   "source": [
    "# filter entso e data\n",
    "entsoe_gen_type.query('region in @countries', inplace= True)"
   ]
  },
  {
   "cell_type": "code",
   "execution_count": 16,
   "metadata": {},
   "outputs": [
    {
     "data": {
      "text/plain": [
       "array(['Biomass', 'Fossil Gas', 'Fossil Hard coal', 'Geothermal',\n",
       "       'Hydro Pumped Storage', 'Hydro Run-of-river and poundage',\n",
       "       'Hydro Water Reservoir', 'Other', 'Solar', 'Waste', 'Wind Onshore',\n",
       "       'Fossil Oil', 'Nuclear', 'Wind Offshore',\n",
       "       'Fossil Brown coal/Lignite', 'Fossil Coal-derived gas',\n",
       "       'Other renewable', 'Fossil Peat'], dtype=object)"
      ]
     },
     "execution_count": 16,
     "metadata": {},
     "output_type": "execute_result"
    }
   ],
   "source": [
    "entsoe_gen_type.variable.unique()"
   ]
  },
  {
   "cell_type": "code",
   "execution_count": 17,
   "metadata": {},
   "outputs": [],
   "source": [
    "# change ProductionTypeNames into INATECH technology type names\n",
    "entsoe_gen_type.variable = convert_ENTSOE_to_INATECH_type(entsoe_gen_type.variable)"
   ]
  },
  {
   "cell_type": "code",
   "execution_count": 18,
   "metadata": {},
   "outputs": [
    {
     "data": {
      "text/plain": [
       "array(['biomass', 'gas', 'hard_coal', 'other_renewable', 'hydro',\n",
       "       'other_fossil', 'solar', 'waste', 'wind_onshore', 'nuclear',\n",
       "       'wind_offshore', 'lignite'], dtype=object)"
      ]
     },
     "execution_count": 18,
     "metadata": {},
     "output_type": "execute_result"
    }
   ],
   "source": [
    "entsoe_gen_type.variable.unique()"
   ]
  },
  {
   "cell_type": "code",
   "execution_count": 19,
   "metadata": {},
   "outputs": [],
   "source": [
    "# after changing the production type we need to group the dataset\n",
    "# reset index for groupby function\n",
    "entsoe_gen_type.reset_index(inplace=True)\n",
    "# group same production types\n",
    "entsoe_gen_type = entsoe_gen_type.groupby(['variable', 'utc_timestamp','region']).sum()\n",
    "# set the old index for the dataframe\n",
    "entsoe_gen_type = entsoe_gen_type.reset_index().set_index('utc_timestamp')"
   ]
  },
  {
   "cell_type": "code",
   "execution_count": 20,
   "metadata": {},
   "outputs": [
    {
     "data": {
      "text/html": [
       "<div>\n",
       "<style scoped>\n",
       "    .dataframe tbody tr th:only-of-type {\n",
       "        vertical-align: middle;\n",
       "    }\n",
       "\n",
       "    .dataframe tbody tr th {\n",
       "        vertical-align: top;\n",
       "    }\n",
       "\n",
       "    .dataframe thead th {\n",
       "        text-align: right;\n",
       "    }\n",
       "</style>\n",
       "<table border=\"1\" class=\"dataframe\">\n",
       "  <thead>\n",
       "    <tr style=\"text-align: right;\">\n",
       "      <th></th>\n",
       "      <th>variable</th>\n",
       "      <th>region</th>\n",
       "      <th>data</th>\n",
       "    </tr>\n",
       "    <tr>\n",
       "      <th>utc_timestamp</th>\n",
       "      <th></th>\n",
       "      <th></th>\n",
       "      <th></th>\n",
       "    </tr>\n",
       "  </thead>\n",
       "  <tbody>\n",
       "    <tr>\n",
       "      <th>2018-01-01 00:00:00+00:00</th>\n",
       "      <td>biomass</td>\n",
       "      <td>AT</td>\n",
       "      <td>316.00</td>\n",
       "    </tr>\n",
       "    <tr>\n",
       "      <th>2018-01-01 00:00:00+00:00</th>\n",
       "      <td>biomass</td>\n",
       "      <td>BE</td>\n",
       "      <td>232.46</td>\n",
       "    </tr>\n",
       "    <tr>\n",
       "      <th>2018-01-01 00:00:00+00:00</th>\n",
       "      <td>biomass</td>\n",
       "      <td>BG</td>\n",
       "      <td>28.00</td>\n",
       "    </tr>\n",
       "    <tr>\n",
       "      <th>2018-01-01 00:00:00+00:00</th>\n",
       "      <td>biomass</td>\n",
       "      <td>CZ</td>\n",
       "      <td>261.78</td>\n",
       "    </tr>\n",
       "    <tr>\n",
       "      <th>2018-01-01 00:00:00+00:00</th>\n",
       "      <td>biomass</td>\n",
       "      <td>DE</td>\n",
       "      <td>4764.00</td>\n",
       "    </tr>\n",
       "    <tr>\n",
       "      <th>2018-01-01 00:00:00+00:00</th>\n",
       "      <td>biomass</td>\n",
       "      <td>DK</td>\n",
       "      <td>587.00</td>\n",
       "    </tr>\n",
       "    <tr>\n",
       "      <th>2018-01-01 00:00:00+00:00</th>\n",
       "      <td>biomass</td>\n",
       "      <td>EE</td>\n",
       "      <td>71.10</td>\n",
       "    </tr>\n",
       "    <tr>\n",
       "      <th>2018-01-01 00:00:00+00:00</th>\n",
       "      <td>biomass</td>\n",
       "      <td>ES</td>\n",
       "      <td>275.00</td>\n",
       "    </tr>\n",
       "    <tr>\n",
       "      <th>2018-01-01 00:00:00+00:00</th>\n",
       "      <td>biomass</td>\n",
       "      <td>FI</td>\n",
       "      <td>855.71</td>\n",
       "    </tr>\n",
       "    <tr>\n",
       "      <th>2018-01-01 00:00:00+00:00</th>\n",
       "      <td>biomass</td>\n",
       "      <td>FR</td>\n",
       "      <td>293.00</td>\n",
       "    </tr>\n",
       "  </tbody>\n",
       "</table>\n",
       "</div>"
      ],
      "text/plain": [
       "                          variable region     data\n",
       "utc_timestamp                                     \n",
       "2018-01-01 00:00:00+00:00  biomass     AT   316.00\n",
       "2018-01-01 00:00:00+00:00  biomass     BE   232.46\n",
       "2018-01-01 00:00:00+00:00  biomass     BG    28.00\n",
       "2018-01-01 00:00:00+00:00  biomass     CZ   261.78\n",
       "2018-01-01 00:00:00+00:00  biomass     DE  4764.00\n",
       "2018-01-01 00:00:00+00:00  biomass     DK   587.00\n",
       "2018-01-01 00:00:00+00:00  biomass     EE    71.10\n",
       "2018-01-01 00:00:00+00:00  biomass     ES   275.00\n",
       "2018-01-01 00:00:00+00:00  biomass     FI   855.71\n",
       "2018-01-01 00:00:00+00:00  biomass     FR   293.00"
      ]
     },
     "execution_count": 20,
     "metadata": {},
     "output_type": "execute_result"
    }
   ],
   "source": [
    "# show the head of the data set \n",
    "entsoe_gen_type.head(10)"
   ]
  },
  {
   "cell_type": "code",
   "execution_count": 21,
   "metadata": {},
   "outputs": [],
   "source": [
    "# convert entso data into table format\n",
    "entsoe_gen_type_table =  pd.pivot_table(entsoe_gen_type, values='data', index=entsoe_gen_type.index, columns=['region','variable'])"
   ]
  },
  {
   "cell_type": "code",
   "execution_count": 22,
   "metadata": {},
   "outputs": [
    {
     "data": {
      "text/html": [
       "<div>\n",
       "<style scoped>\n",
       "    .dataframe tbody tr th:only-of-type {\n",
       "        vertical-align: middle;\n",
       "    }\n",
       "\n",
       "    .dataframe tbody tr th {\n",
       "        vertical-align: top;\n",
       "    }\n",
       "\n",
       "    .dataframe thead tr th {\n",
       "        text-align: left;\n",
       "    }\n",
       "\n",
       "    .dataframe thead tr:last-of-type th {\n",
       "        text-align: right;\n",
       "    }\n",
       "</style>\n",
       "<table border=\"1\" class=\"dataframe\">\n",
       "  <thead>\n",
       "    <tr>\n",
       "      <th>region</th>\n",
       "      <th colspan=\"9\" halign=\"left\">AT</th>\n",
       "      <th>BE</th>\n",
       "      <th>...</th>\n",
       "      <th>SI</th>\n",
       "      <th colspan=\"9\" halign=\"left\">SK</th>\n",
       "    </tr>\n",
       "    <tr>\n",
       "      <th>variable</th>\n",
       "      <th>biomass</th>\n",
       "      <th>gas</th>\n",
       "      <th>hard_coal</th>\n",
       "      <th>hydro</th>\n",
       "      <th>other_fossil</th>\n",
       "      <th>other_renewable</th>\n",
       "      <th>solar</th>\n",
       "      <th>waste</th>\n",
       "      <th>wind_onshore</th>\n",
       "      <th>biomass</th>\n",
       "      <th>...</th>\n",
       "      <th>wind_onshore</th>\n",
       "      <th>biomass</th>\n",
       "      <th>gas</th>\n",
       "      <th>hard_coal</th>\n",
       "      <th>hydro</th>\n",
       "      <th>lignite</th>\n",
       "      <th>nuclear</th>\n",
       "      <th>other_fossil</th>\n",
       "      <th>other_renewable</th>\n",
       "      <th>solar</th>\n",
       "    </tr>\n",
       "    <tr>\n",
       "      <th>utc_timestamp</th>\n",
       "      <th></th>\n",
       "      <th></th>\n",
       "      <th></th>\n",
       "      <th></th>\n",
       "      <th></th>\n",
       "      <th></th>\n",
       "      <th></th>\n",
       "      <th></th>\n",
       "      <th></th>\n",
       "      <th></th>\n",
       "      <th></th>\n",
       "      <th></th>\n",
       "      <th></th>\n",
       "      <th></th>\n",
       "      <th></th>\n",
       "      <th></th>\n",
       "      <th></th>\n",
       "      <th></th>\n",
       "      <th></th>\n",
       "      <th></th>\n",
       "      <th></th>\n",
       "    </tr>\n",
       "  </thead>\n",
       "  <tbody>\n",
       "    <tr>\n",
       "      <th>2018-01-01 00:00:00+00:00</th>\n",
       "      <td>316.0</td>\n",
       "      <td>71.0</td>\n",
       "      <td>150.0</td>\n",
       "      <td>3345.0</td>\n",
       "      <td>22.0</td>\n",
       "      <td>0.0</td>\n",
       "      <td>0.0</td>\n",
       "      <td>100.0</td>\n",
       "      <td>832.0</td>\n",
       "      <td>232.46</td>\n",
       "      <td>...</td>\n",
       "      <td>0.70</td>\n",
       "      <td>28.2</td>\n",
       "      <td>175.6</td>\n",
       "      <td>48.1</td>\n",
       "      <td>455.93</td>\n",
       "      <td>179.5</td>\n",
       "      <td>1819.3</td>\n",
       "      <td>478.8</td>\n",
       "      <td>41.4</td>\n",
       "      <td>0.0</td>\n",
       "    </tr>\n",
       "    <tr>\n",
       "      <th>2018-01-01 01:00:00+00:00</th>\n",
       "      <td>316.0</td>\n",
       "      <td>70.0</td>\n",
       "      <td>149.0</td>\n",
       "      <td>3275.0</td>\n",
       "      <td>22.0</td>\n",
       "      <td>0.0</td>\n",
       "      <td>0.0</td>\n",
       "      <td>100.0</td>\n",
       "      <td>926.0</td>\n",
       "      <td>153.58</td>\n",
       "      <td>...</td>\n",
       "      <td>0.61</td>\n",
       "      <td>28.1</td>\n",
       "      <td>172.9</td>\n",
       "      <td>48.0</td>\n",
       "      <td>461.95</td>\n",
       "      <td>177.9</td>\n",
       "      <td>1816.7</td>\n",
       "      <td>475.8</td>\n",
       "      <td>41.0</td>\n",
       "      <td>0.0</td>\n",
       "    </tr>\n",
       "    <tr>\n",
       "      <th>2018-01-01 02:00:00+00:00</th>\n",
       "      <td>316.0</td>\n",
       "      <td>69.0</td>\n",
       "      <td>149.0</td>\n",
       "      <td>3167.0</td>\n",
       "      <td>22.0</td>\n",
       "      <td>0.0</td>\n",
       "      <td>0.0</td>\n",
       "      <td>100.0</td>\n",
       "      <td>692.0</td>\n",
       "      <td>133.70</td>\n",
       "      <td>...</td>\n",
       "      <td>0.57</td>\n",
       "      <td>28.1</td>\n",
       "      <td>162.1</td>\n",
       "      <td>46.7</td>\n",
       "      <td>513.39</td>\n",
       "      <td>174.7</td>\n",
       "      <td>1808.7</td>\n",
       "      <td>469.5</td>\n",
       "      <td>40.8</td>\n",
       "      <td>0.0</td>\n",
       "    </tr>\n",
       "    <tr>\n",
       "      <th>2018-01-01 03:00:00+00:00</th>\n",
       "      <td>316.0</td>\n",
       "      <td>72.0</td>\n",
       "      <td>149.0</td>\n",
       "      <td>3160.0</td>\n",
       "      <td>22.0</td>\n",
       "      <td>0.0</td>\n",
       "      <td>0.0</td>\n",
       "      <td>100.0</td>\n",
       "      <td>453.0</td>\n",
       "      <td>131.38</td>\n",
       "      <td>...</td>\n",
       "      <td>0.62</td>\n",
       "      <td>29.7</td>\n",
       "      <td>140.3</td>\n",
       "      <td>45.3</td>\n",
       "      <td>587.83</td>\n",
       "      <td>168.5</td>\n",
       "      <td>1803.6</td>\n",
       "      <td>455.6</td>\n",
       "      <td>39.4</td>\n",
       "      <td>0.0</td>\n",
       "    </tr>\n",
       "    <tr>\n",
       "      <th>2018-01-01 04:00:00+00:00</th>\n",
       "      <td>316.0</td>\n",
       "      <td>75.0</td>\n",
       "      <td>149.0</td>\n",
       "      <td>3330.0</td>\n",
       "      <td>22.0</td>\n",
       "      <td>0.0</td>\n",
       "      <td>0.0</td>\n",
       "      <td>100.0</td>\n",
       "      <td>321.0</td>\n",
       "      <td>131.26</td>\n",
       "      <td>...</td>\n",
       "      <td>0.56</td>\n",
       "      <td>29.5</td>\n",
       "      <td>143.5</td>\n",
       "      <td>46.4</td>\n",
       "      <td>562.89</td>\n",
       "      <td>170.6</td>\n",
       "      <td>1809.1</td>\n",
       "      <td>461.5</td>\n",
       "      <td>40.4</td>\n",
       "      <td>0.0</td>\n",
       "    </tr>\n",
       "  </tbody>\n",
       "</table>\n",
       "<p>5 rows × 214 columns</p>\n",
       "</div>"
      ],
      "text/plain": [
       "region                         AT                                       \\\n",
       "variable                  biomass   gas hard_coal   hydro other_fossil   \n",
       "utc_timestamp                                                            \n",
       "2018-01-01 00:00:00+00:00   316.0  71.0     150.0  3345.0         22.0   \n",
       "2018-01-01 01:00:00+00:00   316.0  70.0     149.0  3275.0         22.0   \n",
       "2018-01-01 02:00:00+00:00   316.0  69.0     149.0  3167.0         22.0   \n",
       "2018-01-01 03:00:00+00:00   316.0  72.0     149.0  3160.0         22.0   \n",
       "2018-01-01 04:00:00+00:00   316.0  75.0     149.0  3330.0         22.0   \n",
       "\n",
       "region                                                                   BE  \\\n",
       "variable                  other_renewable solar  waste wind_onshore biomass   \n",
       "utc_timestamp                                                                 \n",
       "2018-01-01 00:00:00+00:00             0.0   0.0  100.0        832.0  232.46   \n",
       "2018-01-01 01:00:00+00:00             0.0   0.0  100.0        926.0  153.58   \n",
       "2018-01-01 02:00:00+00:00             0.0   0.0  100.0        692.0  133.70   \n",
       "2018-01-01 03:00:00+00:00             0.0   0.0  100.0        453.0  131.38   \n",
       "2018-01-01 04:00:00+00:00             0.0   0.0  100.0        321.0  131.26   \n",
       "\n",
       "region                     ...           SI      SK                           \\\n",
       "variable                   ... wind_onshore biomass    gas hard_coal   hydro   \n",
       "utc_timestamp              ...                                                 \n",
       "2018-01-01 00:00:00+00:00  ...         0.70    28.2  175.6      48.1  455.93   \n",
       "2018-01-01 01:00:00+00:00  ...         0.61    28.1  172.9      48.0  461.95   \n",
       "2018-01-01 02:00:00+00:00  ...         0.57    28.1  162.1      46.7  513.39   \n",
       "2018-01-01 03:00:00+00:00  ...         0.62    29.7  140.3      45.3  587.83   \n",
       "2018-01-01 04:00:00+00:00  ...         0.56    29.5  143.5      46.4  562.89   \n",
       "\n",
       "region                                                                        \n",
       "variable                  lignite nuclear other_fossil other_renewable solar  \n",
       "utc_timestamp                                                                 \n",
       "2018-01-01 00:00:00+00:00   179.5  1819.3        478.8            41.4   0.0  \n",
       "2018-01-01 01:00:00+00:00   177.9  1816.7        475.8            41.0   0.0  \n",
       "2018-01-01 02:00:00+00:00   174.7  1808.7        469.5            40.8   0.0  \n",
       "2018-01-01 03:00:00+00:00   168.5  1803.6        455.6            39.4   0.0  \n",
       "2018-01-01 04:00:00+00:00   170.6  1809.1        461.5            40.4   0.0  \n",
       "\n",
       "[5 rows x 214 columns]"
      ]
     },
     "execution_count": 22,
     "metadata": {},
     "output_type": "execute_result"
    }
   ],
   "source": [
    "entsoe_gen_type_table.head()"
   ]
  },
  {
   "cell_type": "markdown",
   "metadata": {},
   "source": [
    "## Scaling entsoe generation data"
   ]
  },
  {
   "cell_type": "code",
   "execution_count": 23,
   "metadata": {},
   "outputs": [],
   "source": [
    "# zwei Möglichkeiten zu skalieren\n",
    "#1 skaliere nur, wenn der Wert in Quelle größer 0 ist und großer als im zu skalierenden Datensatz ist. Sonst überspringe und skaliere nicht.\n",
    "#2 skaliere alles nach FACT Sheet\n",
    "scaling_option = 1"
   ]
  },
  {
   "cell_type": "code",
   "execution_count": 24,
   "metadata": {},
   "outputs": [],
   "source": [
    "countries = entsoe_gen_type_table.columns.levels[0].to_list()"
   ]
  },
  {
   "cell_type": "code",
   "execution_count": 25,
   "metadata": {},
   "outputs": [
    {
     "name": "stdout",
     "output_type": "stream",
     "text": [
      "stats = 0 AT biomass\n",
      "stats = 0 AT solar\n",
      "stats = 0 AT waste\n",
      "entso-e > AT wind_onshore\n",
      "entso-e > BE gas\n",
      "entso-e > BE nuclear\n",
      "entso-e > BE other_fossil\n",
      "entso-e > BE solar\n",
      "entso-e > BE waste\n",
      "entso-e > BG gas\n",
      "entso-e > BG hard_coal\n",
      "entso-e > BG lignite\n",
      "entso-e > BG nuclear\n",
      "stats = 0 BG waste\n",
      "entso-e > CH nuclear\n",
      "entso-e > CY wind_onshore\n",
      "entso-e > CZ hard_coal\n",
      "entso-e > CZ hydro\n",
      "entso-e > CZ other_fossil\n",
      "stats = 0 CZ other_renewable\n",
      "entso-e > CZ solar\n",
      "stats = 0 CZ waste\n",
      "entso-e > CZ wind_onshore\n",
      "entso-e > DE biomass\n",
      "entso-e > DE hydro\n",
      "entso-e > DE other_fossil\n",
      "entso-e > DE solar\n",
      "entso-e > DE wind_offshore\n",
      "entso-e > DE wind_onshore\n",
      "entso-e > DK biomass\n",
      "entso-e > DK gas\n",
      "entso-e > DK other_fossil\n",
      "stats = 0 DK waste\n",
      "entso-e > DK wind_onshore\n",
      "stats = 0 EE gas\n",
      "stats = 0 EE other_renewable\n",
      "stats = 0 EE solar\n",
      "stats = 0 EE waste\n",
      "entso-e > EE wind_onshore\n",
      "entso-e > ES hard_coal\n",
      "entso-e > ES hydro\n",
      "entso-e > ES nuclear\n",
      "entso-e > ES waste\n",
      "entso-e > FI gas\n",
      "entso-e > FI hard_coal\n",
      "entso-e > FI other_fossil\n",
      "stats = 0 FI other_renewable\n",
      "stats = 0 FI waste\n",
      "entso-e > FR hard_coal\n",
      "stats = 0 GB other_fossil\n",
      "entso-e > GB wind_onshore\n",
      "entso-e > GR gas\n",
      "entso-e > GR lignite\n",
      "entso-e > HU gas\n",
      "entso-e > HU lignite\n",
      "entso-e > HU nuclear\n",
      "entso-e > HU other_fossil\n",
      "stats = 0 HU waste\n",
      "entso-e > IE hard_coal\n",
      "entso-e > IE hydro\n",
      "entso-e > IE other_fossil\n",
      "entso-e > IE wind_onshore\n",
      "entso-e > IT other_fossil\n",
      "entso-e > IT wind_onshore\n",
      "entso-e > LT biomass\n",
      "entso-e > LT hydro\n",
      "entso-e > LT waste\n",
      "entso-e > LT wind_onshore\n",
      "entso-e > LV gas\n",
      "entso-e > LV other_fossil\n",
      "entso-e > LV wind_onshore\n",
      "entso-e > ME lignite\n",
      "entso-e > NL nuclear\n",
      "stats = 0 NL other_fossil\n",
      "stats = 0 NL waste\n",
      "entso-e > NL wind_offshore\n",
      "entso-e > NO hydro\n",
      "stats = 0 NO other_fossil\n",
      "entso-e > PL hard_coal\n",
      "entso-e > PT gas\n",
      "entso-e > PT hard_coal\n",
      "entso-e > PT hydro\n",
      "entso-e > PT other_fossil\n",
      "entso-e > PT solar\n",
      "entso-e > RO biomass\n",
      "entso-e > RO gas\n",
      "entso-e > RO hard_coal\n",
      "entso-e > RO hydro\n",
      "entso-e > RO lignite\n",
      "entso-e > RO nuclear\n",
      "stats = 0 RS biomass\n",
      "entso-e > RS hydro\n",
      "stats = 0 RS other_fossil\n",
      "entso-e > SE hydro\n",
      "entso-e > SE other_fossil\n",
      "stats = 0 SI gas\n",
      "entso-e > SI lignite\n",
      "entso-e > SI solar\n",
      "stats = 0 SI waste\n",
      "stats = 0 SI wind_onshore\n",
      "entso-e > SK lignite\n",
      "entso-e > SK nuclear\n",
      "entso-e > SK other_fossil\n",
      "stats = 0 SK other_renewable\n"
     ]
    }
   ],
   "source": [
    "def normed(x): return x.divide(x.sum())\n",
    "\n",
    "if scaling_option == 1:  \n",
    "\n",
    "    entso_scaled = entsoe_gen_type_table.copy()\n",
    "\n",
    "    for country in countries:\n",
    "        for i in entso_scaled[country]:\n",
    "            try:\n",
    "                if entsoe_stats[country].at['2018',i] == 0:\n",
    "                    pass\n",
    "                    print('stats = 0 ' + country + ' ' +i)\n",
    "                elif entsoe_stats[country].at['2018',i] < entso_scaled[(country,i)].sum(): \n",
    "                    pass\n",
    "                    print('entso-e > ' + country + ' ' +i)\n",
    "                else:\n",
    "                    entso_scaled[(country,i)] = normed(entso_scaled[(country,i)]) * entsoe_stats[country].at['2018',i]\n",
    "            except KeyError:\n",
    "                pass\n",
    "                print('KeyErros ' + country + ' ' +i)\n",
    "\n",
    "elif scaling_option == 2:\n",
    "\n",
    "    entso_scaled = entsoe_gen_type_table.copy()\n",
    "    \n",
    "    for country in countries:\n",
    "        for i in entso_scaled[country]:\n",
    "            if entsoe_stats[country].at['2018',i] == 0:\n",
    "                pass\n",
    "                print(country + ' ' +i)\n",
    "            else:\n",
    "                try:\n",
    "                    entso_scaled[(country,i)] = normed(entso_scaled[(country,i)]) * entsoe_stats[country].at['2018',i]\n",
    "                except KeyError:\n",
    "                    pass\n",
    "                    print(country + ' ' +i)\n",
    "\n",
    "else:                    \n",
    "    pass\n",
    "    print('Select one of the available scaling options')"
   ]
  },
  {
   "cell_type": "markdown",
   "metadata": {},
   "source": [
    "## Check scaling"
   ]
  },
  {
   "cell_type": "code",
   "execution_count": 26,
   "metadata": {},
   "outputs": [],
   "source": [
    "country = 'NL'"
   ]
  },
  {
   "cell_type": "code",
   "execution_count": 27,
   "metadata": {},
   "outputs": [
    {
     "data": {
      "text/plain": [
       "variable\n",
       "biomass            239753.0\n",
       "gas              36625468.0\n",
       "hard_coal        10887558.0\n",
       "nuclear           3571693.0\n",
       "other_fossil      7770123.0\n",
       "solar             2130133.0\n",
       "waste              329325.0\n",
       "wind_offshore     3574250.0\n",
       "wind_onshore      5644886.0\n",
       "dtype: float64"
      ]
     },
     "execution_count": 27,
     "metadata": {},
     "output_type": "execute_result"
    }
   ],
   "source": [
    "entsoe_gen_type_table[country].sum()"
   ]
  },
  {
   "cell_type": "code",
   "execution_count": 28,
   "metadata": {},
   "outputs": [
    {
     "data": {
      "text/plain": [
       "70773189.0"
      ]
     },
     "execution_count": 28,
     "metadata": {},
     "output_type": "execute_result"
    }
   ],
   "source": [
    "entsoe_gen_type_table[country].sum().sum()"
   ]
  },
  {
   "cell_type": "code",
   "execution_count": 29,
   "metadata": {},
   "outputs": [
    {
     "data": {
      "text/plain": [
       "variable\n",
       "biomass           3.500000\n",
       "gas              71.400000\n",
       "hard_coal        16.700000\n",
       "nuclear           3.571693\n",
       "other_fossil      7.770123\n",
       "solar             3.100000\n",
       "waste             0.329325\n",
       "wind_offshore     3.574250\n",
       "wind_onshore      7.400000\n",
       "dtype: float64"
      ]
     },
     "execution_count": 29,
     "metadata": {},
     "output_type": "execute_result"
    }
   ],
   "source": [
    "entso_scaled[country].sum()/1000000"
   ]
  },
  {
   "cell_type": "code",
   "execution_count": 30,
   "metadata": {},
   "outputs": [
    {
     "data": {
      "text/plain": [
       "117345391.00000045"
      ]
     },
     "execution_count": 30,
     "metadata": {},
     "output_type": "execute_result"
    }
   ],
   "source": [
    "entso_scaled[country].sum().sum()"
   ]
  },
  {
   "cell_type": "code",
   "execution_count": 31,
   "metadata": {},
   "outputs": [
    {
     "data": {
      "text/plain": [
       "source\n",
       "biomass             3500000.0\n",
       "gas                71400000.0\n",
       "hard_coal          16700000.0\n",
       "hydro                100000.0\n",
       "lignite                   0.0\n",
       "nuclear             2800000.0\n",
       "other_fossil              0.0\n",
       "other_renewable           0.0\n",
       "solar               3100000.0\n",
       "waste                     0.0\n",
       "wind_offshore       3500000.0\n",
       "wind_onshore        7400000.0\n",
       "dtype: float64"
      ]
     },
     "execution_count": 31,
     "metadata": {},
     "output_type": "execute_result"
    }
   ],
   "source": [
    "entsoe_stats[country].sum()"
   ]
  },
  {
   "cell_type": "code",
   "execution_count": 32,
   "metadata": {},
   "outputs": [
    {
     "data": {
      "text/plain": [
       "108500000.0"
      ]
     },
     "execution_count": 32,
     "metadata": {},
     "output_type": "execute_result"
    }
   ],
   "source": [
    "entsoe_stats[country].sum().sum()"
   ]
  },
  {
   "cell_type": "code",
   "execution_count": 33,
   "metadata": {},
   "outputs": [],
   "source": [
    "GE_compar = pd.DataFrame()"
   ]
  },
  {
   "cell_type": "code",
   "execution_count": 34,
   "metadata": {},
   "outputs": [
    {
     "data": {
      "text/plain": [
       "Index([], dtype='object')"
      ]
     },
     "execution_count": 34,
     "metadata": {},
     "output_type": "execute_result"
    }
   ],
   "source": [
    "GE_compar.columns"
   ]
  },
  {
   "cell_type": "code",
   "execution_count": 35,
   "metadata": {},
   "outputs": [],
   "source": [
    "GE_compar = entsoe_gen_type_table.sum().reset_index().groupby('region').sum()"
   ]
  },
  {
   "cell_type": "code",
   "execution_count": 36,
   "metadata": {},
   "outputs": [],
   "source": [
    "GE_compar['ENTSO_E_Generation_scaled'] = entso_scaled.sum().reset_index().groupby('region').sum()"
   ]
  },
  {
   "cell_type": "code",
   "execution_count": 37,
   "metadata": {},
   "outputs": [],
   "source": [
    "GE_compar['diff'] = GE_compar['ENTSO_E_Generation_scaled'] - GE_compar[0]\n",
    "GE_compar['diff_pro'] = (100 / GE_compar[0]) * GE_compar['diff']\n",
    "\n",
    "#CI_compar['diff_bottom_up_vs_CI_1_top_down'] = CI_compar['CI_bottom_up'] - CI_compar['CI_1_top_down']\n",
    "#CI_compar['diff_pro_1'] = round((100 / CI_compar['CI_bottom_up']) * CI_compar['diff_bottom_up_vs_CI_1_top_down'])"
   ]
  },
  {
   "cell_type": "code",
   "execution_count": 38,
   "metadata": {},
   "outputs": [
    {
     "data": {
      "image/png": "[encoded data removed]",
      "text/plain": [
       "<Figure size 1080x432 with 1 Axes>"
      ]
     },
     "metadata": {},
     "output_type": "display_data"
    }
   ],
   "source": [
    "fig, ax = plt.subplots(1, 1)\n",
    "\n",
    "ax = round(GE_compar, 2).sort_values(by='diff_pro')['diff_pro'].plot(kind='bar', ylabel='Generation scaling (%)')\n",
    "\n",
    "ax.set_xlabel(\"Country\" , fontsize=20)\n",
    "ax.set_ylabel(\"Generation scaling (%)\", fontsize=20)\n",
    "\n",
    "ax.tick_params(axis='y',labelsize=19)\n",
    "ax.tick_params(axis='x',labelsize=19)\n",
    "\n",
    "\n",
    "ax.tick_params(axis='x', rotation=45)"
   ]
  },
  {
   "cell_type": "code",
   "execution_count": 39,
   "metadata": {},
   "outputs": [],
   "source": [
    "fig.savefig(os.path.join(output_directory_path + '/_generation_scaling.png'))"
   ]
  },
  {
   "cell_type": "code",
   "execution_count": 40,
   "metadata": {},
   "outputs": [
    {
     "data": {
      "text/plain": [
       "(0.0, 80.0)"
      ]
     },
     "execution_count": 40,
     "metadata": {},
     "output_type": "execute_result"
    },
    {
     "data": {
      "image/png": "[encoded data removed]",
      "text/plain": [
       "<Figure size 1080x432 with 1 Axes>"
      ]
     },
     "metadata": {},
     "output_type": "display_data"
    }
   ],
   "source": [
    "fig, ax = plt.subplots(1, 1)\n",
    "\n",
    "ax = round(GE_compar, 2).sort_values(by='diff_pro')['diff_pro'].plot(kind='bar', ylabel='Generation scaling (%)')\n",
    "\n",
    "ax.set_xlabel(\"Country\" , fontsize=20)\n",
    "ax.set_ylabel(\"Generation scaling (%)\", fontsize=20)\n",
    "\n",
    "ax.tick_params(axis='y',labelsize=19)\n",
    "ax.tick_params(axis='x',labelsize=19)\n",
    "\n",
    "\n",
    "ax.tick_params(axis='x', rotation=45)\n",
    "\n",
    "# zoom-in / limit the view to different portions of the data\n",
    "ax.set_ylim(0, 80)  # most of the data"
   ]
  },
  {
   "cell_type": "code",
   "execution_count": 41,
   "metadata": {},
   "outputs": [],
   "source": [
    "fig.savefig(os.path.join(output_directory_path + '/_generation_scaling_zoom.png'))"
   ]
  },
  {
   "cell_type": "markdown",
   "metadata": {},
   "source": [
    "# Export datasets"
   ]
  },
  {
   "cell_type": "code",
   "execution_count": 42,
   "metadata": {},
   "outputs": [],
   "source": [
    "entsoe_gen_type.to_csv(output_directory_path + '/entsoe_gen_type_hourly.csv')"
   ]
  },
  {
   "cell_type": "code",
   "execution_count": 43,
   "metadata": {},
   "outputs": [],
   "source": [
    "entsoe_gen_type_table.to_csv(output_directory_path + '/entsoe_gen_type_hourly_table.csv')"
   ]
  },
  {
   "cell_type": "code",
   "execution_count": 44,
   "metadata": {},
   "outputs": [],
   "source": [
    "entso_scaled.to_csv(output_directory_path + '/entsoe_gen_type_hourly_table_scaled.csv')"
   ]
  },
  {
   "cell_type": "markdown",
   "metadata": {},
   "source": [
    "# Export tech Dic"
   ]
  },
  {
   "cell_type": "code",
   "execution_count": 45,
   "metadata": {},
   "outputs": [],
   "source": [
    "dic = {\n",
    "            'Fossil Hard coal': 'hard_coal', \n",
    "            'Fossil Brown coal/Lignite': 'lignite', \n",
    "            'Fossil Gas': 'gas',\n",
    "            'Fossil Coal-derived gas': 'other_fossil',\n",
    "            'Fossil Peat': 'other_fossil',\n",
    "            'Nuclear': 'nuclear',\n",
    "            'Biomass': 'biomass',\n",
    "            'Waste': 'waste',\n",
    "            'Geothermal': 'other_renewable',\n",
    "            'Marine': 'other_renewable',\n",
    "            'Other': 'other_fossil',\n",
    "            'Hydro Pumped Storage': 'hydro',\n",
    "            'Hydro Run-of-river and poundage': 'hydro',\n",
    "            'Hydro Water Reservoir': 'hydro',\n",
    "            'Fossil Oil': 'other_fossil',\n",
    "            'Fossil Oil shale': 'other_fossil', \n",
    "            'Solar': 'solar',\n",
    "            'Wind Onshore': 'wind_onshore',\n",
    "            'Wind Offshore': 'wind_offshore',\n",
    "            'Other renewable': 'other_renewable'}"
   ]
  },
  {
   "cell_type": "code",
   "execution_count": 46,
   "metadata": {},
   "outputs": [],
   "source": [
    "pd.DataFrame.from_dict(dic, columns=['B'], orient='index').to_csv(output_directory_path + '/entso_gen_type_dic.csv')"
   ]
  },
  {
   "cell_type": "code",
   "execution_count": null,
   "metadata": {},
   "outputs": [],
   "source": []
  }
 ],
 "metadata": {
  "kernelspec": {
   "display_name": "Python 3",
   "language": "python",
   "name": "python3"
  },
  "language_info": {
   "codemirror_mode": {
    "name": "ipython",
    "version": 3
   },
   "file_extension": ".py",
   "mimetype": "text/x-python",
   "name": "python",
   "nbconvert_exporter": "python",
   "pygments_lexer": "ipython3",
   "version": "3.7.9"
  },
  "toc": {
   "base_numbering": 1,
   "nav_menu": {},
   "number_sections": true,
   "sideBar": true,
   "skip_h1_title": false,
   "title_cell": "Table of Contents",
   "title_sidebar": "Contents",
   "toc_cell": false,
   "toc_position": {},
   "toc_section_display": true,
   "toc_window_display": false
  }
 },
 "nbformat": 4,
 "nbformat_minor": 4
}
