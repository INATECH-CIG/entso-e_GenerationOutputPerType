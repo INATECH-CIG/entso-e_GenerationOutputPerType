{
 "cells": [
  {
   "cell_type": "markdown",
   "metadata": {},
   "source": [
    "# entso e Actual Generation per Type data"
   ]
  },
  {
   "cell_type": "markdown",
   "metadata": {},
   "source": [
    "In this Jupyter Notebook we importing the entso e Actual Generation per Type data from OPSD data processing\n",
    "and correcting the hourly data with reported values from eurostat"
   ]
  },
  {
   "cell_type": "markdown",
   "metadata": {},
   "source": [
    "## Data sources"
   ]
  },
  {
   "cell_type": "markdown",
   "metadata": {},
   "source": [
    "1. ENTSO-E Transparency Platform, Actual Generation per Type Available online: https://transparency.entsoe.eu/generation/r2/actualGenerationPerProductionType/show (accessed on Oct 02, 2020).\n",
    " - Proccesed with OPSD time series scrips\n",
    " \n",
    " \n",
    "2. Energy Balances in the MS Excel file format (2020 edition) eurostat https://ec.europa.eu/eurostat/de/web/energy/data/energy-balances (accessed on Oct 02, 2020).\n",
    "\n",
    "\n"
   ]
  },
  {
   "cell_type": "markdown",
   "metadata": {},
   "source": [
    "## Import python libraries"
   ]
  },
  {
   "cell_type": "code",
   "execution_count": 1,
   "metadata": {},
   "outputs": [],
   "source": [
    "import numpy as np\n",
    "import pandas as pd\n",
    "import yaml\n",
    "\n",
    "\n",
    "#Helpers\n",
    "import os\n",
    "#import pycountry\n",
    "import glob\n",
    "from datetime import datetime, date, timedelta, time\n",
    "\n",
    "\n",
    "#Ploting\n",
    "import matplotlib.pyplot as plt\n",
    "#import seaborn as sns\n",
    "\n",
    "\n",
    "%matplotlib inline\n",
    "plt.style.use('seaborn')\n",
    "plt.rcParams['figure.figsize'] = [15, 6]"
   ]
  },
  {
   "cell_type": "markdown",
   "metadata": {},
   "source": [
    "## Set data directories"
   ]
  },
  {
   "cell_type": "markdown",
   "metadata": {},
   "source": [
    "Create input, processed and output folders if they don't exist. If the paths are relative, the correspoding folders will be created inside the current working directory."
   ]
  },
  {
   "cell_type": "code",
   "execution_count": 2,
   "metadata": {},
   "outputs": [],
   "source": [
    "input_directory_path = os.path.join('input')\n",
    "processed_directory_path = 'processed'\n",
    "output_directory_path = os.path.join('output')\n",
    "\n",
    "sources_yaml_path = os.path.join('input', 'sources.yml')\n",
    "\n",
    "os.makedirs(input_directory_path, exist_ok=True)\n",
    "os.makedirs(processed_directory_path, exist_ok=True)\n",
    "os.makedirs(output_directory_path, exist_ok=True)"
   ]
  },
  {
   "cell_type": "markdown",
   "metadata": {},
   "source": [
    "## Define functions¶"
   ]
  },
  {
   "cell_type": "code",
   "execution_count": 3,
   "metadata": {},
   "outputs": [],
   "source": [
    "# Import function timeseries_opsd\n",
    "\n",
    "def load_timeseries_opsd(years=None, fn=None, countries=None, source=\"ENTSOE_transparency\"):\n",
    "    \"\"\"\n",
    "    Read data from OPSD time-series package own modification.\n",
    "\n",
    "    Parameters\n",
    "    ----------\n",
    "    years : None or slice()\n",
    "        Years for which to read load data (defaults to\n",
    "        slice(\"2018\",\"2019\"))\n",
    "        \n",
    "    fn : file name or url location (file format .csv)\n",
    "    \n",
    "    countries : Countries for which to read load data.\n",
    "        \n",
    "    source : \"ENTSOE_transparency\" or \"ENTSOE_power_statistics\"\n",
    "\n",
    "    Returns\n",
    "    -------\n",
    "    load : pd.DataFrame\n",
    "        Load time-series with UTC timestamps x ISO-2 countries\n",
    "    \"\"\"\n",
    "\n",
    "     \n",
    "    if source == 'ENTSOE_transparency':\n",
    "        generation = (pd.read_csv(fn, index_col=[0], header=[0, 1, 2, 3, 4, 5], parse_dates=True)\n",
    "                    .dropna(how=\"all\", axis=0))\n",
    "        \n",
    "    else:\n",
    "        raise NotImplementedError(f\"Data for source `{source}` not available.\")\n",
    "    \n",
    "    \n",
    "    #generation = generation.rename(columns={'GB_UKM' : 'GB'}).filter(items=countries)\n",
    "       \n",
    "    \n",
    "    return generation"
   ]
  },
  {
   "cell_type": "code",
   "execution_count": 4,
   "metadata": {},
   "outputs": [],
   "source": [
    "def import_eurostat_energy_balance_sheets(path, years, countries):\n",
    "    \"\"\"\n",
    "    Load and standardize the raw eurostat energy balance sheet files June-2020-edition.\n",
    "\n",
    "    Parameters\n",
    "    ----------\n",
    "    path : Path to data directory\n",
    "\n",
    "\n",
    "    \"\"\"\n",
    "    \n",
    "    data = pd.DataFrame()\n",
    "\n",
    "    for country in countries:\n",
    "        year_data = pd.DataFrame()\n",
    "        try:\n",
    "            file_name = path + '\\\\' + country + '-Energy-balance-sheets-June-2020-edition.xlsb'\n",
    "            #check if file exists is slow \n",
    "            df = pd.read_excel(io=file_name, engine='pyxlsb')\n",
    "        except FileNotFoundError:\n",
    "                print(country + 'data file not in directory')\n",
    "                continue\n",
    "            \n",
    "        for year in years:\n",
    "            #read excel file\n",
    "            df = pd.read_excel(io=file_name, sheet_name=year, engine='pyxlsb', header=135, skipfooter=10, usecols=sources['eurostat energy balances']['Energy Balances in the MS Excel file format']['variable_type'], na_values='Z').iloc[1:3].sum()\n",
    "            # convert to DataFrame and make year as rows\n",
    "            df = df.to_frame(year).transpose()\n",
    "            # make year as DateTime index\n",
    "            df.index = pd.to_datetime(df.index)\n",
    "            # rename columns \n",
    "            df.rename(sources['eurostat energy balances']['Energy Balances in the MS Excel file format']['variable_type'], axis=1, inplace=True)\n",
    "            # group the same source (sum it up)\n",
    "            df = df.groupby(df.columns, axis=1).sum()\n",
    "            # gen Multi Index out of column names and country name\n",
    "            df.columns = pd.MultiIndex.from_product([[country], df.columns])\n",
    "            # append year data to dateframe\n",
    "            year_data = year_data.append(df)\n",
    "        \n",
    "        # concat different countries   \n",
    "        data = pd.concat([data, year_data], axis=1, sort=False)\n",
    "\n",
    "\n",
    "    #convert data to MWh\n",
    "    data = data * 11630\n",
    "\n",
    "    return data"
   ]
  },
  {
   "cell_type": "code",
   "execution_count": 6,
   "metadata": {},
   "outputs": [],
   "source": [
    "def change_ProductionTypeName (entsoe_timeseries):\n",
    "    return entsoe_timeseries.ProductionTypeName.replace(\n",
    "                                {'Fossil Hard coal': 'Hard Coal',\n",
    "                                 'Fossil Brown coal/Lignite':'Lignite',\n",
    "                                 'Fossil Gas': 'Gas',\n",
    "                                 'Fossil Oil' : 'Other fossil',\n",
    "                                 'Fossil Coal-derived gas': 'Other fossil',\n",
    "                                 'Fossil Peat': 'Other fossil',\n",
    "                                 'Fossil Oil Shale' : 'Other fossil',\n",
    "                                 'Other' : 'Other fossil',\n",
    "                                 '.*Hydro.*': 'Hydro',\n",
    "                                 '.*Oil.*': 'Oil'\n",
    "                                 }, regex = True, inplace = True)"
   ]
  },
  {
   "cell_type": "markdown",
   "metadata": {},
   "source": [
    "## Set filter parameter"
   ]
  },
  {
   "cell_type": "code",
   "execution_count": 8,
   "metadata": {},
   "outputs": [
    {
     "name": "stderr",
     "output_type": "stream",
     "text": [
      "C:\\Users\\Freddy\\.conda\\envs\\Lecture\\lib\\site-packages\\ipykernel_launcher.py:2: YAMLLoadWarning: calling yaml.load() without Loader=... is deprecated, as the default Loader is unsafe. Please read https://msg.pyyaml.org/load for full details.\n",
      "  \n"
     ]
    }
   ],
   "source": [
    "with open(sources_yaml_path, 'r', encoding='UTF-8') as f:\n",
    "    sources = yaml.load(f.read())"
   ]
  },
  {
   "cell_type": "markdown",
   "metadata": {},
   "source": [
    "# Change the production type names\n",
    "new_ProductionTypeName = False\n",
    "\n",
    "\n",
    "renewables:\n",
    "            Solar: solar\n",
    "            Wind Onshore: wind_onshore\n",
    "            Wind Offshore: wind_offshore\n",
    "            Biomass: biomass\n",
    "            Other renewable: other_renewable\n",
    "        conventional:\n",
    "            Fossil Hard coal: hard_coal \n",
    "            Fossil Brown coal/Lignite: lignite \n",
    "            Fossil Gas: gas \n",
    "            Fossil Oil: other_fossil\n",
    "            Fossil Coal-derived gas: other_fossil\n",
    "            Fossil Peat: other_fossil\n",
    "            Fossil Oil Shale: other_fossil\n",
    "            Other: other_fossil\n",
    "            Hydro Pumped Storage: hydro\n",
    "            Hydro Run-of-river and poundage: hydro\n",
    "            Hydro Water Reservoir: hydro\n",
    "            Fossil Oil: oil\n",
    "            Fossil Oil shale: oil \n",
    "\n",
    "\n",
    "#old                        : new\n",
    "#------------------------------------------------\n",
    "#'Fossil Hard coal'         : 'Hard Coal',\n",
    "#'Fossil Brown coal/Lignite': 'Lignite',\n",
    "#'Fossil Gas'               : 'Gas',\n",
    "#'Fossil Oil'               : 'Other fossil',\n",
    "#'Fossil Coal-derived gas'  : 'Other fossil',\n",
    "#'Fossil Peat'              : 'Other fossil',\n",
    "#'Fossil Oil Shale'         : 'Other fossil',\n",
    "#'Other'                    : 'Other fossil',\n",
    "#'.*Hydro.*'                : 'Hydro',\n",
    "#'.*Oil.*'                  : 'Oil'\n",
    "\n",
    "# dataset period\n",
    "start = '2019-01-01'\n",
    "end = '2020-01-01'\n",
    "closed='left' # end is not included \n",
    "\n",
    "# test dataet about gaps, timedate and duplicates\n",
    "test_dataset = False\n",
    "\n",
    "# countries to analyze\n",
    "#countries = ['AT', 'BE', 'BG', 'CH', 'CZ', 'DE', 'DK', 'EE', 'ES', 'FI', 'FR', 'GB', 'GR', 'HR', 'HU', 'IE', 'IT', 'LT', 'LU', 'LV', 'ME', 'NL', 'NO', 'PL', 'PT', 'RO', 'RS', 'SE', 'SI', 'SK']\n",
    "\n",
    "#'AL', \n",
    "#missing in the data 'BA', 'MK'\n",
    "\n",
    "#Dic to convert between alpha 3 and alpha 2\n",
    "countries_dic = {}\n",
    "for country in pycountry.countries:\n",
    "    countries_dic[country.alpha_3] = country.alpha_2"
   ]
  },
  {
   "cell_type": "code",
   "execution_count": 10,
   "metadata": {},
   "outputs": [],
   "source": [
    "year = '2018'\n",
    "df= pd.DataFrame()\n",
    "df = pd.read_excel(io=input_directory_path + '\\DE-Energy-balance-sheets-June-2020-edition.xlsb', sheet_name=year, engine='pyxlsb', header=135, skipfooter=10, usecols=sources['eurostat energy balances']['Energy Balances in the MS Excel file format']['variable_type'], na_values='Z').iloc[1:3].sum()\n",
    "df = df.to_frame(year).transpose()\n",
    "\n",
    "year = '2017'\n",
    "#df.concat(pd.read_excel(io=input_directory_path + '\\DE-Energy-balance-sheets-June-2020-edition.xlsb', sheet_name=year, engine='pyxlsb', header=135, skipfooter=10, usecols=sources['eurostat energy balances']['Energy Balances in the MS Excel file format']['variable_type'], na_values='Z').iloc[1:3].sum())\n",
    "\n",
    "df.index = pd.to_datetime(df.index)\n",
    "\n"
   ]
  },
  {
   "cell_type": "code",
   "execution_count": 11,
   "metadata": {},
   "outputs": [
    {
     "data": {
      "text/html": [
       "<div>\n",
       "<style scoped>\n",
       "    .dataframe tbody tr th:only-of-type {\n",
       "        vertical-align: middle;\n",
       "    }\n",
       "\n",
       "    .dataframe tbody tr th {\n",
       "        vertical-align: top;\n",
       "    }\n",
       "\n",
       "    .dataframe thead th {\n",
       "        text-align: right;\n",
       "    }\n",
       "</style>\n",
       "<table border=\"1\" class=\"dataframe\">\n",
       "  <thead>\n",
       "    <tr style=\"text-align: right;\">\n",
       "      <th></th>\n",
       "      <th>Anthracite</th>\n",
       "      <th>Coking coal</th>\n",
       "      <th>Other bituminous coal</th>\n",
       "      <th>Sub-bituminous coal</th>\n",
       "      <th>Lignite</th>\n",
       "      <th>Patent fuel</th>\n",
       "      <th>Coke oven coke</th>\n",
       "      <th>Gas coke</th>\n",
       "      <th>Coal tar</th>\n",
       "      <th>Brown coal briquettes</th>\n",
       "      <th>...</th>\n",
       "      <th>Blended biogasoline</th>\n",
       "      <th>Pure biodiesels</th>\n",
       "      <th>Blended biodiesels</th>\n",
       "      <th>Pure bio jet kerosene</th>\n",
       "      <th>Blended bio jet kerosene</th>\n",
       "      <th>Other liquid biofuels</th>\n",
       "      <th>Ambient heat (heat pumps)</th>\n",
       "      <th>Industrial waste (non-renewable)</th>\n",
       "      <th>Non-renewable municipal waste</th>\n",
       "      <th>Nuclear heat</th>\n",
       "    </tr>\n",
       "  </thead>\n",
       "  <tbody>\n",
       "    <tr>\n",
       "      <th>2018-01-01</th>\n",
       "      <td>259.071</td>\n",
       "      <td>755.116</td>\n",
       "      <td>5807.481</td>\n",
       "      <td>0.0</td>\n",
       "      <td>12150.731</td>\n",
       "      <td>0.0</td>\n",
       "      <td>0.0</td>\n",
       "      <td>0.0</td>\n",
       "      <td>0.0</td>\n",
       "      <td>73.173</td>\n",
       "      <td>...</td>\n",
       "      <td>0.0</td>\n",
       "      <td>0.0</td>\n",
       "      <td>0.0</td>\n",
       "      <td>0.0</td>\n",
       "      <td>0.0</td>\n",
       "      <td>39.725</td>\n",
       "      <td>0.0</td>\n",
       "      <td>58.297</td>\n",
       "      <td>505.331</td>\n",
       "      <td>6535.254</td>\n",
       "    </tr>\n",
       "  </tbody>\n",
       "</table>\n",
       "<p>1 rows × 58 columns</p>\n",
       "</div>"
      ],
      "text/plain": [
       "            Anthracite  Coking coal  Other bituminous coal  \\\n",
       "2018-01-01     259.071      755.116               5807.481   \n",
       "\n",
       "            Sub-bituminous coal    Lignite  Patent fuel  Coke oven coke  \\\n",
       "2018-01-01                  0.0  12150.731          0.0             0.0   \n",
       "\n",
       "            Gas coke  Coal tar  Brown coal briquettes  ...  \\\n",
       "2018-01-01       0.0       0.0                 73.173  ...   \n",
       "\n",
       "            Blended biogasoline  Pure biodiesels  Blended biodiesels  \\\n",
       "2018-01-01                  0.0              0.0                 0.0   \n",
       "\n",
       "            Pure bio jet kerosene  Blended bio jet kerosene  \\\n",
       "2018-01-01                    0.0                       0.0   \n",
       "\n",
       "            Other liquid biofuels  Ambient heat (heat pumps)  \\\n",
       "2018-01-01                 39.725                        0.0   \n",
       "\n",
       "            Industrial waste (non-renewable)  Non-renewable municipal waste  \\\n",
       "2018-01-01                            58.297                        505.331   \n",
       "\n",
       "            Nuclear heat  \n",
       "2018-01-01      6535.254  \n",
       "\n",
       "[1 rows x 58 columns]"
      ]
     },
     "execution_count": 11,
     "metadata": {},
     "output_type": "execute_result"
    }
   ],
   "source": [
    "df\n"
   ]
  },
  {
   "cell_type": "code",
   "execution_count": 12,
   "metadata": {},
   "outputs": [
    {
     "ename": "NameError",
     "evalue": "name 'importlib' is not defined",
     "output_type": "error",
     "traceback": [
      "\u001b[1;31m---------------------------------------------------------------------------\u001b[0m",
      "\u001b[1;31mNameError\u001b[0m                                 Traceback (most recent call last)",
      "\u001b[1;32m<ipython-input-12-b1b416b12329>\u001b[0m in \u001b[0;36m<module>\u001b[1;34m\u001b[0m\n\u001b[1;32m----> 1\u001b[1;33m \u001b[0mimportlib\u001b[0m\u001b[1;33m.\u001b[0m\u001b[0mimport_module\u001b[0m\u001b[1;33m(\u001b[0m\u001b[1;34m'pyxlsb'\u001b[0m\u001b[1;33m)\u001b[0m\u001b[1;33m\u001b[0m\u001b[1;33m\u001b[0m\u001b[0m\n\u001b[0m",
      "\u001b[1;31mNameError\u001b[0m: name 'importlib' is not defined"
     ]
    }
   ],
   "source": [
    "importlib.import_module('pyxlsb')"
   ]
  },
  {
   "cell_type": "markdown",
   "metadata": {},
   "source": [
    "## Load and filter data¶"
   ]
  },
  {
   "cell_type": "code",
   "execution_count": 12,
   "metadata": {},
   "outputs": [],
   "source": [
    "start = '2018-01-01 01:00:00+00:00'\n",
    "end = '2018-12-30 23:00:00+00:00'"
   ]
  },
  {
   "cell_type": "code",
   "execution_count": 13,
   "metadata": {},
   "outputs": [],
   "source": [
    "# load and standardize data timeseries_opsd\n",
    "\n",
    "entsoe_gen_type = load_timeseries_opsd(years=None, fn=input_directory_path + '/time_series_60min_multiindex.csv', countries=None, source=\"ENTSOE_transparency\")"
   ]
  },
  {
   "cell_type": "code",
   "execution_count": 14,
   "metadata": {},
   "outputs": [],
   "source": [
    "entsoe_gen_type = entsoe_gen_type.loc[start:end, :]"
   ]
  },
  {
   "cell_type": "code",
   "execution_count": 15,
   "metadata": {},
   "outputs": [
    {
     "data": {
      "text/plain": [
       "Index(['cet_cest_timestamp', 'AT', 'BE', 'BG', 'CH', 'CY', 'CZ', 'DE',\n",
       "       'DE_50hertz', 'DE_LU', 'DE_amprion', 'DE_tennet', 'DE_transnetbw', 'DK',\n",
       "       'DK_1', 'DK_2', 'DK_energinet', 'EE', 'ES', 'FI', 'FR', 'GB_GBN',\n",
       "       'GB_NIR', 'GB_UKM', 'GR', 'HU', 'IE', 'IE_sem', 'IT', 'IT_BRNN',\n",
       "       'IT_CNOR', 'IT_CSUD', 'IT_FOGN', 'IT_NORD', 'IT_PRGP', 'IT_ROSN',\n",
       "       'IT_SARD', 'IT_SICI', 'IT_SUD', 'LT', 'LV', 'ME', 'NL', 'NO', 'NO_1',\n",
       "       'NO_2', 'NO_3', 'NO_4', 'NO_5', 'PL', 'PT', 'RO', 'RS', 'SE', 'SE_1',\n",
       "       'SE_2', 'SE_3', 'SE_4', 'SI', 'SK'],\n",
       "      dtype='object', name='region')"
      ]
     },
     "execution_count": 15,
     "metadata": {},
     "output_type": "execute_result"
    }
   ],
   "source": [
    "entsoe_gen_type.columns.get_level_values(level=0).unique()"
   ]
  },
  {
   "cell_type": "code",
   "execution_count": 16,
   "metadata": {},
   "outputs": [
    {
     "name": "stderr",
     "output_type": "stream",
     "text": [
      "C:\\Users\\Freddy\\.conda\\envs\\Lecture\\lib\\site-packages\\IPython\\core\\interactiveshell.py:2877: PerformanceWarning: indexing past lexsort depth may impact performance.\n",
      "  raw_cell, store_history, silent, shell_futures)\n"
     ]
    },
    {
     "data": {
      "text/html": [
       "<div>\n",
       "<style scoped>\n",
       "    .dataframe tbody tr th:only-of-type {\n",
       "        vertical-align: middle;\n",
       "    }\n",
       "\n",
       "    .dataframe tbody tr th {\n",
       "        vertical-align: top;\n",
       "    }\n",
       "\n",
       "    .dataframe thead tr th {\n",
       "        text-align: left;\n",
       "    }\n",
       "\n",
       "    .dataframe thead tr:last-of-type th {\n",
       "        text-align: right;\n",
       "    }\n",
       "</style>\n",
       "<table border=\"1\" class=\"dataframe\">\n",
       "  <thead>\n",
       "    <tr>\n",
       "      <th>attribute</th>\n",
       "      <th>generation_actual</th>\n",
       "    </tr>\n",
       "    <tr>\n",
       "      <th>source</th>\n",
       "      <th>own calculation based on ENTSO-E Transparency</th>\n",
       "    </tr>\n",
       "    <tr>\n",
       "      <th>web</th>\n",
       "      <th>https://transparency.entsoe.eu/generation/r2/actualGenerationPerProductionType/show</th>\n",
       "    </tr>\n",
       "    <tr>\n",
       "      <th>unit</th>\n",
       "      <th>MW</th>\n",
       "    </tr>\n",
       "    <tr>\n",
       "      <th>utc_timestamp</th>\n",
       "      <th></th>\n",
       "    </tr>\n",
       "  </thead>\n",
       "  <tbody>\n",
       "    <tr>\n",
       "      <th>2018-01-01 01:00:00+00:00</th>\n",
       "      <td>4591.0</td>\n",
       "    </tr>\n",
       "    <tr>\n",
       "      <th>2018-01-01 02:00:00+00:00</th>\n",
       "      <td>4889.0</td>\n",
       "    </tr>\n",
       "    <tr>\n",
       "      <th>2018-01-01 03:00:00+00:00</th>\n",
       "      <td>4696.0</td>\n",
       "    </tr>\n",
       "    <tr>\n",
       "      <th>2018-01-01 04:00:00+00:00</th>\n",
       "      <td>4831.0</td>\n",
       "    </tr>\n",
       "    <tr>\n",
       "      <th>2018-01-01 05:00:00+00:00</th>\n",
       "      <td>4763.0</td>\n",
       "    </tr>\n",
       "    <tr>\n",
       "      <th>...</th>\n",
       "      <td>...</td>\n",
       "    </tr>\n",
       "    <tr>\n",
       "      <th>2018-12-30 19:00:00+00:00</th>\n",
       "      <td>9452.0</td>\n",
       "    </tr>\n",
       "    <tr>\n",
       "      <th>2018-12-30 20:00:00+00:00</th>\n",
       "      <td>9444.0</td>\n",
       "    </tr>\n",
       "    <tr>\n",
       "      <th>2018-12-30 21:00:00+00:00</th>\n",
       "      <td>9448.0</td>\n",
       "    </tr>\n",
       "    <tr>\n",
       "      <th>2018-12-30 22:00:00+00:00</th>\n",
       "      <td>9419.0</td>\n",
       "    </tr>\n",
       "    <tr>\n",
       "      <th>2018-12-30 23:00:00+00:00</th>\n",
       "      <td>9369.0</td>\n",
       "    </tr>\n",
       "  </tbody>\n",
       "</table>\n",
       "<p>8735 rows × 1 columns</p>\n",
       "</div>"
      ],
      "text/plain": [
       "attribute                                                                                   generation_actual\n",
       "source                                                          own calculation based on ENTSO-E Transparency\n",
       "web                       https://transparency.entsoe.eu/generation/r2/actualGenerationPerProductionType/show\n",
       "unit                                                                                                       MW\n",
       "utc_timestamp                                                                                                \n",
       "2018-01-01 01:00:00+00:00                                             4591.0                                 \n",
       "2018-01-01 02:00:00+00:00                                             4889.0                                 \n",
       "2018-01-01 03:00:00+00:00                                             4696.0                                 \n",
       "2018-01-01 04:00:00+00:00                                             4831.0                                 \n",
       "2018-01-01 05:00:00+00:00                                             4763.0                                 \n",
       "...                                                                      ...                                 \n",
       "2018-12-30 19:00:00+00:00                                             9452.0                                 \n",
       "2018-12-30 20:00:00+00:00                                             9444.0                                 \n",
       "2018-12-30 21:00:00+00:00                                             9448.0                                 \n",
       "2018-12-30 22:00:00+00:00                                             9419.0                                 \n",
       "2018-12-30 23:00:00+00:00                                             9369.0                                 \n",
       "\n",
       "[8735 rows x 1 columns]"
      ]
     },
     "execution_count": 16,
     "metadata": {},
     "output_type": "execute_result"
    }
   ],
   "source": [
    "entsoe_gen_type[('DE','nuclear')]\n"
   ]
  },
  {
   "cell_type": "code",
   "execution_count": 30,
   "metadata": {},
   "outputs": [],
   "source": [
    "years = ['2018','2017','2016','2015','2014','2013']\n",
    "\n",
    "countries = ['AT', 'BE', 'CZ', 'DE', 'DK', 'FR', 'NL', 'PL'] # CH LU\n",
    "\n",
    "data = import_eurostat_energy_balance_sheets(input_directory_path, years, countries)"
   ]
  },
  {
   "cell_type": "code",
   "execution_count": 31,
   "metadata": {},
   "outputs": [
    {
     "data": {
      "text/html": [
       "<div>\n",
       "<style scoped>\n",
       "    .dataframe tbody tr th:only-of-type {\n",
       "        vertical-align: middle;\n",
       "    }\n",
       "\n",
       "    .dataframe tbody tr th {\n",
       "        vertical-align: top;\n",
       "    }\n",
       "\n",
       "    .dataframe thead th {\n",
       "        text-align: right;\n",
       "    }\n",
       "</style>\n",
       "<table border=\"1\" class=\"dataframe\">\n",
       "  <thead>\n",
       "    <tr style=\"text-align: right;\">\n",
       "      <th></th>\n",
       "      <th>biomass</th>\n",
       "      <th>gas</th>\n",
       "      <th>geothermal</th>\n",
       "      <th>hard_coal</th>\n",
       "      <th>hydro</th>\n",
       "      <th>lignite</th>\n",
       "      <th>marine</th>\n",
       "      <th>nuclear</th>\n",
       "      <th>oil</th>\n",
       "      <th>other_fossil</th>\n",
       "      <th>other_renewable</th>\n",
       "      <th>solar</th>\n",
       "      <th>waste</th>\n",
       "      <th>wind</th>\n",
       "    </tr>\n",
       "  </thead>\n",
       "  <tbody>\n",
       "    <tr>\n",
       "      <th>2018-01-01</th>\n",
       "      <td>33217001.24</td>\n",
       "      <td>56370993.79</td>\n",
       "      <td>177997.15</td>\n",
       "      <td>7.933600e+07</td>\n",
       "      <td>24057003.90</td>\n",
       "      <td>1.421640e+08</td>\n",
       "      <td>0.0</td>\n",
       "      <td>76005004.02</td>\n",
       "      <td>354005.57</td>\n",
       "      <td>22003.96</td>\n",
       "      <td>13057001.00</td>\n",
       "      <td>45783995.45</td>\n",
       "      <td>6554993.64</td>\n",
       "      <td>1.099510e+08</td>\n",
       "    </tr>\n",
       "    <tr>\n",
       "      <th>2017-01-01</th>\n",
       "      <td>33668001.01</td>\n",
       "      <td>60202997.38</td>\n",
       "      <td>162994.45</td>\n",
       "      <td>8.946101e+07</td>\n",
       "      <td>25983001.68</td>\n",
       "      <td>1.449590e+08</td>\n",
       "      <td>0.0</td>\n",
       "      <td>76324003.29</td>\n",
       "      <td>476004.27</td>\n",
       "      <td>7001.26</td>\n",
       "      <td>12401999.40</td>\n",
       "      <td>39400997.88</td>\n",
       "      <td>6759995.65</td>\n",
       "      <td>1.056930e+08</td>\n",
       "    </tr>\n",
       "    <tr>\n",
       "      <th>2016-01-01</th>\n",
       "      <td>33509995.83</td>\n",
       "      <td>56925000.47</td>\n",
       "      <td>174996.61</td>\n",
       "      <td>1.088330e+08</td>\n",
       "      <td>25957997.18</td>\n",
       "      <td>1.461880e+08</td>\n",
       "      <td>0.0</td>\n",
       "      <td>84633998.82</td>\n",
       "      <td>493007.33</td>\n",
       "      <td>3000.54</td>\n",
       "      <td>12509995.58</td>\n",
       "      <td>38097995.94</td>\n",
       "      <td>6843010.59</td>\n",
       "      <td>7.992400e+07</td>\n",
       "    </tr>\n",
       "    <tr>\n",
       "      <th>2015-01-01</th>\n",
       "      <td>32891000.71</td>\n",
       "      <td>39626003.49</td>\n",
       "      <td>133000.68</td>\n",
       "      <td>1.168030e+08</td>\n",
       "      <td>24739998.91</td>\n",
       "      <td>1.511430e+08</td>\n",
       "      <td>0.0</td>\n",
       "      <td>91785995.25</td>\n",
       "      <td>892997.92</td>\n",
       "      <td>17003.06</td>\n",
       "      <td>12690004.72</td>\n",
       "      <td>38726004.31</td>\n",
       "      <td>6563995.26</td>\n",
       "      <td>8.062400e+07</td>\n",
       "    </tr>\n",
       "    <tr>\n",
       "      <th>2014-01-01</th>\n",
       "      <td>30890001.06</td>\n",
       "      <td>42429996.49</td>\n",
       "      <td>97994.38</td>\n",
       "      <td>1.175180e+08</td>\n",
       "      <td>25282003.43</td>\n",
       "      <td>1.524440e+08</td>\n",
       "      <td>0.0</td>\n",
       "      <td>97129003.33</td>\n",
       "      <td>869005.23</td>\n",
       "      <td>12002.16</td>\n",
       "      <td>12760005.69</td>\n",
       "      <td>36056000.54</td>\n",
       "      <td>6934992.26</td>\n",
       "      <td>5.849700e+07</td>\n",
       "    </tr>\n",
       "    <tr>\n",
       "      <th>2013-01-01</th>\n",
       "      <td>29090991.25</td>\n",
       "      <td>50418003.84</td>\n",
       "      <td>80002.77</td>\n",
       "      <td>1.262720e+08</td>\n",
       "      <td>28599995.91</td>\n",
       "      <td>1.571520e+08</td>\n",
       "      <td>0.0</td>\n",
       "      <td>97289997.42</td>\n",
       "      <td>1644005.17</td>\n",
       "      <td>45996.65</td>\n",
       "      <td>11964001.97</td>\n",
       "      <td>31009999.40</td>\n",
       "      <td>6061009.39</td>\n",
       "      <td>5.273700e+07</td>\n",
       "    </tr>\n",
       "  </tbody>\n",
       "</table>\n",
       "</div>"
      ],
      "text/plain": [
       "                biomass          gas  geothermal     hard_coal        hydro  \\\n",
       "2018-01-01  33217001.24  56370993.79   177997.15  7.933600e+07  24057003.90   \n",
       "2017-01-01  33668001.01  60202997.38   162994.45  8.946101e+07  25983001.68   \n",
       "2016-01-01  33509995.83  56925000.47   174996.61  1.088330e+08  25957997.18   \n",
       "2015-01-01  32891000.71  39626003.49   133000.68  1.168030e+08  24739998.91   \n",
       "2014-01-01  30890001.06  42429996.49    97994.38  1.175180e+08  25282003.43   \n",
       "2013-01-01  29090991.25  50418003.84    80002.77  1.262720e+08  28599995.91   \n",
       "\n",
       "                 lignite  marine      nuclear         oil  other_fossil  \\\n",
       "2018-01-01  1.421640e+08     0.0  76005004.02   354005.57      22003.96   \n",
       "2017-01-01  1.449590e+08     0.0  76324003.29   476004.27       7001.26   \n",
       "2016-01-01  1.461880e+08     0.0  84633998.82   493007.33       3000.54   \n",
       "2015-01-01  1.511430e+08     0.0  91785995.25   892997.92      17003.06   \n",
       "2014-01-01  1.524440e+08     0.0  97129003.33   869005.23      12002.16   \n",
       "2013-01-01  1.571520e+08     0.0  97289997.42  1644005.17      45996.65   \n",
       "\n",
       "            other_renewable        solar       waste          wind  \n",
       "2018-01-01      13057001.00  45783995.45  6554993.64  1.099510e+08  \n",
       "2017-01-01      12401999.40  39400997.88  6759995.65  1.056930e+08  \n",
       "2016-01-01      12509995.58  38097995.94  6843010.59  7.992400e+07  \n",
       "2015-01-01      12690004.72  38726004.31  6563995.26  8.062400e+07  \n",
       "2014-01-01      12760005.69  36056000.54  6934992.26  5.849700e+07  \n",
       "2013-01-01      11964001.97  31009999.40  6061009.39  5.273700e+07  "
      ]
     },
     "execution_count": 31,
     "metadata": {},
     "output_type": "execute_result"
    }
   ],
   "source": [
    "data['DE']"
   ]
  },
  {
   "cell_type": "markdown",
   "metadata": {},
   "source": [
    "## Scaling the data to "
   ]
  },
  {
   "cell_type": "code",
   "execution_count": 32,
   "metadata": {},
   "outputs": [
    {
     "name": "stderr",
     "output_type": "stream",
     "text": [
      "C:\\Users\\Freddy\\.conda\\envs\\Lecture\\lib\\site-packages\\IPython\\core\\interactiveshell.py:2877: PerformanceWarning: indexing past lexsort depth may impact performance.\n",
      "  raw_cell, store_history, silent, shell_futures)\n",
      "C:\\Users\\Freddy\\.conda\\envs\\Lecture\\lib\\site-packages\\IPython\\core\\async_helpers.py:68: PerformanceWarning: indexing past lexsort depth may impact performance.\n",
      "  coro.send(None)\n",
      "C:\\Users\\Freddy\\.conda\\envs\\Lecture\\lib\\site-packages\\IPython\\core\\interactiveshell.py:2922: PerformanceWarning: indexing past lexsort depth may impact performance.\n",
      "  return runner(coro)\n"
     ]
    },
    {
     "name": "stdout",
     "output_type": "stream",
     "text": [
      "AT wind_onshore\n",
      "BE wind_offshore\n",
      "BE wind_onshore\n",
      "CZ wind_onshore\n",
      "DE wind_offshore\n",
      "DE wind_onshore\n",
      "DK wind_offshore\n",
      "DK wind_onshore\n",
      "FR wind_onshore\n",
      "NL wind_offshore\n",
      "NL wind_onshore\n",
      "PL wind_onshore\n"
     ]
    }
   ],
   "source": [
    "def normed(x): return x.divide(x.sum())\n",
    "\n",
    "entso_scaled = entsoe_gen_type.copy()\n",
    "\n",
    "for country in countries:\n",
    "    \n",
    "\n",
    "    for i in entso_scaled[country]:\n",
    "        try:\n",
    "            entso_scaled[(country,i[0])] = normed(entso_scaled[(country,i[0])]) * data[country].at['2018',i[0]]\n",
    "        except KeyError:\n",
    "            pass\n",
    "            print(country + ' ' +i[0])"
   ]
  },
  {
   "cell_type": "code",
   "execution_count": 33,
   "metadata": {},
   "outputs": [],
   "source": [
    "entso_scaled.to_csv(output_directory_path + '/entso_scaled.csv')"
   ]
  },
  {
   "cell_type": "code",
   "execution_count": 34,
   "metadata": {},
   "outputs": [],
   "source": [
    "entsoe_gen_type.to_csv(output_directory_path + '/entso.csv')"
   ]
  },
  {
   "cell_type": "code",
   "execution_count": 35,
   "metadata": {},
   "outputs": [
    {
     "data": {
      "text/plain": [
       "'output'"
      ]
     },
     "execution_count": 35,
     "metadata": {},
     "output_type": "execute_result"
    }
   ],
   "source": [
    "output_directory_path"
   ]
  },
  {
   "cell_type": "code",
   "execution_count": 48,
   "metadata": {},
   "outputs": [
    {
     "name": "stderr",
     "output_type": "stream",
     "text": [
      "C:\\Users\\Freddy\\.conda\\envs\\Lecture\\lib\\site-packages\\IPython\\core\\interactiveshell.py:2877: PerformanceWarning: indexing past lexsort depth may impact performance.\n",
      "  raw_cell, store_history, silent, shell_futures)\n"
     ]
    },
    {
     "data": {
      "text/html": [
       "<div>\n",
       "<style scoped>\n",
       "    .dataframe tbody tr th:only-of-type {\n",
       "        vertical-align: middle;\n",
       "    }\n",
       "\n",
       "    .dataframe tbody tr th {\n",
       "        vertical-align: top;\n",
       "    }\n",
       "\n",
       "    .dataframe thead tr th {\n",
       "        text-align: left;\n",
       "    }\n",
       "\n",
       "    .dataframe thead tr:last-of-type th {\n",
       "        text-align: right;\n",
       "    }\n",
       "</style>\n",
       "<table border=\"1\" class=\"dataframe\">\n",
       "  <thead>\n",
       "    <tr>\n",
       "      <th>attribute</th>\n",
       "      <th>generation_actual</th>\n",
       "    </tr>\n",
       "    <tr>\n",
       "      <th>source</th>\n",
       "      <th>own calculation based on ENTSO-E Transparency</th>\n",
       "    </tr>\n",
       "    <tr>\n",
       "      <th>web</th>\n",
       "      <th>https://transparency.entsoe.eu/generation/r2/actualGenerationPerProductionType/show</th>\n",
       "    </tr>\n",
       "    <tr>\n",
       "      <th>unit</th>\n",
       "      <th>MW</th>\n",
       "    </tr>\n",
       "    <tr>\n",
       "      <th>utc_timestamp</th>\n",
       "      <th></th>\n",
       "    </tr>\n",
       "  </thead>\n",
       "  <tbody>\n",
       "    <tr>\n",
       "      <th>2018-01-01 00:00:00+00:00</th>\n",
       "      <td>0.000066</td>\n",
       "    </tr>\n",
       "    <tr>\n",
       "      <th>2018-01-01 01:00:00+00:00</th>\n",
       "      <td>0.000064</td>\n",
       "    </tr>\n",
       "    <tr>\n",
       "      <th>2018-01-01 02:00:00+00:00</th>\n",
       "      <td>0.000068</td>\n",
       "    </tr>\n",
       "    <tr>\n",
       "      <th>2018-01-01 03:00:00+00:00</th>\n",
       "      <td>0.000066</td>\n",
       "    </tr>\n",
       "    <tr>\n",
       "      <th>2018-01-01 04:00:00+00:00</th>\n",
       "      <td>0.000067</td>\n",
       "    </tr>\n",
       "    <tr>\n",
       "      <th>...</th>\n",
       "      <td>...</td>\n",
       "    </tr>\n",
       "    <tr>\n",
       "      <th>2018-12-30 20:00:00+00:00</th>\n",
       "      <td>0.000132</td>\n",
       "    </tr>\n",
       "    <tr>\n",
       "      <th>2018-12-30 21:00:00+00:00</th>\n",
       "      <td>0.000132</td>\n",
       "    </tr>\n",
       "    <tr>\n",
       "      <th>2018-12-30 22:00:00+00:00</th>\n",
       "      <td>0.000132</td>\n",
       "    </tr>\n",
       "    <tr>\n",
       "      <th>2018-12-30 23:00:00+00:00</th>\n",
       "      <td>0.000131</td>\n",
       "    </tr>\n",
       "    <tr>\n",
       "      <th>2018-12-31 00:00:00+00:00</th>\n",
       "      <td>0.000131</td>\n",
       "    </tr>\n",
       "  </tbody>\n",
       "</table>\n",
       "<p>8737 rows × 1 columns</p>\n",
       "</div>"
      ],
      "text/plain": [
       "attribute                                                                                   generation_actual\n",
       "source                                                          own calculation based on ENTSO-E Transparency\n",
       "web                       https://transparency.entsoe.eu/generation/r2/actualGenerationPerProductionType/show\n",
       "unit                                                                                                       MW\n",
       "utc_timestamp                                                                                                \n",
       "2018-01-01 00:00:00+00:00                                           0.000066                                 \n",
       "2018-01-01 01:00:00+00:00                                           0.000064                                 \n",
       "2018-01-01 02:00:00+00:00                                           0.000068                                 \n",
       "2018-01-01 03:00:00+00:00                                           0.000066                                 \n",
       "2018-01-01 04:00:00+00:00                                           0.000067                                 \n",
       "...                                                                      ...                                 \n",
       "2018-12-30 20:00:00+00:00                                           0.000132                                 \n",
       "2018-12-30 21:00:00+00:00                                           0.000132                                 \n",
       "2018-12-30 22:00:00+00:00                                           0.000132                                 \n",
       "2018-12-30 23:00:00+00:00                                           0.000131                                 \n",
       "2018-12-31 00:00:00+00:00                                           0.000131                                 \n",
       "\n",
       "[8737 rows x 1 columns]"
      ]
     },
     "execution_count": 48,
     "metadata": {},
     "output_type": "execute_result"
    }
   ],
   "source": [
    "normed(entsoe_gen_type[('DE','nuclear')])\n"
   ]
  },
  {
   "cell_type": "code",
   "execution_count": null,
   "metadata": {},
   "outputs": [],
   "source": [
    "entsoe_gen_type[('DE','gas')]\n"
   ]
  },
  {
   "cell_type": "code",
   "execution_count": null,
   "metadata": {},
   "outputs": [],
   "source": []
  },
  {
   "cell_type": "code",
   "execution_count": null,
   "metadata": {},
   "outputs": [],
   "source": [
    "start"
   ]
  },
  {
   "cell_type": "code",
   "execution_count": null,
   "metadata": {},
   "outputs": [],
   "source": [
    "DE = DE"
   ]
  },
  {
   "cell_type": "code",
   "execution_count": null,
   "metadata": {},
   "outputs": [],
   "source": [
    "DE.isnull().sum()"
   ]
  },
  {
   "cell_type": "code",
   "execution_count": null,
   "metadata": {},
   "outputs": [],
   "source": [
    "cols = {'ResolutionCode': 'resolution',\n",
    "            'areacode': 'areacode',\n",
    "            'AreaTypeCode': 'AreaTypeCode',\n",
    "            'AreaName': 'region',\n",
    "            'MapCode': 'mapcode',\n",
    "            'ProductionType': 'variable',\n",
    "            'ActualGenerationOutput': 'generation_actual',\n",
    "            'ActualConsumption': 'consumption_actual',\n",
    "            'UpdateTime': 'updatetime'}\n",
    "\n",
    "entsoe_gen_type.rename(columns=cols, inplace=True)"
   ]
  },
  {
   "cell_type": "code",
   "execution_count": null,
   "metadata": {},
   "outputs": [],
   "source": [
    "entsoe_gen_type.drop(columns=['areacode','AreaTypeCode','mapcode','consumption_actual','updatetime'], inplace=True)"
   ]
  },
  {
   "cell_type": "code",
   "execution_count": null,
   "metadata": {},
   "outputs": [],
   "source": [
    "entsoe_gen_type.dropna(subset=['generation_actual'], inplace=True)"
   ]
  },
  {
   "cell_type": "code",
   "execution_count": null,
   "metadata": {},
   "outputs": [],
   "source": []
  },
  {
   "cell_type": "code",
   "execution_count": null,
   "metadata": {},
   "outputs": [],
   "source": [
    "dfs = {}\n",
    "res = '15'\n",
    "df = (entsoe_gen_type.loc[entsoe_gen_type['resolution'] == 'PT' + res + 'M', :]\n",
    "         .copy().sort_index(axis='columns'))\n",
    "df.drop(columns=['resolution'], inplace=True)\n",
    "\n",
    "stacked = ['region',  'variable']"
   ]
  },
  {
   "cell_type": "code",
   "execution_count": null,
   "metadata": {},
   "outputs": [],
   "source": [
    "df.set_index(stacked, append=True, inplace=True)"
   ]
  },
  {
   "cell_type": "code",
   "execution_count": null,
   "metadata": {},
   "outputs": [],
   "source": [
    "df.index.duplicated(keep=\"last\")"
   ]
  },
  {
   "cell_type": "code",
   "execution_count": null,
   "metadata": {},
   "outputs": [],
   "source": [
    "df = df[~df.index.duplicated(keep=\"last\")]"
   ]
  },
  {
   "cell_type": "code",
   "execution_count": null,
   "metadata": {},
   "outputs": [],
   "source": [
    "df = df.unstack(stacked)\n"
   ]
  },
  {
   "cell_type": "code",
   "execution_count": null,
   "metadata": {},
   "outputs": [],
   "source": [
    "df = df.loc[:, (df > 0).any(axis=0)]"
   ]
  },
  {
   "cell_type": "code",
   "execution_count": null,
   "metadata": {},
   "outputs": [],
   "source": [
    "headers = ['region', 'variable']"
   ]
  },
  {
   "cell_type": "code",
   "execution_count": null,
   "metadata": {},
   "outputs": [],
   "source": [
    "df"
   ]
  },
  {
   "cell_type": "code",
   "execution_count": null,
   "metadata": {},
   "outputs": [],
   "source": [
    "df = df.reorder_levels(headers, axis=1)"
   ]
  },
  {
   "cell_type": "code",
   "execution_count": null,
   "metadata": {},
   "outputs": [],
   "source": [
    "dfs = {}\n",
    "for res in ['15', '30', '60']:\n",
    "    df = (entsoe_gen_type.loc[entsoe_gen_type['resolution'] == 'PT' + res + 'M', :]\n",
    "         .copy().sort_index(axis='columns'))\n",
    "    df.drop(columns=['resolution'], inplace=True)\n",
    "\n",
    "    # juggle the index and columns\n",
    "    df.set_index(stacked, append=True, inplace=True)\n",
    "    # at this point, only the values we are intereseted in are are left as\n",
    "    # columns\n",
    "    df.columns.rename(unstacked, inplace=True)\n",
    "    df = df.unstack(stacked)\n",
    "    \n",
    "    # keep only columns that have at least some nonzero values\n",
    "    df = df.loc[:, (df > 0).any(axis=0)]\n",
    "    \n",
    "    # add source, url and unit to the column names.\n",
    "    # Note: pd.concat inserts new MultiIndex values infront of the old ones\n",
    "    df = pd.concat([df],\n",
    "                   keys=[tuple(append_headers.values())],\n",
    "                   names=append_headers.keys(),\n",
    "                   axis='columns')\n",
    "    \n",
    "    # reorder and sort columns\n",
    "    df = df.reorder_levels(headers, axis=1)\n",
    "    \n",
    "    dfs[res + 'min'] = df"
   ]
  },
  {
   "cell_type": "code",
   "execution_count": null,
   "metadata": {},
   "outputs": [],
   "source": [
    "entsoe_gen_type.rename(columns={Date})\n",
    "\n"
   ]
  },
  {
   "cell_type": "code",
   "execution_count": null,
   "metadata": {},
   "outputs": [],
   "source": [
    " # keep only entries for selected geographic entities as specified in\n",
    "    # areas.csv\n",
    "    area_filter = areas['primary AreaName ENTSO-E'].dropna()\n",
    "    df_raw = df_raw.loc[df_raw['region'].isin(area_filter)]\n",
    "    \n",
    "        #set generation and consumtion as absolut value (assuming that the negative entries are incorrect)\n",
    "    #entsoe_pp_timeseries['ActualGenerationOutput'] = entsoe_pp_timeseries.ActualGenerationOutput.abs()\n",
    "    \n",
    "    #entsoe_pp_timeseries['ActualConsumption'] = entsoe_pp_timeseries.ActualConsumption.abs()"
   ]
  },
  {
   "cell_type": "code",
   "execution_count": null,
   "metadata": {},
   "outputs": [],
   "source": [
    "# check the availbe columns\n",
    "\n",
    "entsoe_gen_type.columns"
   ]
  },
  {
   "cell_type": "code",
   "execution_count": null,
   "metadata": {},
   "outputs": [],
   "source": [
    "entsoe_gen_type[.AreaName.unique()"
   ]
  },
  {
   "cell_type": "code",
   "execution_count": null,
   "metadata": {},
   "outputs": [],
   "source": [
    "entsoe_gen_type[entsoe_gen_type.AreaName == 'NO2 BZ']"
   ]
  },
  {
   "cell_type": "code",
   "execution_count": null,
   "metadata": {},
   "outputs": [],
   "source": [
    "entsoe_gen_type.MapCode.unique()"
   ]
  },
  {
   "cell_type": "code",
   "execution_count": null,
   "metadata": {},
   "outputs": [],
   "source": [
    "# check the availbe 'ProductionTypeName'\n",
    "\n",
    "entsoe_gen_type.ProductionType.unique()"
   ]
  },
  {
   "cell_type": "code",
   "execution_count": null,
   "metadata": {},
   "outputs": [],
   "source": [
    "# check the availbe countries\n",
    "\n",
    "entsoe_gen_type.MapCode.unique()"
   ]
  },
  {
   "cell_type": "code",
   "execution_count": null,
   "metadata": {},
   "outputs": [],
   "source": [
    "# replace DE_* names with DE (DE is represend as four areas)\n",
    "\n",
    "entsoe_gen_unit.MapCode.replace({'.*DE.*' : 'DE'}, regex = True, inplace = True)"
   ]
  },
  {
   "cell_type": "code",
   "execution_count": null,
   "metadata": {},
   "outputs": [],
   "source": [
    "# new names for production types\n",
    "\n",
    "if new_ProductionTypeName:\n",
    "    entsoe_gen_unit = change_ProductionTypeName(entsoe_gen_unit)"
   ]
  },
  {
   "cell_type": "code",
   "execution_count": null,
   "metadata": {},
   "outputs": [],
   "source": [
    "# Which resolutions do exist in the data?\n",
    "\n",
    "entsoe_gen_unit.ResolutionCode.unique()"
   ]
  },
  {
   "cell_type": "code",
   "execution_count": null,
   "metadata": {},
   "outputs": [],
   "source": [
    "# How many generators in the data\n",
    "\n",
    "len(entsoe_gen_unit.GenerationUnitEIC.unique().tolist())"
   ]
  },
  {
   "cell_type": "code",
   "execution_count": null,
   "metadata": {},
   "outputs": [],
   "source": [
    "if test_dataset:\n",
    "    for i in entsoe_gen_unit.GenerationUnitEIC.unique():\n",
    "        unit_gen = entsoe_gen_unit.query(\"GenerationUnitEIC == @i\")\n",
    "\n",
    "        # test if different resolution codes exist for one power plant\n",
    "        if len(unit_gen.ResolutionCode.unique()) >= 2:\n",
    "            print('The data for generator ' + unit_gen.GenerationUnitEIC.iloc[0] + ' contains different time resolutions')\n",
    "            # for 2018 all data OK\n",
    "            # for 2019 all data OK\n",
    "        \n",
    "        if unit_gen.index.has_duplicates:\n",
    "            #print('The data for generator ' + unit_gen.GenerationUnitEIC.iloc[0] + ' contains duplicates in the index')\n",
    "            #many duplicates in 2019!\n",
    "            count = unit_gen.index.duplicated(keep='first').sum()\n",
    "            if count > 3:\n",
    "                print('The data for generator ' + unit_gen.GenerationUnitEIC.iloc[0] + ' contains more than 3 duplicates in the index')\n",
    "                #many duplicates with more than 3 duplicates in 2019!\n"
   ]
  },
  {
   "cell_type": "markdown",
   "metadata": {},
   "source": [
    "## Resampling the data"
   ]
  },
  {
   "cell_type": "markdown",
   "metadata": {},
   "source": [
    "Resampling all generation data to hourly generation data per unit and store the data in a new dataframe 'gen_data'. Specific genertor unit data stored in 'unit_data'."
   ]
  },
  {
   "cell_type": "code",
   "execution_count": null,
   "metadata": {},
   "outputs": [],
   "source": [
    "# set timeframe\n",
    "t_index = pd.date_range(start=start, end=end, freq='60Min', closed=closed)\n",
    "\n",
    "# dataframe for generation data\n",
    "gen_data = pd.DataFrame(index=t_index)\n",
    "\n",
    "# dataframe for powerplant information\n",
    "unit_data = pd.DataFrame()\n",
    "\n",
    "\n",
    "# slicing over all generator units\n",
    "# takes some time\n",
    "for i in entsoe_gen_unit.GenerationUnitEIC.unique():\n",
    "    unit_gen = entsoe_gen_unit.query(\"GenerationUnitEIC == @i\").copy()\n",
    "    duplicate_count = 0\n",
    "    unit_gen['duplicate_count'] = duplicate_count\n",
    "    # test if different resolution codes exist for one power plant\n",
    "    if len(unit_gen.ResolutionCode.unique()) >= 2:\n",
    "        print('The data for generator ' + unit_gen.GenerationUnitEIC.iloc[0] + ' contains different time resolutions')\n",
    "        # for 2018 all data OK\n",
    "        # for 2019 all data OK\n",
    "    \n",
    "    # check if duplicates exist in index (datetime) for the power plant and drop them\n",
    "    if unit_gen.index.has_duplicates:\n",
    "        #many duplicates in 2019!\n",
    "        \n",
    "        duplicate_count = unit_gen.index.duplicated(keep='first').sum()\n",
    "        \n",
    "        #drop all duplicates and only keep the first entry \n",
    "        unit_gen = unit_gen[~unit_gen.index.duplicated(keep='first')]\n",
    "        unit_gen['duplicate_count'] = duplicate_count\n",
    "    \n",
    "    #resampling the data to 1h and store it in \"gen_data\"\n",
    "    gen_data[i] = resampling(pp_gen=unit_gen, start=start, end=end, resolution='60Min')['ActualGenerationOutput']\n",
    "   \n",
    "    #store power plant info in unit_data\n",
    "    unit_data = unit_data.append((unit_gen.set_index('GenerationUnitEIC')[['AreaCode', 'AreaTypeCode', 'AreaName', 'MapCode', 'PowerSystemResourceName', 'ProductionTypeName','InstalledGenCapacity','duplicate_count']].iloc[0]))    "
   ]
  },
  {
   "cell_type": "markdown",
   "metadata": {},
   "source": [
    "## Group the data"
   ]
  },
  {
   "cell_type": "markdown",
   "metadata": {},
   "source": [
    "By using the \"unit_data\" dataframe in combination with the .groupby() function the data can be easily grouped and analyzed."
   ]
  },
  {
   "cell_type": "markdown",
   "metadata": {},
   "source": [
    "### Hourly data per county and technology"
   ]
  },
  {
   "cell_type": "code",
   "execution_count": null,
   "metadata": {},
   "outputs": [],
   "source": [
    "# will result in a multi index dataframe\n",
    "data_country_tech_hourly = gen_data.groupby([unit_data.MapCode, unit_data.ProductionTypeName], axis=1).sum()"
   ]
  },
  {
   "cell_type": "code",
   "execution_count": null,
   "metadata": {},
   "outputs": [],
   "source": [
    "data_country_tech_hourly.head()"
   ]
  },
  {
   "cell_type": "markdown",
   "metadata": {},
   "source": [
    "### Monthly data per county and technology"
   ]
  },
  {
   "cell_type": "code",
   "execution_count": null,
   "metadata": {},
   "outputs": [],
   "source": [
    "# generate month as a grouper\n",
    "data_country_tech_hourly['Month'] = pd.DatetimeIndex(data_country_tech_hourly.index).month\n",
    "\n",
    "#will result in a multi index dataframe\n",
    "data_country_tech_monthly = data_country_tech_hourly.groupby(data_country_tech_hourly.Month, axis=0).sum()\n",
    "\n",
    "#drop the grouper from resulting dataframe\n",
    "data_country_tech_monthly.drop(['Month'],axis=1, inplace=True)\n"
   ]
  },
  {
   "cell_type": "code",
   "execution_count": null,
   "metadata": {},
   "outputs": [],
   "source": [
    "data_country_tech_monthly.head()"
   ]
  },
  {
   "cell_type": "markdown",
   "metadata": {},
   "source": [
    "### Yearly data per county and technology"
   ]
  },
  {
   "cell_type": "code",
   "execution_count": null,
   "metadata": {},
   "outputs": [],
   "source": [
    "# sum the data from multiindex dataframe and convert multiindex into columns and rows\n",
    "data_country_tech_yearly = data_country_tech_hourly.sum().unstack(-1)"
   ]
  },
  {
   "cell_type": "code",
   "execution_count": null,
   "metadata": {},
   "outputs": [],
   "source": [
    "data_country_tech_yearly.head()"
   ]
  },
  {
   "cell_type": "markdown",
   "metadata": {},
   "source": [
    "### Germany as example"
   ]
  },
  {
   "cell_type": "code",
   "execution_count": null,
   "metadata": {},
   "outputs": [],
   "source": [
    "DE = data_country_tech_hourly['DE']"
   ]
  },
  {
   "cell_type": "code",
   "execution_count": null,
   "metadata": {},
   "outputs": [],
   "source": [
    "DE.head()"
   ]
  },
  {
   "cell_type": "code",
   "execution_count": null,
   "metadata": {},
   "outputs": [],
   "source": [
    "# production per technology in GWh\n",
    "DE.sum()/1000"
   ]
  },
  {
   "cell_type": "code",
   "execution_count": null,
   "metadata": {},
   "outputs": [],
   "source": [
    "ax = sns.barplot(data=DE) "
   ]
  },
  {
   "cell_type": "markdown",
   "metadata": {},
   "source": [
    "\n",
    "## Export data"
   ]
  },
  {
   "cell_type": "markdown",
   "metadata": {},
   "source": [
    "Save data as .csv files. All files are saved in the output directory of this notebook. Take some time (2 min)"
   ]
  },
  {
   "cell_type": "code",
   "execution_count": null,
   "metadata": {},
   "outputs": [],
   "source": [
    "# hourly data\n",
    "data_country_tech_hourly.to_csv(output_directory_path + '/data_country_tech_hourly.csv')\n",
    "\n",
    "# monthly data\n",
    "data_country_tech_monthly.to_csv(output_directory_path + '/data_country_tech_monthly.csv')\n",
    "\n",
    "# yearly data\n",
    "data_country_tech_yearly.to_csv(output_directory_path + '/data_country_tech_yearly.csv')\n",
    "\n",
    "# power plant information\n",
    "unit_data.to_csv(output_directory_path + '/unit_data.csv')\n",
    "\n",
    "# hourly unit generation data\n",
    "gen_data.to_csv(output_directory_path + '/gen_data.csv')"
   ]
  },
  {
   "cell_type": "code",
   "execution_count": null,
   "metadata": {},
   "outputs": [],
   "source": []
  }
 ],
 "metadata": {
  "kernelspec": {
   "display_name": "Python 3",
   "language": "python",
   "name": "python3"
  },
  "language_info": {
   "codemirror_mode": {
    "name": "ipython",
    "version": 3
   },
   "file_extension": ".py",
   "mimetype": "text/x-python",
   "name": "python",
   "nbconvert_exporter": "python",
   "pygments_lexer": "ipython3",
   "version": "3.7.9"
  }
 },
 "nbformat": 4,
 "nbformat_minor": 4
}
