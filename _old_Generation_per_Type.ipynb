{
 "cells": [
  {
   "cell_type": "markdown",
   "metadata": {},
   "source": [
    "# Introduction"
   ]
  },
  {
   "cell_type": "markdown",
   "metadata": {},
   "source": [
    "In this Jupyter Notebook we importing the ENTSO-E Actual Generation per Type data (processed with OPSD time series script) and correcting the hourly data with reported yearly values from ENTSO-E statistical factsheet.\n",
    "\n",
    "The OPSD time series script converts all data to one resolution (1 hour) and interpolate gaps in the datat set with a max length of 2 hours. "
   ]
  },
  {
   "cell_type": "markdown",
   "metadata": {},
   "source": [
    "# Script setup"
   ]
  },
  {
   "cell_type": "code",
   "execution_count": 1,
   "metadata": {},
   "outputs": [],
   "source": [
    "import numpy as np\n",
    "import pandas as pd\n",
    "\n",
    "#Helpers\n",
    "import os\n",
    "import glob\n",
    "from datetime import datetime, date, timedelta, time\n",
    "\n",
    "\n",
    "#Ploting\n",
    "import matplotlib.pyplot as plt\n",
    "\n",
    "%matplotlib inline\n",
    "plt.style.use('seaborn')\n",
    "plt.rcParams['figure.figsize'] = [15, 6]"
   ]
  },
  {
   "cell_type": "markdown",
   "metadata": {},
   "source": [
    "# Data directory preparention"
   ]
  },
  {
   "cell_type": "markdown",
   "metadata": {},
   "source": [
    "Create input, processed and output folders if they don't exist. If the paths are relative, the corresponding folders will be created inside the current working directory.\n",
    "- input -> all needed input data\n",
    "- processed -> save point and exchange with other scripts\n",
    "- output -> final data"
   ]
  },
  {
   "cell_type": "code",
   "execution_count": 2,
   "metadata": {},
   "outputs": [],
   "source": [
    "input_directory_path = os.path.join('input')\n",
    "processed_directory_path = 'processed'\n",
    "output_directory_path = os.path.join('output')\n",
    "\n",
    "sources_yaml_path = os.path.join('input', 'sources.yml')\n",
    "\n",
    "os.makedirs(input_directory_path, exist_ok=True)\n",
    "os.makedirs(processed_directory_path, exist_ok=True)\n",
    "os.makedirs(output_directory_path, exist_ok=True)"
   ]
  },
  {
   "cell_type": "markdown",
   "metadata": {},
   "source": [
    "# Data file preparation"
   ]
  },
  {
   "cell_type": "markdown",
   "metadata": {},
   "source": [
    "1. ENTSO-E Transparency Platform, Actual Generation per Type Available online: https://transparency.entsoe.eu/generation/r2/actualGenerationPerProductionType/show (accessed on Oct 02, 2020).\n",
    " - Proccesed with OPSD time series scrips (own version INETCH)\n",
    " time_series_60min_stacked.csv\n",
    " \n",
    "2. ENTSO-E Statistical Factsheet 2018 in Comma Separated Value (CSV) format\n",
    "https://zenodo.org/record/3461691\n",
    "\n",
    "\n",
    "Original data: ENTSO-E statistics Available online:\n",
    "https://www.entsoe.eu/publications/statistics-and-data/#statistical-factsheet\n",
    "\n",
    " File - > entsoe-statistical-factsheet-2018-stacked\n",
    "\n",
    "\n",
    "\n",
    "Previously we used the Energy Balances in the MS Excel file format (2020 edition) eurostat https://ec.europa.eu/eurostat/de/web/energy/data/energy-balances (accessed on Oct 02, 2020). The Energy Balance data only provides gross electricity data."
   ]
  },
  {
   "cell_type": "markdown",
   "metadata": {},
   "source": [
    "# Load data functions"
   ]
  },
  {
   "cell_type": "code",
   "execution_count": 3,
   "metadata": {},
   "outputs": [],
   "source": [
    "def load_timeseries_opsd(fn):\n",
    "    \"\"\"\n",
    "    Read data from OPSD time-series package own modification.\n",
    "\n",
    "    Parameters\n",
    "    ----------\n",
    "    years : None or slice()\n",
    "        Years for which to read load data\n",
    "        \n",
    "    fn : file name or url location (file format .csv)\n",
    "    \n",
    "    countries : Countries for which to read load data.\n",
    "        \n",
    "    Returns\n",
    "    -------\n",
    "    load : pd.DataFrame\n",
    "        Load time-series with UTC timestamps x ISO-2 countries\n",
    "    \"\"\"\n",
    "\n",
    "     \n",
    "    generation = pd.read_csv(fn, index_col='utc_timestamp', parse_dates=True) #, header=[0, 1, 2, 3, 4, 5], parse_dates=True)\n",
    "                    #.dropna(how=\"all\", axis=0)  \n",
    "        \n",
    "    #generation.columns = generation.columns.droplevel(level=[2,3,4,5])\n",
    "    generation = generation[~generation['region'].str.contains(\"_\")]\n",
    "\n",
    "    generation = generation.drop(columns='attribute')\n",
    "    \n",
    "    return generation\n",
    "\n",
    "def load_stats_factsheet(path, fn):\n",
    "    \"\"\"\n",
    "    Load the ENTSO-E Statistical Factsheet 2018 in Comma Separated Value (CSV).\n",
    "        \n",
    "    Parameters\n",
    "    ----------\n",
    "    path: str\n",
    "        path to data\n",
    "    fn : str\n",
    "        filename\n",
    "        \n",
    "    \"\"\"\n",
    "    \n",
    "    generation = pd.read_csv(os.path.join(path, fn),index_col=[0], header=[0, 1], parse_dates=True)\n",
    "    \n",
    "    return generation"
   ]
  },
  {
   "cell_type": "code",
   "execution_count": 4,
   "metadata": {},
   "outputs": [],
   "source": [
    "def load_energy_balance_data(path, fn):\n",
    "    \"\"\"\n",
    "    Load the raw energy balances reported in the Eurostat database for all European countries from input directory.\n",
    "        \n",
    "    Parameters\n",
    "    ----------\n",
    "    path: str\n",
    "        path to data\n",
    "    fn : str\n",
    "        filename\n",
    "        \n",
    "    \"\"\"\n",
    "    \n",
    "    logging.info(f'Loading data from {fn}')\n",
    "    \n",
    "    df = pd.read_csv(os.path.join(path, fn),sep = '\\t', header=0)\n",
    "    # rename column (0) for identifier\n",
    "    df = df.rename(columns = {df.columns[0]:'use_substance_unit_country'})\n",
    "\n",
    "    return df\n"
   ]
  },
  {
   "cell_type": "code",
   "execution_count": 5,
   "metadata": {},
   "outputs": [
    {
     "ename": "NameError",
     "evalue": "name 'top_down_method_input_directory_path' is not defined",
     "output_type": "error",
     "traceback": [
      "\u001b[1;31m---------------------------------------------------------------------------\u001b[0m",
      "\u001b[1;31mNameError\u001b[0m                                 Traceback (most recent call last)",
      "\u001b[1;32m<ipython-input-5-f08b14f357b6>\u001b[0m in \u001b[0;36m<module>\u001b[1;34m\u001b[0m\n\u001b[1;32m----> 1\u001b[1;33m \u001b[0mnrg_bal_c\u001b[0m \u001b[1;33m=\u001b[0m \u001b[0mload_energy_balance_data\u001b[0m\u001b[1;33m(\u001b[0m\u001b[0mtop_down_method_input_directory_path\u001b[0m\u001b[1;33m,\u001b[0m \u001b[1;34m'nrg_bal_c.csv'\u001b[0m\u001b[1;33m)\u001b[0m\u001b[1;33m\u001b[0m\u001b[1;33m\u001b[0m\u001b[0m\n\u001b[0m",
      "\u001b[1;31mNameError\u001b[0m: name 'top_down_method_input_directory_path' is not defined"
     ]
    }
   ],
   "source": [
    "nrg_bal_c = load_energy_balance_data(top_down_method_input_directory_path, 'nrg_bal_c.csv')"
   ]
  },
  {
   "cell_type": "code",
   "execution_count": 6,
   "metadata": {},
   "outputs": [
    {
     "ename": "NameError",
     "evalue": "name 'nrg_bal_c' is not defined",
     "output_type": "error",
     "traceback": [
      "\u001b[1;31m---------------------------------------------------------------------------\u001b[0m",
      "\u001b[1;31mNameError\u001b[0m                                 Traceback (most recent call last)",
      "\u001b[1;32m<ipython-input-6-eb0ec8937d85>\u001b[0m in \u001b[0;36m<module>\u001b[1;34m\u001b[0m\n\u001b[0;32m      1\u001b[0m \u001b[1;31m# replace EU country code by ISO country code\u001b[0m\u001b[1;33m\u001b[0m\u001b[1;33m\u001b[0m\u001b[1;33m\u001b[0m\u001b[0m\n\u001b[1;32m----> 2\u001b[1;33m \u001b[0mnrg_bal_c\u001b[0m\u001b[1;33m.\u001b[0m\u001b[0muse_substance_unit_country\u001b[0m\u001b[1;33m.\u001b[0m\u001b[0mreplace\u001b[0m\u001b[1;33m(\u001b[0m\u001b[0mto_replace\u001b[0m\u001b[1;33m=\u001b[0m\u001b[1;34m'EL'\u001b[0m\u001b[1;33m,\u001b[0m \u001b[0mvalue\u001b[0m\u001b[1;33m=\u001b[0m\u001b[1;34m'GR'\u001b[0m \u001b[1;33m,\u001b[0m \u001b[0mregex\u001b[0m\u001b[1;33m=\u001b[0m\u001b[1;32mTrue\u001b[0m\u001b[1;33m,\u001b[0m \u001b[0minplace\u001b[0m\u001b[1;33m=\u001b[0m\u001b[1;32mTrue\u001b[0m\u001b[1;33m)\u001b[0m\u001b[1;33m\u001b[0m\u001b[1;33m\u001b[0m\u001b[0m\n\u001b[0m\u001b[0;32m      3\u001b[0m \u001b[0mnrg_bal_c\u001b[0m\u001b[1;33m.\u001b[0m\u001b[0muse_substance_unit_country\u001b[0m\u001b[1;33m.\u001b[0m\u001b[0mreplace\u001b[0m\u001b[1;33m(\u001b[0m\u001b[0mto_replace\u001b[0m\u001b[1;33m=\u001b[0m\u001b[1;34m'UK'\u001b[0m\u001b[1;33m,\u001b[0m \u001b[0mvalue\u001b[0m\u001b[1;33m=\u001b[0m\u001b[1;34m'GB'\u001b[0m \u001b[1;33m,\u001b[0m \u001b[0mregex\u001b[0m\u001b[1;33m=\u001b[0m\u001b[1;32mTrue\u001b[0m\u001b[1;33m,\u001b[0m \u001b[0minplace\u001b[0m\u001b[1;33m=\u001b[0m\u001b[1;32mTrue\u001b[0m\u001b[1;33m)\u001b[0m\u001b[1;33m\u001b[0m\u001b[1;33m\u001b[0m\u001b[0m\n\u001b[0;32m      4\u001b[0m \u001b[1;33m\u001b[0m\u001b[0m\n\u001b[0;32m      5\u001b[0m \u001b[1;31m#missing countries: CH, LI\u001b[0m\u001b[1;33m\u001b[0m\u001b[1;33m\u001b[0m\u001b[1;33m\u001b[0m\u001b[0m\n",
      "\u001b[1;31mNameError\u001b[0m: name 'nrg_bal_c' is not defined"
     ]
    }
   ],
   "source": [
    "# replace EU country code by ISO country code\n",
    "nrg_bal_c.use_substance_unit_country.replace(to_replace='EL', value='GR' , regex=True, inplace=True)\n",
    "nrg_bal_c.use_substance_unit_country.replace(to_replace='UK', value='GB' , regex=True, inplace=True)\n",
    "\n",
    "#missing countries: CH, LI"
   ]
  },
  {
   "cell_type": "code",
   "execution_count": null,
   "metadata": {},
   "outputs": [],
   "source": [
    "substances = 'C0000X0350-0370|O4000XBIO|G3000|C0350-0370|P1000|S2000|W6100_6220'\n"
   ]
  },
  {
   "cell_type": "code",
   "execution_count": 7,
   "metadata": {},
   "outputs": [],
   "source": [
    "filenames = sorted(glob.glob(input_directory_path + \"/*.xlsb\"))"
   ]
  },
  {
   "cell_type": "code",
   "execution_count": 8,
   "metadata": {},
   "outputs": [
    {
     "data": {
      "text/plain": [
       "'input\\\\AL-Energy-balance-sheets-June-2020-edition.xlsb'"
      ]
     },
     "execution_count": 8,
     "metadata": {},
     "output_type": "execute_result"
    }
   ],
   "source": [
    "filenames[0]"
   ]
  },
  {
   "cell_type": "code",
   "execution_count": 9,
   "metadata": {},
   "outputs": [],
   "source": [
    "year='2018'"
   ]
  },
  {
   "cell_type": "code",
   "execution_count": 10,
   "metadata": {},
   "outputs": [
    {
     "name": "stderr",
     "output_type": "stream",
     "text": [
      "C:\\Users\\Freddy\\.conda\\envs\\Lecture\\lib\\site-packages\\ipykernel_launcher.py:3: YAMLLoadWarning: calling yaml.load() without Loader=... is deprecated, as the default Loader is unsafe. Please read https://msg.pyyaml.org/load for full details.\n",
      "  This is separate from the ipykernel package so we can avoid doing imports until\n"
     ]
    }
   ],
   "source": [
    "import yaml\n",
    "with open(sources_yaml_path, 'r', encoding='UTF-8') as f:\n",
    "    sources = yaml.load(f.read())"
   ]
  },
  {
   "cell_type": "code",
   "execution_count": 11,
   "metadata": {},
   "outputs": [],
   "source": [
    "df= pd.DataFrame()\n",
    "\n",
    "df[year] = pd.read_excel(io=filenames[7], sheet_name=year, engine='pyxlsb', header=135, skipfooter=10, usecols=sources['eurostat energy balances']['Energy Balances in the MS Excel file format']['variable_type'], na_values='Z').iloc[0]\n",
    "\n",
    "\n",
    "# rename columns\n",
    "df.rename(sources['eurostat energy balances']['Energy Balances in the MS Excel file format']['variable_type'], inplace=True)\n",
    "\n",
    "\n",
    "#convert to MWh\n",
    "df = df * 11630\n",
    "\n",
    "df = df * 0.94\n",
    "\n"
   ]
  },
  {
   "cell_type": "code",
   "execution_count": 12,
   "metadata": {},
   "outputs": [
    {
     "data": {
      "text/html": [
       "<div>\n",
       "<style scoped>\n",
       "    .dataframe tbody tr th:only-of-type {\n",
       "        vertical-align: middle;\n",
       "    }\n",
       "\n",
       "    .dataframe tbody tr th {\n",
       "        vertical-align: top;\n",
       "    }\n",
       "\n",
       "    .dataframe thead th {\n",
       "        text-align: right;\n",
       "    }\n",
       "</style>\n",
       "<table border=\"1\" class=\"dataframe\">\n",
       "  <thead>\n",
       "    <tr style=\"text-align: right;\">\n",
       "      <th></th>\n",
       "      <th>2018</th>\n",
       "    </tr>\n",
       "  </thead>\n",
       "  <tbody>\n",
       "    <tr>\n",
       "      <th>hard_coal</th>\n",
       "      <td>2.832216e+06</td>\n",
       "    </tr>\n",
       "    <tr>\n",
       "      <th>hard_coal</th>\n",
       "      <td>8.255079e+06</td>\n",
       "    </tr>\n",
       "    <tr>\n",
       "      <th>hard_coal</th>\n",
       "      <td>6.652568e+07</td>\n",
       "    </tr>\n",
       "    <tr>\n",
       "      <th>hard_coal</th>\n",
       "      <td>0.000000e+00</td>\n",
       "    </tr>\n",
       "    <tr>\n",
       "      <th>lignite</th>\n",
       "      <td>1.354051e+08</td>\n",
       "    </tr>\n",
       "    <tr>\n",
       "      <th>...</th>\n",
       "      <td>...</td>\n",
       "    </tr>\n",
       "    <tr>\n",
       "      <th>other_renewable</th>\n",
       "      <td>4.455637e+05</td>\n",
       "    </tr>\n",
       "    <tr>\n",
       "      <th>other_renewable</th>\n",
       "      <td>NaN</td>\n",
       "    </tr>\n",
       "    <tr>\n",
       "      <th>waste</th>\n",
       "      <td>8.488197e+05</td>\n",
       "    </tr>\n",
       "    <tr>\n",
       "      <th>waste</th>\n",
       "      <td>5.793224e+06</td>\n",
       "    </tr>\n",
       "    <tr>\n",
       "      <th>nuclear</th>\n",
       "      <td>7.144470e+07</td>\n",
       "    </tr>\n",
       "  </tbody>\n",
       "</table>\n",
       "<p>61 rows × 1 columns</p>\n",
       "</div>"
      ],
      "text/plain": [
       "                         2018\n",
       "hard_coal        2.832216e+06\n",
       "hard_coal        8.255079e+06\n",
       "hard_coal        6.652568e+07\n",
       "hard_coal        0.000000e+00\n",
       "lignite          1.354051e+08\n",
       "...                       ...\n",
       "other_renewable  4.455637e+05\n",
       "other_renewable           NaN\n",
       "waste            8.488197e+05\n",
       "waste            5.793224e+06\n",
       "nuclear          7.144470e+07\n",
       "\n",
       "[61 rows x 1 columns]"
      ]
     },
     "execution_count": 12,
     "metadata": {},
     "output_type": "execute_result"
    }
   ],
   "source": [
    "df"
   ]
  },
  {
   "cell_type": "code",
   "execution_count": 13,
   "metadata": {},
   "outputs": [
    {
     "data": {
      "text/plain": [
       "2018    603097.42079\n",
       "dtype: float64"
      ]
     },
     "execution_count": 13,
     "metadata": {},
     "output_type": "execute_result"
    }
   ],
   "source": [
    "(df/1000).sum()"
   ]
  },
  {
   "cell_type": "code",
   "execution_count": 14,
   "metadata": {},
   "outputs": [
    {
     "data": {
      "text/html": [
       "<div>\n",
       "<style scoped>\n",
       "    .dataframe tbody tr th:only-of-type {\n",
       "        vertical-align: middle;\n",
       "    }\n",
       "\n",
       "    .dataframe tbody tr th {\n",
       "        vertical-align: top;\n",
       "    }\n",
       "\n",
       "    .dataframe thead th {\n",
       "        text-align: right;\n",
       "    }\n",
       "</style>\n",
       "<table border=\"1\" class=\"dataframe\">\n",
       "  <thead>\n",
       "    <tr style=\"text-align: right;\">\n",
       "      <th></th>\n",
       "      <th>2018</th>\n",
       "    </tr>\n",
       "  </thead>\n",
       "  <tbody>\n",
       "    <tr>\n",
       "      <th>biomass</th>\n",
       "      <td>31411.042040</td>\n",
       "    </tr>\n",
       "    <tr>\n",
       "      <th>gas</th>\n",
       "      <td>88588.426768</td>\n",
       "    </tr>\n",
       "    <tr>\n",
       "      <th>hard_coal</th>\n",
       "      <td>77612.978985</td>\n",
       "    </tr>\n",
       "    <tr>\n",
       "      <th>hydro</th>\n",
       "      <td>22695.356522</td>\n",
       "    </tr>\n",
       "    <tr>\n",
       "      <th>lignite</th>\n",
       "      <td>136853.663412</td>\n",
       "    </tr>\n",
       "    <tr>\n",
       "      <th>nuclear</th>\n",
       "      <td>71444.703779</td>\n",
       "    </tr>\n",
       "    <tr>\n",
       "      <th>oil</th>\n",
       "      <td>2085.863760</td>\n",
       "    </tr>\n",
       "    <tr>\n",
       "      <th>other_fossil</th>\n",
       "      <td>2788.968203</td>\n",
       "    </tr>\n",
       "    <tr>\n",
       "      <th>other_renewable</th>\n",
       "      <td>16583.480536</td>\n",
       "    </tr>\n",
       "    <tr>\n",
       "      <th>solar</th>\n",
       "      <td>43036.955723</td>\n",
       "    </tr>\n",
       "    <tr>\n",
       "      <th>waste</th>\n",
       "      <td>6642.043957</td>\n",
       "    </tr>\n",
       "    <tr>\n",
       "      <th>wind</th>\n",
       "      <td>103353.937105</td>\n",
       "    </tr>\n",
       "  </tbody>\n",
       "</table>\n",
       "</div>"
      ],
      "text/plain": [
       "                          2018\n",
       "biomass           31411.042040\n",
       "gas               88588.426768\n",
       "hard_coal         77612.978985\n",
       "hydro             22695.356522\n",
       "lignite          136853.663412\n",
       "nuclear           71444.703779\n",
       "oil                2085.863760\n",
       "other_fossil       2788.968203\n",
       "other_renewable   16583.480536\n",
       "solar             43036.955723\n",
       "waste              6642.043957\n",
       "wind             103353.937105"
      ]
     },
     "execution_count": 14,
     "metadata": {},
     "output_type": "execute_result"
    }
   ],
   "source": [
    "df = df.groupby(df.index).sum()\n",
    "(df/1000000)"
   ]
  },
  {
   "cell_type": "code",
   "execution_count": 15,
   "metadata": {},
   "outputs": [
    {
     "data": {
      "text/html": [
       "<div>\n",
       "<style scoped>\n",
       "    .dataframe tbody tr th:only-of-type {\n",
       "        vertical-align: middle;\n",
       "    }\n",
       "\n",
       "    .dataframe tbody tr th {\n",
       "        vertical-align: top;\n",
       "    }\n",
       "\n",
       "    .dataframe thead th {\n",
       "        text-align: right;\n",
       "    }\n",
       "</style>\n",
       "<table border=\"1\" class=\"dataframe\">\n",
       "  <thead>\n",
       "    <tr style=\"text-align: right;\">\n",
       "      <th></th>\n",
       "      <th>2018</th>\n",
       "    </tr>\n",
       "  </thead>\n",
       "  <tbody>\n",
       "    <tr>\n",
       "      <th>biomass</th>\n",
       "      <td>31.411042</td>\n",
       "    </tr>\n",
       "    <tr>\n",
       "      <th>gas</th>\n",
       "      <td>88.588427</td>\n",
       "    </tr>\n",
       "    <tr>\n",
       "      <th>hard_coal</th>\n",
       "      <td>77.612979</td>\n",
       "    </tr>\n",
       "    <tr>\n",
       "      <th>hydro</th>\n",
       "      <td>22.695357</td>\n",
       "    </tr>\n",
       "    <tr>\n",
       "      <th>lignite</th>\n",
       "      <td>136.853663</td>\n",
       "    </tr>\n",
       "    <tr>\n",
       "      <th>nuclear</th>\n",
       "      <td>71.444704</td>\n",
       "    </tr>\n",
       "    <tr>\n",
       "      <th>oil</th>\n",
       "      <td>2.085864</td>\n",
       "    </tr>\n",
       "    <tr>\n",
       "      <th>other_fossil</th>\n",
       "      <td>2.788968</td>\n",
       "    </tr>\n",
       "    <tr>\n",
       "      <th>other_renewable</th>\n",
       "      <td>16.583481</td>\n",
       "    </tr>\n",
       "    <tr>\n",
       "      <th>solar</th>\n",
       "      <td>43.036956</td>\n",
       "    </tr>\n",
       "    <tr>\n",
       "      <th>waste</th>\n",
       "      <td>6.642044</td>\n",
       "    </tr>\n",
       "    <tr>\n",
       "      <th>wind</th>\n",
       "      <td>103.353937</td>\n",
       "    </tr>\n",
       "  </tbody>\n",
       "</table>\n",
       "</div>"
      ],
      "text/plain": [
       "                       2018\n",
       "biomass           31.411042\n",
       "gas               88.588427\n",
       "hard_coal         77.612979\n",
       "hydro             22.695357\n",
       "lignite          136.853663\n",
       "nuclear           71.444704\n",
       "oil                2.085864\n",
       "other_fossil       2.788968\n",
       "other_renewable   16.583481\n",
       "solar             43.036956\n",
       "waste              6.642044\n",
       "wind             103.353937"
      ]
     },
     "execution_count": 15,
     "metadata": {},
     "output_type": "execute_result"
    }
   ],
   "source": [
    "(df/1000000)"
   ]
  },
  {
   "cell_type": "code",
   "execution_count": 127,
   "metadata": {},
   "outputs": [],
   "source": [
    "def convert_ENTSOE_to_INATECH_type(ProductionTypeName):\n",
    "    \"\"\"\n",
    "    Converts ENTSO-E Generation per Type source names into INATECH technology type names.\n",
    "\n",
    "    Parameters\n",
    "    ----------\n",
    "    ProductionTypeName : string\n",
    "        ENTSO-E name of production type.\n",
    "\n",
    "    Returns\n",
    "    -------\n",
    "    string\n",
    "        INATECH names of production type.\n",
    "\n",
    "    \"\"\"\n",
    "\n",
    "    return ProductionTypeName.replace({\n",
    "            'Fossil Hard coal': 'hard_coal', \n",
    "            'Fossil Brown coal/Lignite': 'lignite', \n",
    "            'Fossil Gas': 'gas',\n",
    "            'Fossil Coal-derived gas': 'other_fossil',\n",
    "            'Fossil Peat': 'other_fossil',\n",
    "            'Nuclear': 'nuclear',\n",
    "            'Biomass': 'biomass',\n",
    "            'Waste': 'waste',\n",
    "            'Geothermal': 'other_renewable',\n",
    "            'Marine': 'other_renewable',\n",
    "            'Other': 'other_fossil',\n",
    "            'Hydro Pumped Storage': 'hydro',\n",
    "            'Hydro Run-of-river and poundage': 'hydro',\n",
    "            'Hydro Water Reservoir': 'hydro',\n",
    "            'Fossil Oil': 'other_fossil',\n",
    "            'Fossil Oil shale': 'other_fossil', \n",
    "            'Solar': 'solar',\n",
    "            'Wind Onshore': 'wind_onshore',\n",
    "            'Wind Offshore': 'wind_offshore',\n",
    "            'Other renewable': 'other_renewable'}, inplace=False)"
   ]
  },
  {
   "cell_type": "markdown",
   "metadata": {},
   "source": [
    "# Load and filter data¶"
   ]
  },
  {
   "cell_type": "code",
   "execution_count": 128,
   "metadata": {},
   "outputs": [],
   "source": [
    "# period filter\n",
    "start = '2018-01-01 00:00:00+00:00'\n",
    "end = '2018-12-31 23:00:00+00:00'"
   ]
  },
  {
   "cell_type": "markdown",
   "metadata": {},
   "source": [
    "## load and standardize data timeseries_opsd"
   ]
  },
  {
   "cell_type": "code",
   "execution_count": 129,
   "metadata": {},
   "outputs": [],
   "source": [
    "entsoe_gen_type = load_timeseries_opsd(fn=input_directory_path + '/time_series_60min_stacked.csv')"
   ]
  },
  {
   "cell_type": "code",
   "execution_count": 130,
   "metadata": {},
   "outputs": [],
   "source": [
    "entsoe_gen_type = entsoe_gen_type.loc[start:end].copy()"
   ]
  },
  {
   "cell_type": "code",
   "execution_count": 131,
   "metadata": {},
   "outputs": [
    {
     "data": {
      "text/plain": [
       "array(['AT', 'BE', 'BG', 'CH', 'CY', 'CZ', 'DE', 'DK', 'EE', 'ES', 'FI',\n",
       "       'FR', 'GR', 'HU', 'IE', 'IT', 'LT', 'LV', 'ME', 'NL', 'NO', 'PL',\n",
       "       'PT', 'RO', 'RS', 'SE', 'SI', 'SK'], dtype=object)"
      ]
     },
     "execution_count": 131,
     "metadata": {},
     "output_type": "execute_result"
    }
   ],
   "source": [
    "entsoe_gen_type.region.unique()"
   ]
  },
  {
   "cell_type": "code",
   "execution_count": 132,
   "metadata": {},
   "outputs": [],
   "source": [
    "# replace region GB_UKM with GB\n",
    "entsoe_gen_type.region = entsoe_gen_type.region.replace({'GB_UKM' : 'GB'})"
   ]
  },
  {
   "cell_type": "code",
   "execution_count": 133,
   "metadata": {},
   "outputs": [
    {
     "data": {
      "text/plain": [
       "array(['Biomass', 'Fossil Gas', 'Fossil Hard coal', 'Geothermal',\n",
       "       'Hydro Pumped Storage', 'Hydro Run-of-river and poundage',\n",
       "       'Hydro Water Reservoir', 'Other', 'Solar', 'Waste', 'Wind Onshore',\n",
       "       'Fossil Oil', 'Nuclear', 'Wind Offshore',\n",
       "       'Fossil Brown coal/Lignite', 'Fossil Coal-derived gas',\n",
       "       'Other renewable', 'Fossil Peat'], dtype=object)"
      ]
     },
     "execution_count": 133,
     "metadata": {},
     "output_type": "execute_result"
    }
   ],
   "source": [
    "entsoe_gen_type.variable.unique()"
   ]
  },
  {
   "cell_type": "code",
   "execution_count": 134,
   "metadata": {},
   "outputs": [],
   "source": [
    "# change ProductionTypeNames into INATECH technology type names\n",
    "entsoe_gen_type.variable = convert_ENTSOE_to_INATECH_type(entsoe_gen_type.variable)"
   ]
  },
  {
   "cell_type": "code",
   "execution_count": 135,
   "metadata": {},
   "outputs": [
    {
     "data": {
      "text/plain": [
       "array(['biomass', 'gas', 'hard_coal', 'other_renewable', 'hydro',\n",
       "       'other_fossil', 'solar', 'waste', 'wind_onshore', 'nuclear',\n",
       "       'wind_offshore', 'lignite'], dtype=object)"
      ]
     },
     "execution_count": 135,
     "metadata": {},
     "output_type": "execute_result"
    }
   ],
   "source": [
    "entsoe_gen_type.variable.unique()"
   ]
  },
  {
   "cell_type": "code",
   "execution_count": 136,
   "metadata": {},
   "outputs": [],
   "source": [
    "# after changing the production type we need to group the dataset\n",
    "# reset index for groupby function\n",
    "entsoe_gen_type.reset_index(inplace=True)\n",
    "# group same production types\n",
    "entsoe_gen_type = entsoe_gen_type.groupby(['variable', 'utc_timestamp','region']).sum()\n",
    "# set the old index for the dataframe\n",
    "entsoe_gen_type = entsoe_gen_type.reset_index().set_index('utc_timestamp')"
   ]
  },
  {
   "cell_type": "code",
   "execution_count": 137,
   "metadata": {},
   "outputs": [
    {
     "data": {
      "text/html": [
       "<div>\n",
       "<style scoped>\n",
       "    .dataframe tbody tr th:only-of-type {\n",
       "        vertical-align: middle;\n",
       "    }\n",
       "\n",
       "    .dataframe tbody tr th {\n",
       "        vertical-align: top;\n",
       "    }\n",
       "\n",
       "    .dataframe thead th {\n",
       "        text-align: right;\n",
       "    }\n",
       "</style>\n",
       "<table border=\"1\" class=\"dataframe\">\n",
       "  <thead>\n",
       "    <tr style=\"text-align: right;\">\n",
       "      <th></th>\n",
       "      <th>variable</th>\n",
       "      <th>region</th>\n",
       "      <th>data</th>\n",
       "    </tr>\n",
       "    <tr>\n",
       "      <th>utc_timestamp</th>\n",
       "      <th></th>\n",
       "      <th></th>\n",
       "      <th></th>\n",
       "    </tr>\n",
       "  </thead>\n",
       "  <tbody>\n",
       "    <tr>\n",
       "      <th>2018-01-01 00:00:00+00:00</th>\n",
       "      <td>biomass</td>\n",
       "      <td>AT</td>\n",
       "      <td>316.00</td>\n",
       "    </tr>\n",
       "    <tr>\n",
       "      <th>2018-01-01 00:00:00+00:00</th>\n",
       "      <td>biomass</td>\n",
       "      <td>BE</td>\n",
       "      <td>232.46</td>\n",
       "    </tr>\n",
       "    <tr>\n",
       "      <th>2018-01-01 00:00:00+00:00</th>\n",
       "      <td>biomass</td>\n",
       "      <td>BG</td>\n",
       "      <td>28.00</td>\n",
       "    </tr>\n",
       "    <tr>\n",
       "      <th>2018-01-01 00:00:00+00:00</th>\n",
       "      <td>biomass</td>\n",
       "      <td>CZ</td>\n",
       "      <td>261.78</td>\n",
       "    </tr>\n",
       "    <tr>\n",
       "      <th>2018-01-01 00:00:00+00:00</th>\n",
       "      <td>biomass</td>\n",
       "      <td>DE</td>\n",
       "      <td>4764.00</td>\n",
       "    </tr>\n",
       "    <tr>\n",
       "      <th>2018-01-01 00:00:00+00:00</th>\n",
       "      <td>biomass</td>\n",
       "      <td>DK</td>\n",
       "      <td>587.00</td>\n",
       "    </tr>\n",
       "    <tr>\n",
       "      <th>2018-01-01 00:00:00+00:00</th>\n",
       "      <td>biomass</td>\n",
       "      <td>EE</td>\n",
       "      <td>71.10</td>\n",
       "    </tr>\n",
       "    <tr>\n",
       "      <th>2018-01-01 00:00:00+00:00</th>\n",
       "      <td>biomass</td>\n",
       "      <td>ES</td>\n",
       "      <td>275.00</td>\n",
       "    </tr>\n",
       "    <tr>\n",
       "      <th>2018-01-01 00:00:00+00:00</th>\n",
       "      <td>biomass</td>\n",
       "      <td>FI</td>\n",
       "      <td>855.71</td>\n",
       "    </tr>\n",
       "    <tr>\n",
       "      <th>2018-01-01 00:00:00+00:00</th>\n",
       "      <td>biomass</td>\n",
       "      <td>FR</td>\n",
       "      <td>293.00</td>\n",
       "    </tr>\n",
       "  </tbody>\n",
       "</table>\n",
       "</div>"
      ],
      "text/plain": [
       "                          variable region     data\n",
       "utc_timestamp                                     \n",
       "2018-01-01 00:00:00+00:00  biomass     AT   316.00\n",
       "2018-01-01 00:00:00+00:00  biomass     BE   232.46\n",
       "2018-01-01 00:00:00+00:00  biomass     BG    28.00\n",
       "2018-01-01 00:00:00+00:00  biomass     CZ   261.78\n",
       "2018-01-01 00:00:00+00:00  biomass     DE  4764.00\n",
       "2018-01-01 00:00:00+00:00  biomass     DK   587.00\n",
       "2018-01-01 00:00:00+00:00  biomass     EE    71.10\n",
       "2018-01-01 00:00:00+00:00  biomass     ES   275.00\n",
       "2018-01-01 00:00:00+00:00  biomass     FI   855.71\n",
       "2018-01-01 00:00:00+00:00  biomass     FR   293.00"
      ]
     },
     "execution_count": 137,
     "metadata": {},
     "output_type": "execute_result"
    }
   ],
   "source": [
    "# show the head of the data set \n",
    "entsoe_gen_type.head(10)"
   ]
  },
  {
   "cell_type": "code",
   "execution_count": 138,
   "metadata": {},
   "outputs": [],
   "source": [
    "# convert entso data into table format\n",
    "entsoe_gen_type_table =  pd.pivot_table(entsoe_gen_type, values='data', index=entsoe_gen_type.index, columns=['region','variable'])"
   ]
  },
  {
   "cell_type": "code",
   "execution_count": 139,
   "metadata": {},
   "outputs": [
    {
     "data": {
      "text/html": [
       "<div>\n",
       "<style scoped>\n",
       "    .dataframe tbody tr th:only-of-type {\n",
       "        vertical-align: middle;\n",
       "    }\n",
       "\n",
       "    .dataframe tbody tr th {\n",
       "        vertical-align: top;\n",
       "    }\n",
       "\n",
       "    .dataframe thead tr th {\n",
       "        text-align: left;\n",
       "    }\n",
       "\n",
       "    .dataframe thead tr:last-of-type th {\n",
       "        text-align: right;\n",
       "    }\n",
       "</style>\n",
       "<table border=\"1\" class=\"dataframe\">\n",
       "  <thead>\n",
       "    <tr>\n",
       "      <th>region</th>\n",
       "      <th colspan=\"9\" halign=\"left\">AT</th>\n",
       "      <th>BE</th>\n",
       "      <th>...</th>\n",
       "      <th>SI</th>\n",
       "      <th colspan=\"9\" halign=\"left\">SK</th>\n",
       "    </tr>\n",
       "    <tr>\n",
       "      <th>variable</th>\n",
       "      <th>biomass</th>\n",
       "      <th>gas</th>\n",
       "      <th>hard_coal</th>\n",
       "      <th>hydro</th>\n",
       "      <th>other_fossil</th>\n",
       "      <th>other_renewable</th>\n",
       "      <th>solar</th>\n",
       "      <th>waste</th>\n",
       "      <th>wind_onshore</th>\n",
       "      <th>biomass</th>\n",
       "      <th>...</th>\n",
       "      <th>wind_onshore</th>\n",
       "      <th>biomass</th>\n",
       "      <th>gas</th>\n",
       "      <th>hard_coal</th>\n",
       "      <th>hydro</th>\n",
       "      <th>lignite</th>\n",
       "      <th>nuclear</th>\n",
       "      <th>other_fossil</th>\n",
       "      <th>other_renewable</th>\n",
       "      <th>solar</th>\n",
       "    </tr>\n",
       "    <tr>\n",
       "      <th>utc_timestamp</th>\n",
       "      <th></th>\n",
       "      <th></th>\n",
       "      <th></th>\n",
       "      <th></th>\n",
       "      <th></th>\n",
       "      <th></th>\n",
       "      <th></th>\n",
       "      <th></th>\n",
       "      <th></th>\n",
       "      <th></th>\n",
       "      <th></th>\n",
       "      <th></th>\n",
       "      <th></th>\n",
       "      <th></th>\n",
       "      <th></th>\n",
       "      <th></th>\n",
       "      <th></th>\n",
       "      <th></th>\n",
       "      <th></th>\n",
       "      <th></th>\n",
       "      <th></th>\n",
       "    </tr>\n",
       "  </thead>\n",
       "  <tbody>\n",
       "    <tr>\n",
       "      <th>2018-01-01 00:00:00+00:00</th>\n",
       "      <td>316.0</td>\n",
       "      <td>71.0</td>\n",
       "      <td>150.0</td>\n",
       "      <td>3345.0</td>\n",
       "      <td>22.0</td>\n",
       "      <td>0.0</td>\n",
       "      <td>0.0</td>\n",
       "      <td>100.0</td>\n",
       "      <td>832.0</td>\n",
       "      <td>232.46</td>\n",
       "      <td>...</td>\n",
       "      <td>0.70</td>\n",
       "      <td>28.2</td>\n",
       "      <td>175.6</td>\n",
       "      <td>48.1</td>\n",
       "      <td>455.93</td>\n",
       "      <td>179.5</td>\n",
       "      <td>1819.3</td>\n",
       "      <td>478.8</td>\n",
       "      <td>41.4</td>\n",
       "      <td>0.0</td>\n",
       "    </tr>\n",
       "    <tr>\n",
       "      <th>2018-01-01 01:00:00+00:00</th>\n",
       "      <td>316.0</td>\n",
       "      <td>70.0</td>\n",
       "      <td>149.0</td>\n",
       "      <td>3275.0</td>\n",
       "      <td>22.0</td>\n",
       "      <td>0.0</td>\n",
       "      <td>0.0</td>\n",
       "      <td>100.0</td>\n",
       "      <td>926.0</td>\n",
       "      <td>153.58</td>\n",
       "      <td>...</td>\n",
       "      <td>0.61</td>\n",
       "      <td>28.1</td>\n",
       "      <td>172.9</td>\n",
       "      <td>48.0</td>\n",
       "      <td>461.95</td>\n",
       "      <td>177.9</td>\n",
       "      <td>1816.7</td>\n",
       "      <td>475.8</td>\n",
       "      <td>41.0</td>\n",
       "      <td>0.0</td>\n",
       "    </tr>\n",
       "    <tr>\n",
       "      <th>2018-01-01 02:00:00+00:00</th>\n",
       "      <td>316.0</td>\n",
       "      <td>69.0</td>\n",
       "      <td>149.0</td>\n",
       "      <td>3167.0</td>\n",
       "      <td>22.0</td>\n",
       "      <td>0.0</td>\n",
       "      <td>0.0</td>\n",
       "      <td>100.0</td>\n",
       "      <td>692.0</td>\n",
       "      <td>133.70</td>\n",
       "      <td>...</td>\n",
       "      <td>0.57</td>\n",
       "      <td>28.1</td>\n",
       "      <td>162.1</td>\n",
       "      <td>46.7</td>\n",
       "      <td>513.39</td>\n",
       "      <td>174.7</td>\n",
       "      <td>1808.7</td>\n",
       "      <td>469.5</td>\n",
       "      <td>40.8</td>\n",
       "      <td>0.0</td>\n",
       "    </tr>\n",
       "    <tr>\n",
       "      <th>2018-01-01 03:00:00+00:00</th>\n",
       "      <td>316.0</td>\n",
       "      <td>72.0</td>\n",
       "      <td>149.0</td>\n",
       "      <td>3160.0</td>\n",
       "      <td>22.0</td>\n",
       "      <td>0.0</td>\n",
       "      <td>0.0</td>\n",
       "      <td>100.0</td>\n",
       "      <td>453.0</td>\n",
       "      <td>131.38</td>\n",
       "      <td>...</td>\n",
       "      <td>0.62</td>\n",
       "      <td>29.7</td>\n",
       "      <td>140.3</td>\n",
       "      <td>45.3</td>\n",
       "      <td>587.83</td>\n",
       "      <td>168.5</td>\n",
       "      <td>1803.6</td>\n",
       "      <td>455.6</td>\n",
       "      <td>39.4</td>\n",
       "      <td>0.0</td>\n",
       "    </tr>\n",
       "    <tr>\n",
       "      <th>2018-01-01 04:00:00+00:00</th>\n",
       "      <td>316.0</td>\n",
       "      <td>75.0</td>\n",
       "      <td>149.0</td>\n",
       "      <td>3330.0</td>\n",
       "      <td>22.0</td>\n",
       "      <td>0.0</td>\n",
       "      <td>0.0</td>\n",
       "      <td>100.0</td>\n",
       "      <td>321.0</td>\n",
       "      <td>131.26</td>\n",
       "      <td>...</td>\n",
       "      <td>0.56</td>\n",
       "      <td>29.5</td>\n",
       "      <td>143.5</td>\n",
       "      <td>46.4</td>\n",
       "      <td>562.89</td>\n",
       "      <td>170.6</td>\n",
       "      <td>1809.1</td>\n",
       "      <td>461.5</td>\n",
       "      <td>40.4</td>\n",
       "      <td>0.0</td>\n",
       "    </tr>\n",
       "  </tbody>\n",
       "</table>\n",
       "<p>5 rows × 205 columns</p>\n",
       "</div>"
      ],
      "text/plain": [
       "region                         AT                                       \\\n",
       "variable                  biomass   gas hard_coal   hydro other_fossil   \n",
       "utc_timestamp                                                            \n",
       "2018-01-01 00:00:00+00:00   316.0  71.0     150.0  3345.0         22.0   \n",
       "2018-01-01 01:00:00+00:00   316.0  70.0     149.0  3275.0         22.0   \n",
       "2018-01-01 02:00:00+00:00   316.0  69.0     149.0  3167.0         22.0   \n",
       "2018-01-01 03:00:00+00:00   316.0  72.0     149.0  3160.0         22.0   \n",
       "2018-01-01 04:00:00+00:00   316.0  75.0     149.0  3330.0         22.0   \n",
       "\n",
       "region                                                                   BE  \\\n",
       "variable                  other_renewable solar  waste wind_onshore biomass   \n",
       "utc_timestamp                                                                 \n",
       "2018-01-01 00:00:00+00:00             0.0   0.0  100.0        832.0  232.46   \n",
       "2018-01-01 01:00:00+00:00             0.0   0.0  100.0        926.0  153.58   \n",
       "2018-01-01 02:00:00+00:00             0.0   0.0  100.0        692.0  133.70   \n",
       "2018-01-01 03:00:00+00:00             0.0   0.0  100.0        453.0  131.38   \n",
       "2018-01-01 04:00:00+00:00             0.0   0.0  100.0        321.0  131.26   \n",
       "\n",
       "region                     ...           SI      SK                           \\\n",
       "variable                   ... wind_onshore biomass    gas hard_coal   hydro   \n",
       "utc_timestamp              ...                                                 \n",
       "2018-01-01 00:00:00+00:00  ...         0.70    28.2  175.6      48.1  455.93   \n",
       "2018-01-01 01:00:00+00:00  ...         0.61    28.1  172.9      48.0  461.95   \n",
       "2018-01-01 02:00:00+00:00  ...         0.57    28.1  162.1      46.7  513.39   \n",
       "2018-01-01 03:00:00+00:00  ...         0.62    29.7  140.3      45.3  587.83   \n",
       "2018-01-01 04:00:00+00:00  ...         0.56    29.5  143.5      46.4  562.89   \n",
       "\n",
       "region                                                                        \n",
       "variable                  lignite nuclear other_fossil other_renewable solar  \n",
       "utc_timestamp                                                                 \n",
       "2018-01-01 00:00:00+00:00   179.5  1819.3        478.8            41.4   0.0  \n",
       "2018-01-01 01:00:00+00:00   177.9  1816.7        475.8            41.0   0.0  \n",
       "2018-01-01 02:00:00+00:00   174.7  1808.7        469.5            40.8   0.0  \n",
       "2018-01-01 03:00:00+00:00   168.5  1803.6        455.6            39.4   0.0  \n",
       "2018-01-01 04:00:00+00:00   170.6  1809.1        461.5            40.4   0.0  \n",
       "\n",
       "[5 rows x 205 columns]"
      ]
     },
     "execution_count": 139,
     "metadata": {},
     "output_type": "execute_result"
    }
   ],
   "source": [
    "entsoe_gen_type_table.head()"
   ]
  },
  {
   "cell_type": "markdown",
   "metadata": {},
   "source": [
    "## load and standardize data Stats FACT"
   ]
  },
  {
   "cell_type": "code",
   "execution_count": 140,
   "metadata": {},
   "outputs": [],
   "source": [
    "# load data\n",
    "entsoe_stats = load_stats_factsheet(input_directory_path, 'Stats_FACT_table.csv')"
   ]
  },
  {
   "cell_type": "code",
   "execution_count": 141,
   "metadata": {},
   "outputs": [
    {
     "data": {
      "text/html": [
       "<div>\n",
       "<style scoped>\n",
       "    .dataframe tbody tr th:only-of-type {\n",
       "        vertical-align: middle;\n",
       "    }\n",
       "\n",
       "    .dataframe tbody tr th {\n",
       "        vertical-align: top;\n",
       "    }\n",
       "\n",
       "    .dataframe thead tr th {\n",
       "        text-align: left;\n",
       "    }\n",
       "\n",
       "    .dataframe thead tr:last-of-type th {\n",
       "        text-align: right;\n",
       "    }\n",
       "</style>\n",
       "<table border=\"1\" class=\"dataframe\">\n",
       "  <thead>\n",
       "    <tr>\n",
       "      <th>country</th>\n",
       "      <th colspan=\"10\" halign=\"left\">AL</th>\n",
       "      <th>...</th>\n",
       "      <th colspan=\"10\" halign=\"left\">TR</th>\n",
       "    </tr>\n",
       "    <tr>\n",
       "      <th>source</th>\n",
       "      <th>biomass</th>\n",
       "      <th>gas</th>\n",
       "      <th>hard_coal</th>\n",
       "      <th>hydro</th>\n",
       "      <th>lignite</th>\n",
       "      <th>nuclear</th>\n",
       "      <th>other_fossil</th>\n",
       "      <th>other_renewable</th>\n",
       "      <th>solar</th>\n",
       "      <th>waste</th>\n",
       "      <th>...</th>\n",
       "      <th>hard_coal</th>\n",
       "      <th>hydro</th>\n",
       "      <th>lignite</th>\n",
       "      <th>nuclear</th>\n",
       "      <th>other_fossil</th>\n",
       "      <th>other_renewable</th>\n",
       "      <th>solar</th>\n",
       "      <th>waste</th>\n",
       "      <th>wind_offshore</th>\n",
       "      <th>wind_onshore</th>\n",
       "    </tr>\n",
       "    <tr>\n",
       "      <th>year</th>\n",
       "      <th></th>\n",
       "      <th></th>\n",
       "      <th></th>\n",
       "      <th></th>\n",
       "      <th></th>\n",
       "      <th></th>\n",
       "      <th></th>\n",
       "      <th></th>\n",
       "      <th></th>\n",
       "      <th></th>\n",
       "      <th></th>\n",
       "      <th></th>\n",
       "      <th></th>\n",
       "      <th></th>\n",
       "      <th></th>\n",
       "      <th></th>\n",
       "      <th></th>\n",
       "      <th></th>\n",
       "      <th></th>\n",
       "      <th></th>\n",
       "      <th></th>\n",
       "    </tr>\n",
       "  </thead>\n",
       "  <tbody>\n",
       "    <tr>\n",
       "      <th>2018-01-01</th>\n",
       "      <td>0.0</td>\n",
       "      <td>0.0</td>\n",
       "      <td>0.0</td>\n",
       "      <td>8100000.0</td>\n",
       "      <td>0.0</td>\n",
       "      <td>0.0</td>\n",
       "      <td>0.0</td>\n",
       "      <td>0.0</td>\n",
       "      <td>0.0</td>\n",
       "      <td>0.0</td>\n",
       "      <td>...</td>\n",
       "      <td>67800000.0</td>\n",
       "      <td>59800000.0</td>\n",
       "      <td>44800000.0</td>\n",
       "      <td>0.0</td>\n",
       "      <td>1400000.0</td>\n",
       "      <td>6900000.0</td>\n",
       "      <td>7200000.0</td>\n",
       "      <td>0.0</td>\n",
       "      <td>0.0</td>\n",
       "      <td>19900000.0</td>\n",
       "    </tr>\n",
       "  </tbody>\n",
       "</table>\n",
       "<p>1 rows × 432 columns</p>\n",
       "</div>"
      ],
      "text/plain": [
       "country         AL                                                         \\\n",
       "source     biomass  gas hard_coal      hydro lignite nuclear other_fossil   \n",
       "year                                                                        \n",
       "2018-01-01     0.0  0.0       0.0  8100000.0     0.0     0.0          0.0   \n",
       "\n",
       "country                                 ...          TR              \\\n",
       "source     other_renewable solar waste  ...   hard_coal       hydro   \n",
       "year                                    ...                           \n",
       "2018-01-01             0.0   0.0   0.0  ...  67800000.0  59800000.0   \n",
       "\n",
       "country                                                                       \\\n",
       "source         lignite nuclear other_fossil other_renewable      solar waste   \n",
       "year                                                                           \n",
       "2018-01-01  44800000.0     0.0    1400000.0       6900000.0  7200000.0   0.0   \n",
       "\n",
       "country                                \n",
       "source     wind_offshore wind_onshore  \n",
       "year                                   \n",
       "2018-01-01           0.0   19900000.0  \n",
       "\n",
       "[1 rows x 432 columns]"
      ]
     },
     "execution_count": 141,
     "metadata": {},
     "output_type": "execute_result"
    }
   ],
   "source": [
    "# show the data set\n",
    "entsoe_stats"
   ]
  },
  {
   "cell_type": "markdown",
   "metadata": {},
   "source": [
    "## Scaling entsoe generation data"
   ]
  },
  {
   "cell_type": "code",
   "execution_count": 142,
   "metadata": {},
   "outputs": [],
   "source": [
    "# available countries in entsoe stats data set\n",
    "countries = entsoe_stats.columns.get_level_values('country').unique().to_list()"
   ]
  },
  {
   "cell_type": "code",
   "execution_count": 143,
   "metadata": {},
   "outputs": [],
   "source": [
    "# filter entso e data\n",
    "entsoe_gen_type.query('region in @countries', inplace= True)"
   ]
  },
  {
   "cell_type": "code",
   "execution_count": 144,
   "metadata": {},
   "outputs": [],
   "source": [
    "# zwei Möglichkeiten zu skalieren\n",
    "#1 skaliere nur, wenn der Wert in Quelle größer 0 ist und großer als im zu skalierenden Datensatz ist. Sonst überspringe und skaliere nicht."
   ]
  },
  {
   "cell_type": "code",
   "execution_count": 145,
   "metadata": {},
   "outputs": [
    {
     "name": "stdout",
     "output_type": "stream",
     "text": [
      "AT biomass\n",
      "AT solar\n",
      "AT waste\n",
      "AT wind_onshore\n",
      "BE gas\n",
      "BE nuclear\n",
      "BE other_fossil\n",
      "BE solar\n",
      "BE waste\n",
      "BG gas\n",
      "BG hard_coal\n",
      "BG lignite\n",
      "BG nuclear\n",
      "BG waste\n",
      "CH nuclear\n",
      "CY wind_onshore\n",
      "CZ hard_coal\n",
      "CZ hydro\n",
      "CZ other_fossil\n",
      "CZ other_renewable\n",
      "CZ solar\n",
      "CZ waste\n",
      "CZ wind_onshore\n",
      "DE biomass\n",
      "DE hydro\n",
      "DE other_fossil\n",
      "DE solar\n",
      "DE wind_offshore\n",
      "DE wind_onshore\n",
      "DK biomass\n",
      "DK gas\n",
      "DK other_fossil\n",
      "DK waste\n",
      "DK wind_onshore\n",
      "EE gas\n",
      "EE other_renewable\n",
      "EE solar\n",
      "EE waste\n",
      "EE wind_onshore\n",
      "ES hard_coal\n",
      "ES hydro\n",
      "ES nuclear\n",
      "ES waste\n",
      "FI gas\n",
      "FI hard_coal\n",
      "FI other_fossil\n",
      "FI other_renewable\n",
      "FI waste\n",
      "FR hard_coal\n",
      "GR gas\n",
      "GR lignite\n",
      "HU gas\n",
      "HU lignite\n",
      "HU nuclear\n",
      "HU other_fossil\n",
      "HU waste\n",
      "IE hard_coal\n",
      "IE hydro\n",
      "IE other_fossil\n",
      "IE wind_onshore\n",
      "IT other_fossil\n",
      "IT wind_onshore\n",
      "LT biomass\n",
      "LT hydro\n",
      "LT waste\n",
      "LT wind_onshore\n",
      "LV gas\n",
      "LV other_fossil\n",
      "LV wind_onshore\n",
      "ME lignite\n",
      "NL nuclear\n",
      "NL other_fossil\n",
      "NL waste\n",
      "NL wind_offshore\n",
      "NO hydro\n",
      "NO other_fossil\n",
      "PL hard_coal\n",
      "PT gas\n",
      "PT hard_coal\n",
      "PT hydro\n",
      "PT other_fossil\n",
      "PT solar\n",
      "RO biomass\n",
      "RO gas\n",
      "RO hard_coal\n",
      "RO hydro\n",
      "RO lignite\n",
      "RO nuclear\n",
      "RS biomass\n",
      "RS hydro\n",
      "RS other_fossil\n",
      "SE hydro\n",
      "SE other_fossil\n",
      "SI gas\n",
      "SI lignite\n",
      "SI solar\n",
      "SI waste\n",
      "SI wind_onshore\n",
      "SK lignite\n",
      "SK nuclear\n",
      "SK other_fossil\n",
      "SK other_renewable\n"
     ]
    }
   ],
   "source": [
    "#1\n",
    "def normed(x): return x.divide(x.sum())\n",
    "\n",
    "countries = entsoe_gen_type_table.columns.levels[0].to_list()\n",
    "\n",
    "entso_scaled = entsoe_gen_type_table.copy()\n",
    "\n",
    "for country in countries:\n",
    "    for i in entso_scaled[country]:\n",
    "        try:\n",
    "            if entsoe_stats[country].at['2018',i] == 0:\n",
    "                pass\n",
    "                print(country + ' ' +i)\n",
    "            elif entsoe_stats[country].at['2018',i] < entso_scaled[(country,i)].sum(): \n",
    "                pass\n",
    "                print(country + ' ' +i)\n",
    "            else:\n",
    "                entso_scaled[(country,i)] = normed(entso_scaled[(country,i)]) * entsoe_stats[country].at['2018',i]\n",
    "        except KeyError:\n",
    "            pass\n",
    "            print(country + ' ' +i)"
   ]
  },
  {
   "cell_type": "code",
   "execution_count": 146,
   "metadata": {},
   "outputs": [],
   "source": [
    "# 2 Option\n",
    "\n",
    "#def normed(x): return x.divide(x.sum())\n",
    "\n",
    "#countries = entsoe_gen_type_table.columns.levels[0].to_list()\n",
    "\n",
    "#entso_scaled = entsoe_gen_type_table.copy()\n",
    "\n",
    "#for country in countries:\n",
    "#    for i in entso_scaled[country]:\n",
    "#        if entsoe_stats[country].at['2018',i] == 0:\n",
    "#            pass\n",
    "#            print(country + ' ' +i)\n",
    "#        else:\n",
    "#            try:\n",
    "#                entso_scaled[(country,i)] = normed(entso_scaled[(country,i)]) * entsoe_stats[country].at['2018',i]\n",
    "#            except KeyError:\n",
    "#                pass\n",
    "#                print(country + ' ' +i)"
   ]
  },
  {
   "cell_type": "markdown",
   "metadata": {},
   "source": [
    "## Check scaling"
   ]
  },
  {
   "cell_type": "code",
   "execution_count": 207,
   "metadata": {},
   "outputs": [],
   "source": [
    "country = 'NL'"
   ]
  },
  {
   "cell_type": "code",
   "execution_count": 208,
   "metadata": {},
   "outputs": [
    {
     "data": {
      "text/plain": [
       "variable\n",
       "biomass            239753.0\n",
       "gas              36625468.0\n",
       "hard_coal        10887558.0\n",
       "nuclear           3571693.0\n",
       "other_fossil      7770123.0\n",
       "solar             2130133.0\n",
       "waste              329325.0\n",
       "wind_offshore     3574250.0\n",
       "wind_onshore      5644886.0\n",
       "dtype: float64"
      ]
     },
     "execution_count": 208,
     "metadata": {},
     "output_type": "execute_result"
    }
   ],
   "source": [
    "entsoe_gen_type_table[country].sum()"
   ]
  },
  {
   "cell_type": "code",
   "execution_count": 209,
   "metadata": {},
   "outputs": [
    {
     "data": {
      "text/plain": [
       "70773189.0"
      ]
     },
     "execution_count": 209,
     "metadata": {},
     "output_type": "execute_result"
    }
   ],
   "source": [
    "entsoe_gen_type_table[country].sum().sum()"
   ]
  },
  {
   "cell_type": "code",
   "execution_count": 210,
   "metadata": {},
   "outputs": [
    {
     "data": {
      "text/plain": [
       "variable\n",
       "biomass           3500000.0\n",
       "gas              71400000.0\n",
       "hard_coal        16700000.0\n",
       "nuclear           3571693.0\n",
       "other_fossil      7770123.0\n",
       "solar             3100000.0\n",
       "waste              329325.0\n",
       "wind_offshore     3574250.0\n",
       "wind_onshore      7400000.0\n",
       "dtype: float64"
      ]
     },
     "execution_count": 210,
     "metadata": {},
     "output_type": "execute_result"
    }
   ],
   "source": [
    "entso_scaled[country].sum()"
   ]
  },
  {
   "cell_type": "code",
   "execution_count": 211,
   "metadata": {},
   "outputs": [
    {
     "data": {
      "text/plain": [
       "117345391.00000045"
      ]
     },
     "execution_count": 211,
     "metadata": {},
     "output_type": "execute_result"
    }
   ],
   "source": [
    "entso_scaled[country].sum().sum()"
   ]
  },
  {
   "cell_type": "code",
   "execution_count": 212,
   "metadata": {},
   "outputs": [
    {
     "data": {
      "text/plain": [
       "source\n",
       "biomass             3500000.0\n",
       "gas                71400000.0\n",
       "hard_coal          16700000.0\n",
       "hydro                100000.0\n",
       "lignite                   0.0\n",
       "nuclear             2800000.0\n",
       "other_fossil              0.0\n",
       "other_renewable           0.0\n",
       "solar               3100000.0\n",
       "waste                     0.0\n",
       "wind_offshore       3500000.0\n",
       "wind_onshore        7400000.0\n",
       "dtype: float64"
      ]
     },
     "execution_count": 212,
     "metadata": {},
     "output_type": "execute_result"
    }
   ],
   "source": [
    "entsoe_stats[country].sum()"
   ]
  },
  {
   "cell_type": "code",
   "execution_count": 206,
   "metadata": {},
   "outputs": [
    {
     "data": {
      "text/plain": [
       "10200000.0"
      ]
     },
     "execution_count": 206,
     "metadata": {},
     "output_type": "execute_result"
    }
   ],
   "source": [
    "entsoe_stats[country].sum().sum()"
   ]
  },
  {
   "cell_type": "code",
   "execution_count": 159,
   "metadata": {},
   "outputs": [],
   "source": [
    "GE_compar = pd.DataFrame()"
   ]
  },
  {
   "cell_type": "code",
   "execution_count": 166,
   "metadata": {},
   "outputs": [
    {
     "data": {
      "text/plain": [
       "Index([0, 'ENTSO_E_Generation_scaled'], dtype='object')"
      ]
     },
     "execution_count": 166,
     "metadata": {},
     "output_type": "execute_result"
    }
   ],
   "source": [
    "GE_compar.columns"
   ]
  },
  {
   "cell_type": "code",
   "execution_count": 161,
   "metadata": {},
   "outputs": [],
   "source": [
    "GE_compar = entsoe_gen_type_table.sum().reset_index().groupby('region').sum()"
   ]
  },
  {
   "cell_type": "code",
   "execution_count": 162,
   "metadata": {},
   "outputs": [],
   "source": [
    "GE_compar['ENTSO_E_Generation_scaled'] = entso_scaled.sum().reset_index().groupby('region').sum()"
   ]
  },
  {
   "cell_type": "code",
   "execution_count": 168,
   "metadata": {},
   "outputs": [],
   "source": [
    "GE_compar['diff'] = GE_compar['ENTSO_E_Generation_scaled'] - GE_compar[0]\n",
    "GE_compar['diff_pro'] = (100 / GE_compar[0]) * GE_compar['diff']\n",
    "\n",
    "#CI_compar['diff_bottom_up_vs_CI_1_top_down'] = CI_compar['CI_bottom_up'] - CI_compar['CI_1_top_down']\n",
    "#CI_compar['diff_pro_1'] = round((100 / CI_compar['CI_bottom_up']) * CI_compar['diff_bottom_up_vs_CI_1_top_down'])"
   ]
  },
  {
   "cell_type": "code",
   "execution_count": 196,
   "metadata": {},
   "outputs": [
    {
     "data": {
      "image/png": "[encoded data removed]",
      "text/plain": [
       "<Figure size 1080x432 with 1 Axes>"
      ]
     },
     "metadata": {},
     "output_type": "display_data"
    }
   ],
   "source": [
    "fig, ax = plt.subplots(1, 1)\n",
    "\n",
    "ax = round(GE_compar, 2).sort_values(by='diff_pro')['diff_pro'].plot(kind='bar', ylabel='Generation scaling (%)')\n",
    "\n",
    "ax.set_xlabel(\"Country\" , fontsize=20)\n",
    "ax.set_ylabel(\"Generation scaling (%)\", fontsize=20)\n",
    "\n",
    "ax.tick_params(axis='y',labelsize=19)\n",
    "ax.tick_params(axis='x',labelsize=19)\n",
    "\n",
    "\n",
    "ax.tick_params(axis='x', rotation=45)"
   ]
  },
  {
   "cell_type": "code",
   "execution_count": 197,
   "metadata": {},
   "outputs": [],
   "source": [
    "fig.savefig(os.path.join(output_directory_path + '/_generation_scaling.png'))"
   ]
  },
  {
   "cell_type": "code",
   "execution_count": 198,
   "metadata": {},
   "outputs": [
    {
     "data": {
      "text/plain": [
       "(0.0, 80.0)"
      ]
     },
     "execution_count": 198,
     "metadata": {},
     "output_type": "execute_result"
    },
    {
     "data": {
      "image/png": "[encoded data removed]",
      "text/plain": [
       "<Figure size 1080x432 with 1 Axes>"
      ]
     },
     "metadata": {},
     "output_type": "display_data"
    }
   ],
   "source": [
    "fig, ax = plt.subplots(1, 1)\n",
    "\n",
    "ax = round(GE_compar, 2).sort_values(by='diff_pro')['diff_pro'].plot(kind='bar', ylabel='Generation scaling (%)')\n",
    "\n",
    "ax.set_xlabel(\"Country\" , fontsize=20)\n",
    "ax.set_ylabel(\"Generation scaling (%)\", fontsize=20)\n",
    "\n",
    "ax.tick_params(axis='y',labelsize=19)\n",
    "ax.tick_params(axis='x',labelsize=19)\n",
    "\n",
    "\n",
    "ax.tick_params(axis='x', rotation=45)\n",
    "\n",
    "# zoom-in / limit the view to different portions of the data\n",
    "ax.set_ylim(0, 80)  # most of the data"
   ]
  },
  {
   "cell_type": "code",
   "execution_count": 199,
   "metadata": {},
   "outputs": [],
   "source": [
    "fig.savefig(os.path.join(output_directory_path + '/_generation_scaling_zoom.png'))"
   ]
  },
  {
   "cell_type": "markdown",
   "metadata": {},
   "source": [
    "# Export datasets"
   ]
  },
  {
   "cell_type": "code",
   "execution_count": 31,
   "metadata": {},
   "outputs": [],
   "source": [
    "entsoe_gen_type.to_csv(output_directory_path + '/entsoe_gen_type_hourly.csv')"
   ]
  },
  {
   "cell_type": "code",
   "execution_count": 32,
   "metadata": {},
   "outputs": [],
   "source": [
    "entsoe_gen_type_table.to_csv(output_directory_path + '/entsoe_gen_type_hourly_table.csv')"
   ]
  },
  {
   "cell_type": "code",
   "execution_count": 33,
   "metadata": {},
   "outputs": [],
   "source": [
    "entso_scaled.to_csv(output_directory_path + '/entso_gen_type_hourly_table_scaled.csv')"
   ]
  },
  {
   "cell_type": "markdown",
   "metadata": {},
   "source": [
    "# Export tech Dic"
   ]
  },
  {
   "cell_type": "code",
   "execution_count": 34,
   "metadata": {},
   "outputs": [],
   "source": [
    "dic = {\n",
    "            'Fossil Hard coal': 'hard_coal', \n",
    "            'Fossil Brown coal/Lignite': 'lignite', \n",
    "            'Fossil Gas': 'gas',\n",
    "            'Fossil Coal-derived gas': 'other_fossil',\n",
    "            'Fossil Peat': 'other_fossil',\n",
    "            'Nuclear': 'nuclear',\n",
    "            'Biomass': 'biomass',\n",
    "            'Waste': 'waste',\n",
    "            'Geothermal': 'other_renewable',\n",
    "            'Marine': 'other_renewable',\n",
    "            'Other': 'other_fossil',\n",
    "            'Hydro Pumped Storage': 'hydro',\n",
    "            'Hydro Run-of-river and poundage': 'hydro',\n",
    "            'Hydro Water Reservoir': 'hydro',\n",
    "            'Fossil Oil': 'other_fossil',\n",
    "            'Fossil Oil shale': 'other_fossil', \n",
    "            'Solar': 'solar',\n",
    "            'Wind Onshore': 'wind_onshore',\n",
    "            'Wind Offshore': 'wind_offshore',\n",
    "            'Other renewable': 'other_renewable'}"
   ]
  },
  {
   "cell_type": "code",
   "execution_count": 35,
   "metadata": {},
   "outputs": [],
   "source": [
    "pd.DataFrame.from_dict(dic, columns=['B'], orient='index').to_csv(output_directory_path + '/entso_gen_type_dic.csv')"
   ]
  },
  {
   "cell_type": "code",
   "execution_count": null,
   "metadata": {},
   "outputs": [],
   "source": []
  }
 ],
 "metadata": {
  "kernelspec": {
   "display_name": "Python 3",
   "language": "python",
   "name": "python3"
  },
  "language_info": {
   "codemirror_mode": {
    "name": "ipython",
    "version": 3
   },
   "file_extension": ".py",
   "mimetype": "text/x-python",
   "name": "python",
   "nbconvert_exporter": "python",
   "pygments_lexer": "ipython3",
   "version": "3.7.9"
  },
  "toc": {
   "base_numbering": 1,
   "nav_menu": {},
   "number_sections": true,
   "sideBar": true,
   "skip_h1_title": false,
   "title_cell": "Table of Contents",
   "title_sidebar": "Contents",
   "toc_cell": false,
   "toc_position": {},
   "toc_section_display": true,
   "toc_window_display": false
  }
 },
 "nbformat": 4,
 "nbformat_minor": 4
}
